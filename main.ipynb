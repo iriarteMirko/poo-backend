{
 "cells": [
  {
   "cell_type": "code",
   "execution_count": 1,
   "metadata": {},
   "outputs": [],
   "source": [
    "from profesor import Profesor\n",
    "from estudiante import Estudiante\n",
    "\n",
    "# Estudiante(nombre, apellido, correo, contraseña, ciclo, carrera, universidad, codigo)\n",
    "# Profesor(nombre, apellido, correo, contraseña, profesion, centro_laboral)\n",
    "# Curso(nombre, descripcion, Profesor)\n",
    "# Horario(Curso, dia, hora_inicio, hora_fin)\n",
    "# Calificacion(Estudiante, Profesor, puntuacion)"
   ]
  },
  {
   "cell_type": "code",
   "execution_count": 2,
   "metadata": {},
   "outputs": [
    {
     "name": "stdout",
     "output_type": "stream",
     "text": [
      "Estudiante(Juan, Perez, a@a, 123, 1, Ing. de Sistemas, ULIMA, 001)\n",
      "Estudiante(Maria, Gomez, c@c, 789, 2, Ing. de Sistemas, ULIMA, 002)\n",
      "Estudiante(Pedro, Torres, b@b, 456, 3, Ing. de Sistemas, ULIMA, 003)\n",
      "Estudiante(Ana, Lopez, d@d, 101, 4, Ing. de Sistemas, ULIMA, 004)\n",
      "Estudiante(Luis, Garcia, e@e, 202, 5, Ing. de Sistemas, ULIMA, 005)\n",
      "---------------------------------\n",
      "{'nombre': 'Juan', 'apellidos': 'Perez', 'correo': 'a@a', 'ciclo': '1', 'carrera': 'Ing. de Sistemas', 'universidad': 'ULIMA', 'codigo': '001', 'cursos': []}\n",
      "{'nombre': 'Maria', 'apellidos': 'Gomez', 'correo': 'c@c', 'ciclo': '2', 'carrera': 'Ing. de Sistemas', 'universidad': 'ULIMA', 'codigo': '002', 'cursos': []}\n",
      "{'nombre': 'Pedro', 'apellidos': 'Torres', 'correo': 'b@b', 'ciclo': '3', 'carrera': 'Ing. de Sistemas', 'universidad': 'ULIMA', 'codigo': '003', 'cursos': []}\n",
      "{'nombre': 'Ana', 'apellidos': 'Lopez', 'correo': 'd@d', 'ciclo': '4', 'carrera': 'Ing. de Sistemas', 'universidad': 'ULIMA', 'codigo': '004', 'cursos': []}\n",
      "{'nombre': 'Luis', 'apellidos': 'Garcia', 'correo': 'e@e', 'ciclo': '5', 'carrera': 'Ing. de Sistemas', 'universidad': 'ULIMA', 'codigo': '005', 'cursos': []}\n",
      "---------------------------------\n"
     ]
    }
   ],
   "source": [
    "estudiante1 = Estudiante('Juan', 'Perez', 'a@a', '123', '1', 'Ing. de Sistemas', 'ULIMA', '001')\n",
    "estudiante2 = Estudiante('Maria', 'Gomez', 'c@c', '789', '2', 'Ing. de Sistemas', 'ULIMA', '002')\n",
    "estudiante3 = Estudiante('Pedro', 'Torres', 'b@b', '456', '3', 'Ing. de Sistemas', 'ULIMA', '003')\n",
    "estudiante4 = Estudiante('Ana', 'Lopez', 'd@d', '101', '4', 'Ing. de Sistemas', 'ULIMA', '004')\n",
    "estudiante5 = Estudiante('Luis', 'Garcia', 'e@e', '202', '5', 'Ing. de Sistemas', 'ULIMA', '005')\n",
    "\n",
    "print(str(estudiante1)+'\\n'+str(estudiante2)+'\\n'+str(estudiante3)+'\\n'+str(estudiante4)+'\\n'+str(estudiante5))\n",
    "print('---------------------------------')\n",
    "print(str(estudiante1.obtener_datos())+'\\n'+str(estudiante2.obtener_datos())+'\\n'+str(estudiante3.obtener_datos())+'\\n'+str(estudiante4.obtener_datos())+'\\n'+str(estudiante5.obtener_datos()))\n",
    "print('---------------------------------')"
   ]
  },
  {
   "cell_type": "code",
   "execution_count": 3,
   "metadata": {},
   "outputs": [
    {
     "name": "stdout",
     "output_type": "stream",
     "text": [
      "Profesor(Carlos, Gomez, f@f, 123, Ing. de Sistemas, ULIMA)\n",
      "Profesor(Luis, Torres, g@g, 456, Ing. de Sistemas, ULIMA)\n",
      "Profesor(Ana, Lopez, h@h, 789, Ing. de Sistemas, ULIMA)\n",
      "---------------------------------\n",
      "{'nombre': 'Carlos', 'apellidos': 'Gomez', 'correo': 'f@f', 'profesion': 'Ing. de Sistemas', 'centro_laboral': 'ULIMA', 'cursos': [], 'puntuacion': 0}\n",
      "{'nombre': 'Luis', 'apellidos': 'Torres', 'correo': 'g@g', 'profesion': 'Ing. de Sistemas', 'centro_laboral': 'ULIMA', 'cursos': [], 'puntuacion': 0}\n",
      "{'nombre': 'Ana', 'apellidos': 'Lopez', 'correo': 'h@h', 'profesion': 'Ing. de Sistemas', 'centro_laboral': 'ULIMA', 'cursos': [], 'puntuacion': 0}\n",
      "---------------------------------\n"
     ]
    }
   ],
   "source": [
    "profesor1 = Profesor('Carlos', 'Gomez', 'f@f', '123', 'Ing. de Sistemas', 'ULIMA')\n",
    "profesor2 = Profesor('Luis', 'Torres', 'g@g', '456', 'Ing. de Sistemas', 'ULIMA')\n",
    "profesor3 = Profesor('Ana', 'Lopez', 'h@h', '789', 'Ing. de Sistemas', 'ULIMA')\n",
    "print(str(profesor1)+'\\n'+str(profesor2)+'\\n'+str(profesor3))\n",
    "print('---------------------------------')\n",
    "print(str(profesor1.obtener_datos())+'\\n'+str(profesor2.obtener_datos())+'\\n'+str(profesor3.obtener_datos()))\n",
    "print('---------------------------------')"
   ]
  },
  {
   "cell_type": "code",
   "execution_count": 4,
   "metadata": {},
   "outputs": [
    {
     "name": "stdout",
     "output_type": "stream",
     "text": [
      "Curso Curso 1 creado con exito.\n",
      "Curso Curso 2 creado con exito.\n",
      "Curso Curso 3 creado con exito.\n",
      "Curso Curso 4 creado con exito.\n",
      "Curso Curso 5 creado con exito.\n",
      "Curso Curso 6 creado con exito.\n",
      "---------------------------------\n",
      "Curso(Curso 1, Descripcion 1, Profesor(Carlos, Gomez, f@f, 123, Ing. de Sistemas, ULIMA), [], [])\n",
      "Curso(Curso 2, Descripcion 2, Profesor(Carlos, Gomez, f@f, 123, Ing. de Sistemas, ULIMA), [], [])\n",
      "Curso(Curso 3, Descripcion 3, Profesor(Luis, Torres, g@g, 456, Ing. de Sistemas, ULIMA), [], [])\n",
      "Curso(Curso 4, Descripcion 4, Profesor(Luis, Torres, g@g, 456, Ing. de Sistemas, ULIMA), [], [])\n",
      "Curso(Curso 5, Descripcion 5, Profesor(Ana, Lopez, h@h, 789, Ing. de Sistemas, ULIMA), [], [])\n",
      "Curso(Curso 6, Descripcion 6, Profesor(Ana, Lopez, h@h, 789, Ing. de Sistemas, ULIMA), [], [])\n",
      "---------------------------------\n",
      "{'nombre': 'Curso 1', 'descripcion': 'Descripcion 1', 'profesor': 'Carlos Gomez', 'estudiantes': [], 'horarios': []}\n",
      "{'nombre': 'Curso 2', 'descripcion': 'Descripcion 2', 'profesor': 'Carlos Gomez', 'estudiantes': [], 'horarios': []}\n",
      "{'nombre': 'Curso 3', 'descripcion': 'Descripcion 3', 'profesor': 'Luis Torres', 'estudiantes': [], 'horarios': []}\n",
      "{'nombre': 'Curso 4', 'descripcion': 'Descripcion 4', 'profesor': 'Luis Torres', 'estudiantes': [], 'horarios': []}\n",
      "{'nombre': 'Curso 5', 'descripcion': 'Descripcion 5', 'profesor': 'Ana Lopez', 'estudiantes': [], 'horarios': []}\n",
      "{'nombre': 'Curso 6', 'descripcion': 'Descripcion 6', 'profesor': 'Ana Lopez', 'estudiantes': [], 'horarios': []}\n",
      "---------------------------------\n"
     ]
    }
   ],
   "source": [
    "curso1 = profesor1.crear_curso('Curso 1', 'Descripcion 1')\n",
    "curso2 = profesor1.crear_curso('Curso 2', 'Descripcion 2')\n",
    "curso3 = profesor2.crear_curso('Curso 3', 'Descripcion 3')\n",
    "curso4 = profesor2.crear_curso('Curso 4', 'Descripcion 4')\n",
    "curso5 = profesor3.crear_curso('Curso 5', 'Descripcion 5')\n",
    "curso6 = profesor3.crear_curso('Curso 6', 'Descripcion 6')\n",
    "print('---------------------------------')\n",
    "print(str(curso1)+'\\n'+str(curso2)+'\\n'+str(curso3)+'\\n'+str(curso4)+'\\n'+str(curso5)+'\\n'+str(curso6))\n",
    "print('---------------------------------')\n",
    "print(str(curso1.obtener_datos())+'\\n'+str(curso2.obtener_datos())+'\\n'+str(curso3.obtener_datos())+'\\n'+str(curso4.obtener_datos())+'\\n'+str(curso5.obtener_datos())+'\\n'+str(curso6.obtener_datos()))\n",
    "print('---------------------------------')"
   ]
  },
  {
   "cell_type": "code",
   "execution_count": 5,
   "metadata": {},
   "outputs": [
    {
     "name": "stdout",
     "output_type": "stream",
     "text": [
      "{'nombre': 'Curso 1', 'descripcion': 'Descripcion 1', 'profesor': 'Carlos Gomez', 'estudiantes': [], 'horarios': []}\n",
      "{'nombre': 'Curso 2', 'descripcion': 'Descripcion 2', 'profesor': 'Carlos Gomez', 'estudiantes': [], 'horarios': []}\n",
      "{'nombre': 'Curso 3', 'descripcion': 'Descripcion 3', 'profesor': 'Luis Torres', 'estudiantes': [], 'horarios': []}\n"
     ]
    }
   ],
   "source": [
    "print(curso1.obtener_datos())\n",
    "print(curso2.obtener_datos())\n",
    "print(curso3.obtener_datos())"
   ]
  },
  {
   "cell_type": "code",
   "execution_count": 6,
   "metadata": {},
   "outputs": [
    {
     "name": "stdout",
     "output_type": "stream",
     "text": [
      "Estudiante Juan no esta matriculado en el curso \"Curso 1\".\n",
      "Estudiante Juan matriculado al curso \"Curso 1\" con exito.\n",
      "Estudiante Juan ya esta matriculado en el curso \"Curso 1\".\n",
      "Estudiante Juan retirado del curso \"Curso 1\".\n",
      "Estudiante Juan matriculado al curso \"Curso 1\" con exito.\n",
      "Estudiante Maria matriculado al curso \"Curso 1\" con exito.\n",
      "Estudiante Juan matriculado al curso \"Curso 2\" con exito.\n",
      "Estudiante Juan matriculado al curso \"Curso 3\" con exito.\n"
     ]
    }
   ],
   "source": [
    "estudiante1.retirar_curso(curso1)\n",
    "estudiante1.matricular_curso(curso1)\n",
    "estudiante1.matricular_curso(curso1)\n",
    "estudiante1.retirar_curso(curso1)\n",
    "estudiante1.matricular_curso(curso1)\n",
    "estudiante2.matricular_curso(curso1)\n",
    "estudiante1.matricular_curso(curso2)\n",
    "estudiante1.matricular_curso(curso3)"
   ]
  },
  {
   "cell_type": "code",
   "execution_count": 7,
   "metadata": {},
   "outputs": [
    {
     "name": "stdout",
     "output_type": "stream",
     "text": [
      "{'nombre': 'Curso 1', 'descripcion': 'Descripcion 1', 'profesor': 'Carlos Gomez', 'estudiantes': ['Juan', 'Maria'], 'horarios': []}\n",
      "{'nombre': 'Curso 2', 'descripcion': 'Descripcion 2', 'profesor': 'Carlos Gomez', 'estudiantes': ['Juan'], 'horarios': []}\n",
      "{'nombre': 'Curso 3', 'descripcion': 'Descripcion 3', 'profesor': 'Luis Torres', 'estudiantes': ['Juan'], 'horarios': []}\n"
     ]
    }
   ],
   "source": [
    "print(curso1.obtener_datos())\n",
    "print(curso2.obtener_datos())\n",
    "print(curso3.obtener_datos())"
   ]
  },
  {
   "cell_type": "code",
   "execution_count": 8,
   "metadata": {},
   "outputs": [
    {
     "name": "stdout",
     "output_type": "stream",
     "text": [
      "['Juan', 'Maria']\n",
      "['Juan']\n",
      "['Juan']\n"
     ]
    }
   ],
   "source": [
    "print(curso1.obtener_estudiantes())\n",
    "print(curso2.obtener_estudiantes())\n",
    "print(curso3.obtener_estudiantes())"
   ]
  },
  {
   "cell_type": "code",
   "execution_count": 9,
   "metadata": {},
   "outputs": [
    {
     "name": "stdout",
     "output_type": "stream",
     "text": [
      "Carlos Gomez\n",
      "Carlos Gomez\n",
      "Luis Torres\n"
     ]
    }
   ],
   "source": [
    "print(curso1.obtener_profesor())\n",
    "print(curso2.obtener_profesor())\n",
    "print(curso3.obtener_profesor())"
   ]
  },
  {
   "cell_type": "code",
   "execution_count": 10,
   "metadata": {},
   "outputs": [
    {
     "name": "stdout",
     "output_type": "stream",
     "text": [
      "['Curso 1', 'Curso 2', 'Curso 3']\n",
      "['Curso 1']\n"
     ]
    }
   ],
   "source": [
    "print(estudiante1.obtener_cursos())\n",
    "print(estudiante2.obtener_cursos())"
   ]
  },
  {
   "cell_type": "code",
   "execution_count": 11,
   "metadata": {},
   "outputs": [
    {
     "name": "stdout",
     "output_type": "stream",
     "text": [
      "['Carlos', 'Luis']\n",
      "['Carlos']\n"
     ]
    }
   ],
   "source": [
    "print(estudiante1.ver_profesores())\n",
    "print(estudiante2.ver_profesores())"
   ]
  },
  {
   "cell_type": "code",
   "execution_count": 12,
   "metadata": {},
   "outputs": [
    {
     "name": "stdout",
     "output_type": "stream",
     "text": [
      "['Curso 1', 'Curso 2']\n",
      "['Curso 3', 'Curso 4']\n"
     ]
    }
   ],
   "source": [
    "print(profesor1.obtener_cursos())\n",
    "print(profesor2.obtener_cursos())"
   ]
  },
  {
   "cell_type": "code",
   "execution_count": 13,
   "metadata": {},
   "outputs": [
    {
     "name": "stdout",
     "output_type": "stream",
     "text": [
      "['Juan del curso: Curso 1', 'Maria del curso: Curso 1', 'Juan del curso: Curso 2']\n",
      "['Juan del curso: Curso 3']\n"
     ]
    }
   ],
   "source": [
    "print(profesor1.ver_estudiantes())\n",
    "print(profesor2.ver_estudiantes())"
   ]
  },
  {
   "cell_type": "code",
   "execution_count": 14,
   "metadata": {},
   "outputs": [
    {
     "name": "stdout",
     "output_type": "stream",
     "text": [
      "Horario creado con exito.\n",
      "Horario creado con exito.\n",
      "Horario creado con exito.\n"
     ]
    },
    {
     "data": {
      "text/plain": [
       "Horario(Curso 1, Miercoles, 8:00, 10:00)"
      ]
     },
     "execution_count": 14,
     "metadata": {},
     "output_type": "execute_result"
    }
   ],
   "source": [
    "profesor1.crear_horario(curso1, 'Lunes', '8:00', '10:00')\n",
    "profesor1.crear_horario(curso1, 'Martes', '8:00', '10:00')\n",
    "profesor1.crear_horario(curso1, 'Miercoles', '8:00', '10:00')"
   ]
  },
  {
   "cell_type": "code",
   "execution_count": 15,
   "metadata": {},
   "outputs": [
    {
     "data": {
      "text/plain": [
       "[{'curso': 'Curso 1',\n",
       "  'dia': 'Lunes',\n",
       "  'hora_inicio': '8:00',\n",
       "  'hora_fin': '10:00'},\n",
       " {'curso': 'Curso 1',\n",
       "  'dia': 'Martes',\n",
       "  'hora_inicio': '8:00',\n",
       "  'hora_fin': '10:00'},\n",
       " {'curso': 'Curso 1',\n",
       "  'dia': 'Miercoles',\n",
       "  'hora_inicio': '8:00',\n",
       "  'hora_fin': '10:00'}]"
      ]
     },
     "execution_count": 15,
     "metadata": {},
     "output_type": "execute_result"
    }
   ],
   "source": [
    "profesor1._cursos[0].obtener_horarios()"
   ]
  },
  {
   "cell_type": "code",
   "execution_count": 16,
   "metadata": {},
   "outputs": [
    {
     "data": {
      "text/plain": [
       "[{'curso': 'Curso 1',\n",
       "  'dia': 'Lunes',\n",
       "  'hora_inicio': '8:00',\n",
       "  'hora_fin': '10:00'},\n",
       " {'curso': 'Curso 1',\n",
       "  'dia': 'Martes',\n",
       "  'hora_inicio': '8:00',\n",
       "  'hora_fin': '10:00'},\n",
       " {'curso': 'Curso 1',\n",
       "  'dia': 'Miercoles',\n",
       "  'hora_inicio': '8:00',\n",
       "  'hora_fin': '10:00'}]"
      ]
     },
     "execution_count": 16,
     "metadata": {},
     "output_type": "execute_result"
    }
   ],
   "source": [
    "curso1.obtener_horarios()"
   ]
  },
  {
   "cell_type": "code",
   "execution_count": 17,
   "metadata": {},
   "outputs": [
    {
     "name": "stdout",
     "output_type": "stream",
     "text": [
      "['Carlos', 'Luis']\n"
     ]
    }
   ],
   "source": [
    "print(estudiante1.ver_profesores())"
   ]
  },
  {
   "cell_type": "code",
   "execution_count": 18,
   "metadata": {},
   "outputs": [
    {
     "name": "stdout",
     "output_type": "stream",
     "text": [
      "Profesor Carlos calificado con éxito.\n",
      "None\n",
      "['Carlos', 'Luis']\n",
      "5.0\n",
      "0\n"
     ]
    }
   ],
   "source": [
    "print(estudiante1.calificar_profesor(profesor1, 5))\n",
    "print(estudiante1.ver_profesores())\n",
    "print(profesor1.obtener_puntuacion())\n",
    "print(profesor2.obtener_puntuacion())"
   ]
  },
  {
   "cell_type": "code",
   "execution_count": 19,
   "metadata": {},
   "outputs": [
    {
     "name": "stdout",
     "output_type": "stream",
     "text": [
      "Estudiante ya ha calificado al profesor Carlos.\n",
      "None\n"
     ]
    }
   ],
   "source": [
    "print(estudiante1.calificar_profesor(profesor1, 10))"
   ]
  },
  {
   "cell_type": "code",
   "execution_count": 20,
   "metadata": {},
   "outputs": [
    {
     "name": "stdout",
     "output_type": "stream",
     "text": [
      "5.0\n"
     ]
    }
   ],
   "source": [
    "print(profesor1.obtener_puntuacion())"
   ]
  },
  {
   "cell_type": "code",
   "execution_count": 21,
   "metadata": {},
   "outputs": [
    {
     "name": "stdout",
     "output_type": "stream",
     "text": [
      "Estudiante ya ha calificado al profesor Carlos.\n"
     ]
    }
   ],
   "source": [
    "estudiante1.calificar_profesor(profesor1, 5)"
   ]
  },
  {
   "cell_type": "code",
   "execution_count": 22,
   "metadata": {},
   "outputs": [
    {
     "name": "stdout",
     "output_type": "stream",
     "text": [
      "Curso \"Curso 1 Modificado\" modificado con éxito.\n",
      "None\n"
     ]
    }
   ],
   "source": [
    "a = profesor1.modificar_curso(curso1, 'Curso 1 Modificado', 'Descripcion 1 Modificada')\n",
    "print(a)"
   ]
  },
  {
   "cell_type": "code",
   "execution_count": 23,
   "metadata": {},
   "outputs": [
    {
     "data": {
      "text/plain": [
       "{'nombre': 'Curso 1 Modificado',\n",
       " 'descripcion': 'Descripcion 1 Modificada',\n",
       " 'profesor': 'Carlos Gomez',\n",
       " 'estudiantes': ['Juan', 'Maria'],\n",
       " 'horarios': [{'curso': 'Curso 1 Modificado',\n",
       "   'dia': 'Lunes',\n",
       "   'hora_inicio': '8:00',\n",
       "   'hora_fin': '10:00'},\n",
       "  {'curso': 'Curso 1 Modificado',\n",
       "   'dia': 'Martes',\n",
       "   'hora_inicio': '8:00',\n",
       "   'hora_fin': '10:00'},\n",
       "  {'curso': 'Curso 1 Modificado',\n",
       "   'dia': 'Miercoles',\n",
       "   'hora_inicio': '8:00',\n",
       "   'hora_fin': '10:00'}]}"
      ]
     },
     "execution_count": 23,
     "metadata": {},
     "output_type": "execute_result"
    }
   ],
   "source": [
    "curso1.obtener_datos()"
   ]
  }
 ],
 "metadata": {
  "kernelspec": {
   "display_name": "Python 3",
   "language": "python",
   "name": "python3"
  },
  "language_info": {
   "codemirror_mode": {
    "name": "ipython",
    "version": 3
   },
   "file_extension": ".py",
   "mimetype": "text/x-python",
   "name": "python",
   "nbconvert_exporter": "python",
   "pygments_lexer": "ipython3",
   "version": "3.11.5"
  }
 },
 "nbformat": 4,
 "nbformat_minor": 2
}
