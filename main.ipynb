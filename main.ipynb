{
 "cells": [
  {
   "cell_type": "code",
   "execution_count": 1,
   "metadata": {},
   "outputs": [],
   "source": [
    "from profesor import Profesor\n",
    "from estudiante import Estudiante"
   ]
  },
  {
   "cell_type": "code",
   "execution_count": 2,
   "metadata": {},
   "outputs": [
    {
     "name": "stdout",
     "output_type": "stream",
     "text": [
      "{'nombre': 'Juan', 'apellidos': 'Perez', 'correo': 'a@a', 'ciclo': '1', 'carrera': 'Ing. de Sistemas', 'universidad': 'UNI', 'codigo': '001', 'cursos': []}\n",
      "{'nombre': 'Maria', 'apellidos': 'Gomez', 'correo': 'c@c', 'ciclo': '2', 'carrera': 'Ing. de Sistemas', 'universidad': 'UNI', 'codigo': '002', 'cursos': []}\n"
     ]
    }
   ],
   "source": [
    "estudiante1 = Estudiante('Juan', 'Perez', 'a@a', '123', '1', 'Ing. de Sistemas', 'UNI', '001')\n",
    "estudiante2 = Estudiante('Maria', 'Gomez', 'c@c', '789', '2', 'Ing. de Sistemas', 'UNI', '002')\n",
    "print(estudiante1.get_datos())\n",
    "print(estudiante2.get_datos())"
   ]
  },
  {
   "cell_type": "code",
   "execution_count": 3,
   "metadata": {},
   "outputs": [
    {
     "name": "stdout",
     "output_type": "stream",
     "text": [
      "Sesion iniciada con exito.\n"
     ]
    }
   ],
   "source": [
    "estudiante1.iniciar_sesion('a@a', '123')"
   ]
  },
  {
   "cell_type": "code",
   "execution_count": 4,
   "metadata": {},
   "outputs": [
    {
     "name": "stdout",
     "output_type": "stream",
     "text": [
      "La contrasena es: 123\n"
     ]
    }
   ],
   "source": [
    "estudiante1.recuperar_contrasena('a@a')"
   ]
  },
  {
   "cell_type": "code",
   "execution_count": 5,
   "metadata": {},
   "outputs": [
    {
     "name": "stdout",
     "output_type": "stream",
     "text": [
      "{'nombre': 'Pedro', 'apellidos': 'Garcia', 'correo': 'b@b', 'profesion': 'Ing. de Sistemas', 'centro_laboral': 'UNI', 'cursos': []}\n",
      "{'nombre': 'Ana', 'apellidos': 'Lopez', 'correo': 'd@d', 'profesion': 'Ing. de Sistemas', 'centro_laboral': 'UNI', 'cursos': []}\n"
     ]
    }
   ],
   "source": [
    "profesor1 = Profesor('Pedro', 'Garcia', 'b@b', '456', 'Ing. de Sistemas', 'UNI')\n",
    "profesor2 = Profesor('Ana', 'Lopez', 'd@d', '101', 'Ing. de Sistemas', 'UNI')\n",
    "print(profesor1.get_datos())\n",
    "print(profesor2.get_datos())"
   ]
  },
  {
   "cell_type": "code",
   "execution_count": 6,
   "metadata": {},
   "outputs": [
    {
     "name": "stdout",
     "output_type": "stream",
     "text": [
      "Curso Curso 1 creado con exito.\n",
      "Curso Curso 2 creado con exito.\n",
      "Curso Curso 3 creado con exito.\n"
     ]
    }
   ],
   "source": [
    "curso1 = profesor1.crear_curso('Curso 1', 'Descripcion 1')\n",
    "curso2 = profesor1.crear_curso('Curso 2', 'Descripcion 2')\n",
    "curso3 = profesor2.crear_curso('Curso 3', 'Descripcion 3')"
   ]
  },
  {
   "cell_type": "code",
   "execution_count": 7,
   "metadata": {},
   "outputs": [
    {
     "name": "stdout",
     "output_type": "stream",
     "text": [
      "{'nombre': 'Curso 1', 'descripcion': 'Descripcion 1', 'profesor': 'Pedro Garcia', 'estudiantes': [], 'horarios': []}\n",
      "{'nombre': 'Curso 2', 'descripcion': 'Descripcion 2', 'profesor': 'Pedro Garcia', 'estudiantes': [], 'horarios': []}\n",
      "{'nombre': 'Curso 3', 'descripcion': 'Descripcion 3', 'profesor': 'Ana Lopez', 'estudiantes': [], 'horarios': []}\n"
     ]
    }
   ],
   "source": [
    "print(curso1.get_datos())\n",
    "print(curso2.get_datos())\n",
    "print(curso3.get_datos())"
   ]
  },
  {
   "cell_type": "code",
   "execution_count": 8,
   "metadata": {},
   "outputs": [
    {
     "name": "stdout",
     "output_type": "stream",
     "text": [
      "Estudiante Juan no esta matriculado en el curso \"Curso 1\".\n"
     ]
    },
    {
     "ename": "AttributeError",
     "evalue": "'Curso' object has no attribute 'agregar_estudiante'",
     "output_type": "error",
     "traceback": [
      "\u001b[1;31m---------------------------------------------------------------------------\u001b[0m",
      "\u001b[1;31mAttributeError\u001b[0m                            Traceback (most recent call last)",
      "Cell \u001b[1;32mIn[8], line 2\u001b[0m\n\u001b[0;32m      1\u001b[0m estudiante1\u001b[38;5;241m.\u001b[39mretirar_curso(curso1)\n\u001b[1;32m----> 2\u001b[0m \u001b[43mestudiante1\u001b[49m\u001b[38;5;241;43m.\u001b[39;49m\u001b[43mmatricular_curso\u001b[49m\u001b[43m(\u001b[49m\u001b[43mcurso1\u001b[49m\u001b[43m)\u001b[49m\n\u001b[0;32m      3\u001b[0m estudiante1\u001b[38;5;241m.\u001b[39mmatricular_curso(curso1)\n\u001b[0;32m      4\u001b[0m estudiante1\u001b[38;5;241m.\u001b[39mretirar_curso(curso1)\n",
      "File \u001b[1;32mc:\\Users\\miria\\Documents\\GitHub\\poo-backend\\estudiante.py:41\u001b[0m, in \u001b[0;36mEstudiante.matricular_curso\u001b[1;34m(self, curso)\u001b[0m\n\u001b[0;32m     39\u001b[0m     \u001b[38;5;28mprint\u001b[39m(\u001b[38;5;124mf\u001b[39m\u001b[38;5;124m'\u001b[39m\u001b[38;5;124mEstudiante \u001b[39m\u001b[38;5;132;01m{\u001b[39;00m\u001b[38;5;28mself\u001b[39m\u001b[38;5;241m.\u001b[39mget_nombre()\u001b[38;5;132;01m}\u001b[39;00m\u001b[38;5;124m ya esta matriculado en el curso \u001b[39m\u001b[38;5;124m\"\u001b[39m\u001b[38;5;132;01m{\u001b[39;00mcurso\u001b[38;5;241m.\u001b[39mnombre\u001b[38;5;132;01m}\u001b[39;00m\u001b[38;5;124m\"\u001b[39m\u001b[38;5;124m.\u001b[39m\u001b[38;5;124m'\u001b[39m)\n\u001b[0;32m     40\u001b[0m \u001b[38;5;28;01melse\u001b[39;00m:\n\u001b[1;32m---> 41\u001b[0m     \u001b[43mcurso\u001b[49m\u001b[38;5;241;43m.\u001b[39;49m\u001b[43magregar_estudiante\u001b[49m(\u001b[38;5;28mself\u001b[39m)\n\u001b[0;32m     42\u001b[0m     \u001b[38;5;28mself\u001b[39m\u001b[38;5;241m.\u001b[39m_cursos\u001b[38;5;241m.\u001b[39mappend(curso)\n\u001b[0;32m     43\u001b[0m     \u001b[38;5;28mprint\u001b[39m(\u001b[38;5;124mf\u001b[39m\u001b[38;5;124m'\u001b[39m\u001b[38;5;124mEstudiante \u001b[39m\u001b[38;5;132;01m{\u001b[39;00m\u001b[38;5;28mself\u001b[39m\u001b[38;5;241m.\u001b[39mget_nombre()\u001b[38;5;132;01m}\u001b[39;00m\u001b[38;5;124m matriculado al curso \u001b[39m\u001b[38;5;124m\"\u001b[39m\u001b[38;5;132;01m{\u001b[39;00mcurso\u001b[38;5;241m.\u001b[39mnombre\u001b[38;5;132;01m}\u001b[39;00m\u001b[38;5;124m\"\u001b[39m\u001b[38;5;124m con exito.\u001b[39m\u001b[38;5;124m'\u001b[39m)\n",
      "\u001b[1;31mAttributeError\u001b[0m: 'Curso' object has no attribute 'agregar_estudiante'"
     ]
    }
   ],
   "source": [
    "estudiante1.retirar_curso(curso1)\n",
    "estudiante1.matricular_curso(curso1)\n",
    "estudiante1.matricular_curso(curso1)\n",
    "estudiante1.retirar_curso(curso1)\n",
    "estudiante1.matricular_curso(curso1)\n",
    "estudiante2.matricular_curso(curso1)\n",
    "estudiante1.matricular_curso(curso2)\n",
    "estudiante1.matricular_curso(curso3)"
   ]
  },
  {
   "cell_type": "code",
   "execution_count": null,
   "metadata": {},
   "outputs": [],
   "source": [
    "print(curso1.get_datos())\n",
    "print(curso2.get_datos())\n",
    "print(curso3.get_datos())"
   ]
  },
  {
   "cell_type": "code",
   "execution_count": null,
   "metadata": {},
   "outputs": [],
   "source": [
    "print(curso1.get_estudiantes())\n",
    "print(curso2.get_estudiantes())\n",
    "print(curso3.get_estudiantes())"
   ]
  },
  {
   "cell_type": "code",
   "execution_count": null,
   "metadata": {},
   "outputs": [],
   "source": [
    "print(curso1.get_profesor())\n",
    "print(curso2.get_profesor())\n",
    "print(curso3.get_profesor())"
   ]
  },
  {
   "cell_type": "code",
   "execution_count": null,
   "metadata": {},
   "outputs": [],
   "source": [
    "print(estudiante1.get_cursos())\n",
    "print(estudiante2.get_cursos())"
   ]
  },
  {
   "cell_type": "code",
   "execution_count": null,
   "metadata": {},
   "outputs": [],
   "source": [
    "print(estudiante1.ver_profesores())\n",
    "print(estudiante2.ver_profesores())"
   ]
  },
  {
   "cell_type": "code",
   "execution_count": null,
   "metadata": {},
   "outputs": [],
   "source": [
    "print(profesor1.get_cursos())\n",
    "print(profesor2.get_cursos())"
   ]
  },
  {
   "cell_type": "code",
   "execution_count": null,
   "metadata": {},
   "outputs": [],
   "source": [
    "print(profesor1.ver_estudiantes())\n",
    "print(profesor2.ver_estudiantes())"
   ]
  },
  {
   "cell_type": "code",
   "execution_count": null,
   "metadata": {},
   "outputs": [],
   "source": []
  }
 ],
 "metadata": {
  "kernelspec": {
   "display_name": "Python 3",
   "language": "python",
   "name": "python3"
  },
  "language_info": {
   "codemirror_mode": {
    "name": "ipython",
    "version": 3
   },
   "file_extension": ".py",
   "mimetype": "text/x-python",
   "name": "python",
   "nbconvert_exporter": "python",
   "pygments_lexer": "ipython3",
   "version": "3.10.9"
  }
 },
 "nbformat": 4,
 "nbformat_minor": 2
}
