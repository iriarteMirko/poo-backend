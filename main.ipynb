{
 "cells": [
  {
   "cell_type": "code",
   "execution_count": 1,
   "metadata": {},
   "outputs": [],
   "source": [
    "from profesor import Profesor\n",
    "from estudiante import Estudiante"
   ]
  },
  {
   "cell_type": "code",
   "execution_count": 2,
   "metadata": {},
   "outputs": [
    {
     "name": "stdout",
     "output_type": "stream",
     "text": [
      "Estudiante(nombre=Juan, apellidos=Perez, correo=a@a, contrasena=123, universidad=ULIMA, carrera=Ing. de Sistemas, ciclo=1, codigo=001, cursos=[])\n",
      "Estudiante(nombre=Maria, apellidos=Gomez, correo=c@c, contrasena=789, universidad=ULIMA, carrera=Ing. de Sistemas, ciclo=2, codigo=002, cursos=[])\n",
      "Estudiante(nombre=Pedro, apellidos=Torres, correo=b@b, contrasena=456, universidad=ULIMA, carrera=Ing. de Sistemas, ciclo=3, codigo=003, cursos=[])\n",
      "Estudiante(nombre=Ana, apellidos=Lopez, correo=d@d, contrasena=101, universidad=ULIMA, carrera=Ing. de Sistemas, ciclo=4, codigo=004, cursos=[])\n",
      "Estudiante(nombre=Luis, apellidos=Garcia, correo=e@e, contrasena=202, universidad=ULIMA, carrera=Ing. de Sistemas, ciclo=5, codigo=005, cursos=[])\n",
      "---------------------------------\n",
      "{'nombre': 'Juan', 'apellidos': 'Perez', 'correo': 'a@a', 'ciclo': '1', 'carrera': 'Ing. de Sistemas', 'universidad': 'ULIMA', 'codigo': '001', 'cursos': [], 'cursos_favoritos': [], 'calificaciones': []}\n",
      "{'nombre': 'Maria', 'apellidos': 'Gomez', 'correo': 'c@c', 'ciclo': '2', 'carrera': 'Ing. de Sistemas', 'universidad': 'ULIMA', 'codigo': '002', 'cursos': [], 'cursos_favoritos': [], 'calificaciones': []}\n",
      "{'nombre': 'Pedro', 'apellidos': 'Torres', 'correo': 'b@b', 'ciclo': '3', 'carrera': 'Ing. de Sistemas', 'universidad': 'ULIMA', 'codigo': '003', 'cursos': [], 'cursos_favoritos': [], 'calificaciones': []}\n",
      "{'nombre': 'Ana', 'apellidos': 'Lopez', 'correo': 'd@d', 'ciclo': '4', 'carrera': 'Ing. de Sistemas', 'universidad': 'ULIMA', 'codigo': '004', 'cursos': [], 'cursos_favoritos': [], 'calificaciones': []}\n",
      "{'nombre': 'Luis', 'apellidos': 'Garcia', 'correo': 'e@e', 'ciclo': '5', 'carrera': 'Ing. de Sistemas', 'universidad': 'ULIMA', 'codigo': '005', 'cursos': [], 'cursos_favoritos': [], 'calificaciones': []}\n"
     ]
    }
   ],
   "source": [
    "estudiante1 = Estudiante('Juan', 'Perez', 'a@a', '123', 'ULIMA', 'Ing. de Sistemas', '1', '001')\n",
    "estudiante2 = Estudiante('Maria', 'Gomez', 'c@c', '789', 'ULIMA', 'Ing. de Sistemas', '2', '002')\n",
    "estudiante3 = Estudiante('Pedro', 'Torres', 'b@b', '456', 'ULIMA', 'Ing. de Sistemas', '3', '003')\n",
    "estudiante4 = Estudiante('Ana', 'Lopez', 'd@d', '101', 'ULIMA', 'Ing. de Sistemas', '4', '004')\n",
    "estudiante5 = Estudiante('Luis', 'Garcia', 'e@e', '202', 'ULIMA', 'Ing. de Sistemas', '5', '005')\n",
    "\n",
    "print(str(estudiante1)+'\\n'+str(estudiante2)+'\\n'+str(estudiante3)+'\\n'+str(estudiante4)+'\\n'+str(estudiante5))\n",
    "print('---------------------------------')\n",
    "print(str(estudiante1.get_datos())+'\\n'+str(estudiante2.get_datos())+'\\n'+str(estudiante3.get_datos())+'\\n'+str(estudiante4.get_datos())+'\\n'+str(estudiante5.get_datos()))\n"
   ]
  },
  {
   "cell_type": "code",
   "execution_count": 3,
   "metadata": {},
   "outputs": [
    {
     "name": "stdout",
     "output_type": "stream",
     "text": [
      "Profesor(nombre=Carlos, apellidos=Gomez, correo=f@f, contrasena=123, profesion=Ing. de Sistemas, centro_laboral=ULIMA, cursos=[], puntuacion=0)\n",
      "Profesor(nombre=Luis, apellidos=Torres, correo=g@g, contrasena=456, profesion=Ing. de Sistemas, centro_laboral=ULIMA, cursos=[], puntuacion=0)\n",
      "Profesor(nombre=Ana, apellidos=Lopez, correo=h@h, contrasena=789, profesion=Ing. de Sistemas, centro_laboral=ULIMA, cursos=[], puntuacion=0)\n",
      "---------------------------------\n",
      "{'nombre': 'Carlos', 'apellidos': 'Gomez', 'correo': 'f@f', 'profesion': 'Ing. de Sistemas', 'centro_laboral': 'ULIMA', 'cursos': [], 'puntuacion': 0}\n",
      "{'nombre': 'Luis', 'apellidos': 'Torres', 'correo': 'g@g', 'profesion': 'Ing. de Sistemas', 'centro_laboral': 'ULIMA', 'cursos': [], 'puntuacion': 0}\n",
      "{'nombre': 'Ana', 'apellidos': 'Lopez', 'correo': 'h@h', 'profesion': 'Ing. de Sistemas', 'centro_laboral': 'ULIMA', 'cursos': [], 'puntuacion': 0}\n"
     ]
    }
   ],
   "source": [
    "profesor1 = Profesor('Carlos', 'Gomez', 'f@f', '123', 'Ing. de Sistemas', 'ULIMA')\n",
    "profesor2 = Profesor('Luis', 'Torres', 'g@g', '456', 'Ing. de Sistemas', 'ULIMA')\n",
    "profesor3 = Profesor('Ana', 'Lopez', 'h@h', '789', 'Ing. de Sistemas', 'ULIMA')\n",
    "print(str(profesor1)+'\\n'+str(profesor2)+'\\n'+str(profesor3))\n",
    "print('---------------------------------')\n",
    "print(str(profesor1.get_datos())+'\\n'+str(profesor2.get_datos())+'\\n'+str(profesor3.get_datos()))\n"
   ]
  },
  {
   "cell_type": "code",
   "execution_count": 4,
   "metadata": {},
   "outputs": [
    {
     "name": "stdout",
     "output_type": "stream",
     "text": [
      "Curso Curso 1 creado con exito.\n",
      "Curso Curso 2 creado con exito.\n",
      "Curso Curso 3 creado con exito.\n",
      "Curso Curso 4 creado con exito.\n",
      "Curso Curso 5 creado con exito.\n",
      "Curso Curso 6 creado con exito.\n",
      "---------------------------------\n",
      "Curso(nombre=Curso 1, descripcion=Descripcion 1, Profesor=Carlos, estudiantes=[], horarios=[])\n",
      "Curso(nombre=Curso 2, descripcion=Descripcion 2, Profesor=Carlos, estudiantes=[], horarios=[])\n",
      "Curso(nombre=Curso 3, descripcion=Descripcion 3, Profesor=Luis, estudiantes=[], horarios=[])\n",
      "Curso(nombre=Curso 4, descripcion=Descripcion 4, Profesor=Luis, estudiantes=[], horarios=[])\n",
      "Curso(nombre=Curso 5, descripcion=Descripcion 5, Profesor=Ana, estudiantes=[], horarios=[])\n",
      "Curso(nombre=Curso 6, descripcion=Descripcion 6, Profesor=Ana, estudiantes=[], horarios=[])\n",
      "---------------------------------\n",
      "{'nombre': 'Curso 1', 'descripcion': 'Descripcion 1', 'profesor': Profesor(nombre=Carlos, apellidos=Gomez, correo=f@f, contrasena=123, profesion=Ing. de Sistemas, centro_laboral=ULIMA, cursos=['Curso 1', 'Curso 2'], puntuacion=0), 'estudiantes': [], 'horarios': []}\n",
      "{'nombre': 'Curso 2', 'descripcion': 'Descripcion 2', 'profesor': Profesor(nombre=Carlos, apellidos=Gomez, correo=f@f, contrasena=123, profesion=Ing. de Sistemas, centro_laboral=ULIMA, cursos=['Curso 1', 'Curso 2'], puntuacion=0), 'estudiantes': [], 'horarios': []}\n",
      "{'nombre': 'Curso 3', 'descripcion': 'Descripcion 3', 'profesor': Profesor(nombre=Luis, apellidos=Torres, correo=g@g, contrasena=456, profesion=Ing. de Sistemas, centro_laboral=ULIMA, cursos=['Curso 3', 'Curso 4'], puntuacion=0), 'estudiantes': [], 'horarios': []}\n",
      "{'nombre': 'Curso 4', 'descripcion': 'Descripcion 4', 'profesor': Profesor(nombre=Luis, apellidos=Torres, correo=g@g, contrasena=456, profesion=Ing. de Sistemas, centro_laboral=ULIMA, cursos=['Curso 3', 'Curso 4'], puntuacion=0), 'estudiantes': [], 'horarios': []}\n",
      "{'nombre': 'Curso 5', 'descripcion': 'Descripcion 5', 'profesor': Profesor(nombre=Ana, apellidos=Lopez, correo=h@h, contrasena=789, profesion=Ing. de Sistemas, centro_laboral=ULIMA, cursos=['Curso 5', 'Curso 6'], puntuacion=0), 'estudiantes': [], 'horarios': []}\n",
      "{'nombre': 'Curso 6', 'descripcion': 'Descripcion 6', 'profesor': Profesor(nombre=Ana, apellidos=Lopez, correo=h@h, contrasena=789, profesion=Ing. de Sistemas, centro_laboral=ULIMA, cursos=['Curso 5', 'Curso 6'], puntuacion=0), 'estudiantes': [], 'horarios': []}\n"
     ]
    }
   ],
   "source": [
    "curso1 = profesor1.crear_curso('Curso 1', 'Descripcion 1')\n",
    "curso2 = profesor1.crear_curso('Curso 2', 'Descripcion 2')\n",
    "curso3 = profesor2.crear_curso('Curso 3', 'Descripcion 3')\n",
    "curso4 = profesor2.crear_curso('Curso 4', 'Descripcion 4')\n",
    "curso5 = profesor3.crear_curso('Curso 5', 'Descripcion 5')\n",
    "curso6 = profesor3.crear_curso('Curso 6', 'Descripcion 6')\n",
    "print('---------------------------------')\n",
    "print(str(curso1)+'\\n'+str(curso2)+'\\n'+str(curso3)+'\\n'+str(curso4)+'\\n'+str(curso5)+'\\n'+str(curso6))\n",
    "print('---------------------------------')\n",
    "print(str(curso1.get_datos())+'\\n'+str(curso2.get_datos())+'\\n'+str(curso3.get_datos())+'\\n'+str(curso4.get_datos())+'\\n'+str(curso5.get_datos())+'\\n'+str(curso6.get_datos()))\n"
   ]
  },
  {
   "cell_type": "code",
   "execution_count": 5,
   "metadata": {},
   "outputs": [
    {
     "name": "stdout",
     "output_type": "stream",
     "text": [
      "Estudiante Juan matriculado al curso \"Curso 1\" con exito.\n",
      "Estudiante Juan matriculado al curso \"Curso 2\" con exito.\n",
      "Estudiante Juan matriculado al curso \"Curso 3\" con exito.\n",
      "Estudiante Juan matriculado al curso \"Curso 4\" con exito.\n",
      "Estudiante Juan matriculado al curso \"Curso 5\" con exito.\n",
      "Estudiante Juan matriculado al curso \"Curso 6\" con exito.\n",
      "---------------------------------\n",
      "Estudiante Maria matriculado al curso \"Curso 1\" con exito.\n",
      "Estudiante Maria matriculado al curso \"Curso 2\" con exito.\n",
      "Estudiante Maria matriculado al curso \"Curso 3\" con exito.\n",
      "Estudiante Maria matriculado al curso \"Curso 4\" con exito.\n",
      "Estudiante Maria matriculado al curso \"Curso 5\" con exito.\n",
      "Estudiante Maria matriculado al curso \"Curso 6\" con exito.\n",
      "---------------------------------\n",
      "Estudiante Pedro matriculado al curso \"Curso 1\" con exito.\n",
      "Estudiante Pedro matriculado al curso \"Curso 2\" con exito.\n",
      "Estudiante Pedro matriculado al curso \"Curso 3\" con exito.\n",
      "Estudiante Pedro matriculado al curso \"Curso 4\" con exito.\n",
      "Estudiante Pedro matriculado al curso \"Curso 5\" con exito.\n",
      "Estudiante Pedro matriculado al curso \"Curso 6\" con exito.\n",
      "---------------------------------\n",
      "Estudiante Ana matriculado al curso \"Curso 1\" con exito.\n",
      "Estudiante Ana matriculado al curso \"Curso 2\" con exito.\n",
      "Estudiante Ana matriculado al curso \"Curso 3\" con exito.\n",
      "Estudiante Ana matriculado al curso \"Curso 4\" con exito.\n",
      "Estudiante Ana matriculado al curso \"Curso 5\" con exito.\n",
      "Estudiante Ana matriculado al curso \"Curso 6\" con exito.\n",
      "---------------------------------\n",
      "Estudiante Luis matriculado al curso \"Curso 1\" con exito.\n",
      "Estudiante Luis matriculado al curso \"Curso 2\" con exito.\n",
      "Estudiante Luis matriculado al curso \"Curso 3\" con exito.\n",
      "Estudiante Luis matriculado al curso \"Curso 4\" con exito.\n",
      "Estudiante Luis matriculado al curso \"Curso 5\" con exito.\n",
      "Estudiante Luis matriculado al curso \"Curso 6\" con exito.\n"
     ]
    }
   ],
   "source": [
    "estudiante1.matricular_curso(curso1)\n",
    "estudiante1.matricular_curso(curso2)\n",
    "estudiante1.matricular_curso(curso3)\n",
    "estudiante1.matricular_curso(curso4)\n",
    "estudiante1.matricular_curso(curso5)\n",
    "estudiante1.matricular_curso(curso6)\n",
    "print('---------------------------------')\n",
    "estudiante2.matricular_curso(curso1)\n",
    "estudiante2.matricular_curso(curso2)\n",
    "estudiante2.matricular_curso(curso3)\n",
    "estudiante2.matricular_curso(curso4)\n",
    "estudiante2.matricular_curso(curso5)\n",
    "estudiante2.matricular_curso(curso6)\n",
    "print('---------------------------------')\n",
    "estudiante3.matricular_curso(curso1)\n",
    "estudiante3.matricular_curso(curso2)\n",
    "estudiante3.matricular_curso(curso3)\n",
    "estudiante3.matricular_curso(curso4)\n",
    "estudiante3.matricular_curso(curso5)\n",
    "estudiante3.matricular_curso(curso6)\n",
    "print('---------------------------------')\n",
    "estudiante4.matricular_curso(curso1)\n",
    "estudiante4.matricular_curso(curso2)\n",
    "estudiante4.matricular_curso(curso3)\n",
    "estudiante4.matricular_curso(curso4)\n",
    "estudiante4.matricular_curso(curso5)\n",
    "estudiante4.matricular_curso(curso6)\n",
    "print('---------------------------------')\n",
    "estudiante5.matricular_curso(curso1)\n",
    "estudiante5.matricular_curso(curso2)\n",
    "estudiante5.matricular_curso(curso3)\n",
    "estudiante5.matricular_curso(curso4)\n",
    "estudiante5.matricular_curso(curso5)\n",
    "estudiante5.matricular_curso(curso6)\n"
   ]
  },
  {
   "cell_type": "code",
   "execution_count": 6,
   "metadata": {},
   "outputs": [
    {
     "name": "stdout",
     "output_type": "stream",
     "text": [
      "Estudiante(nombre=Juan, apellidos=Perez, correo=a@a, contrasena=123, universidad=ULIMA, carrera=Ing. de Sistemas, ciclo=1, codigo=001, cursos=['Curso 1', 'Curso 2', 'Curso 3', 'Curso 4', 'Curso 5', 'Curso 6'])\n",
      "Estudiante(nombre=Maria, apellidos=Gomez, correo=c@c, contrasena=789, universidad=ULIMA, carrera=Ing. de Sistemas, ciclo=2, codigo=002, cursos=['Curso 1', 'Curso 2', 'Curso 3', 'Curso 4', 'Curso 5', 'Curso 6'])\n",
      "Estudiante(nombre=Pedro, apellidos=Torres, correo=b@b, contrasena=456, universidad=ULIMA, carrera=Ing. de Sistemas, ciclo=3, codigo=003, cursos=['Curso 1', 'Curso 2', 'Curso 3', 'Curso 4', 'Curso 5', 'Curso 6'])\n",
      "Estudiante(nombre=Ana, apellidos=Lopez, correo=d@d, contrasena=101, universidad=ULIMA, carrera=Ing. de Sistemas, ciclo=4, codigo=004, cursos=['Curso 1', 'Curso 2', 'Curso 3', 'Curso 4', 'Curso 5', 'Curso 6'])\n",
      "Estudiante(nombre=Luis, apellidos=Garcia, correo=e@e, contrasena=202, universidad=ULIMA, carrera=Ing. de Sistemas, ciclo=5, codigo=005, cursos=['Curso 1', 'Curso 2', 'Curso 3', 'Curso 4', 'Curso 5', 'Curso 6'])\n",
      "---------------------------------\n",
      "{'nombre': 'Juan', 'apellidos': 'Perez', 'correo': 'a@a', 'ciclo': '1', 'carrera': 'Ing. de Sistemas', 'universidad': 'ULIMA', 'codigo': '001', 'cursos': ['Curso 1', 'Curso 2', 'Curso 3', 'Curso 4', 'Curso 5', 'Curso 6'], 'cursos_favoritos': [], 'calificaciones': []}\n",
      "{'nombre': 'Maria', 'apellidos': 'Gomez', 'correo': 'c@c', 'ciclo': '2', 'carrera': 'Ing. de Sistemas', 'universidad': 'ULIMA', 'codigo': '002', 'cursos': ['Curso 1', 'Curso 2', 'Curso 3', 'Curso 4', 'Curso 5', 'Curso 6'], 'cursos_favoritos': [], 'calificaciones': []}\n",
      "{'nombre': 'Pedro', 'apellidos': 'Torres', 'correo': 'b@b', 'ciclo': '3', 'carrera': 'Ing. de Sistemas', 'universidad': 'ULIMA', 'codigo': '003', 'cursos': ['Curso 1', 'Curso 2', 'Curso 3', 'Curso 4', 'Curso 5', 'Curso 6'], 'cursos_favoritos': [], 'calificaciones': []}\n",
      "{'nombre': 'Ana', 'apellidos': 'Lopez', 'correo': 'd@d', 'ciclo': '4', 'carrera': 'Ing. de Sistemas', 'universidad': 'ULIMA', 'codigo': '004', 'cursos': ['Curso 1', 'Curso 2', 'Curso 3', 'Curso 4', 'Curso 5', 'Curso 6'], 'cursos_favoritos': [], 'calificaciones': []}\n",
      "{'nombre': 'Luis', 'apellidos': 'Garcia', 'correo': 'e@e', 'ciclo': '5', 'carrera': 'Ing. de Sistemas', 'universidad': 'ULIMA', 'codigo': '005', 'cursos': ['Curso 1', 'Curso 2', 'Curso 3', 'Curso 4', 'Curso 5', 'Curso 6'], 'cursos_favoritos': [], 'calificaciones': []}\n",
      "---------------------------------\n",
      "Curso(nombre=Curso 1, descripcion=Descripcion 1, Profesor=Carlos, estudiantes=['Juan', 'Maria', 'Pedro', 'Ana', 'Luis'], horarios=[])\n",
      "Curso(nombre=Curso 2, descripcion=Descripcion 2, Profesor=Carlos, estudiantes=['Juan', 'Maria', 'Pedro', 'Ana', 'Luis'], horarios=[])\n",
      "Curso(nombre=Curso 3, descripcion=Descripcion 3, Profesor=Luis, estudiantes=['Juan', 'Maria', 'Pedro', 'Ana', 'Luis'], horarios=[])\n",
      "Curso(nombre=Curso 4, descripcion=Descripcion 4, Profesor=Luis, estudiantes=['Juan', 'Maria', 'Pedro', 'Ana', 'Luis'], horarios=[])\n",
      "Curso(nombre=Curso 5, descripcion=Descripcion 5, Profesor=Ana, estudiantes=['Juan', 'Maria', 'Pedro', 'Ana', 'Luis'], horarios=[])\n",
      "Curso(nombre=Curso 6, descripcion=Descripcion 6, Profesor=Ana, estudiantes=['Juan', 'Maria', 'Pedro', 'Ana', 'Luis'], horarios=[])\n",
      "---------------------------------\n",
      "{'nombre': 'Curso 1', 'descripcion': 'Descripcion 1', 'profesor': Profesor(nombre=Carlos, apellidos=Gomez, correo=f@f, contrasena=123, profesion=Ing. de Sistemas, centro_laboral=ULIMA, cursos=['Curso 1', 'Curso 2'], puntuacion=0), 'estudiantes': ['Juan', 'Maria', 'Pedro', 'Ana', 'Luis'], 'horarios': []}\n",
      "{'nombre': 'Curso 2', 'descripcion': 'Descripcion 2', 'profesor': Profesor(nombre=Carlos, apellidos=Gomez, correo=f@f, contrasena=123, profesion=Ing. de Sistemas, centro_laboral=ULIMA, cursos=['Curso 1', 'Curso 2'], puntuacion=0), 'estudiantes': ['Juan', 'Maria', 'Pedro', 'Ana', 'Luis'], 'horarios': []}\n",
      "{'nombre': 'Curso 3', 'descripcion': 'Descripcion 3', 'profesor': Profesor(nombre=Luis, apellidos=Torres, correo=g@g, contrasena=456, profesion=Ing. de Sistemas, centro_laboral=ULIMA, cursos=['Curso 3', 'Curso 4'], puntuacion=0), 'estudiantes': ['Juan', 'Maria', 'Pedro', 'Ana', 'Luis'], 'horarios': []}\n",
      "{'nombre': 'Curso 4', 'descripcion': 'Descripcion 4', 'profesor': Profesor(nombre=Luis, apellidos=Torres, correo=g@g, contrasena=456, profesion=Ing. de Sistemas, centro_laboral=ULIMA, cursos=['Curso 3', 'Curso 4'], puntuacion=0), 'estudiantes': ['Juan', 'Maria', 'Pedro', 'Ana', 'Luis'], 'horarios': []}\n",
      "{'nombre': 'Curso 5', 'descripcion': 'Descripcion 5', 'profesor': Profesor(nombre=Ana, apellidos=Lopez, correo=h@h, contrasena=789, profesion=Ing. de Sistemas, centro_laboral=ULIMA, cursos=['Curso 5', 'Curso 6'], puntuacion=0), 'estudiantes': ['Juan', 'Maria', 'Pedro', 'Ana', 'Luis'], 'horarios': []}\n",
      "{'nombre': 'Curso 6', 'descripcion': 'Descripcion 6', 'profesor': Profesor(nombre=Ana, apellidos=Lopez, correo=h@h, contrasena=789, profesion=Ing. de Sistemas, centro_laboral=ULIMA, cursos=['Curso 5', 'Curso 6'], puntuacion=0), 'estudiantes': ['Juan', 'Maria', 'Pedro', 'Ana', 'Luis'], 'horarios': []}\n",
      "---------------------------------\n",
      "[Estudiante(nombre=Juan, apellidos=Perez, correo=a@a, contrasena=123, universidad=ULIMA, carrera=Ing. de Sistemas, ciclo=1, codigo=001, cursos=['Curso 1', 'Curso 2', 'Curso 3', 'Curso 4', 'Curso 5', 'Curso 6']), Estudiante(nombre=Maria, apellidos=Gomez, correo=c@c, contrasena=789, universidad=ULIMA, carrera=Ing. de Sistemas, ciclo=2, codigo=002, cursos=['Curso 1', 'Curso 2', 'Curso 3', 'Curso 4', 'Curso 5', 'Curso 6']), Estudiante(nombre=Pedro, apellidos=Torres, correo=b@b, contrasena=456, universidad=ULIMA, carrera=Ing. de Sistemas, ciclo=3, codigo=003, cursos=['Curso 1', 'Curso 2', 'Curso 3', 'Curso 4', 'Curso 5', 'Curso 6']), Estudiante(nombre=Ana, apellidos=Lopez, correo=d@d, contrasena=101, universidad=ULIMA, carrera=Ing. de Sistemas, ciclo=4, codigo=004, cursos=['Curso 1', 'Curso 2', 'Curso 3', 'Curso 4', 'Curso 5', 'Curso 6']), Estudiante(nombre=Luis, apellidos=Garcia, correo=e@e, contrasena=202, universidad=ULIMA, carrera=Ing. de Sistemas, ciclo=5, codigo=005, cursos=['Curso 1', 'Curso 2', 'Curso 3', 'Curso 4', 'Curso 5', 'Curso 6'])]\n",
      "[Estudiante(nombre=Juan, apellidos=Perez, correo=a@a, contrasena=123, universidad=ULIMA, carrera=Ing. de Sistemas, ciclo=1, codigo=001, cursos=['Curso 1', 'Curso 2', 'Curso 3', 'Curso 4', 'Curso 5', 'Curso 6']), Estudiante(nombre=Maria, apellidos=Gomez, correo=c@c, contrasena=789, universidad=ULIMA, carrera=Ing. de Sistemas, ciclo=2, codigo=002, cursos=['Curso 1', 'Curso 2', 'Curso 3', 'Curso 4', 'Curso 5', 'Curso 6']), Estudiante(nombre=Pedro, apellidos=Torres, correo=b@b, contrasena=456, universidad=ULIMA, carrera=Ing. de Sistemas, ciclo=3, codigo=003, cursos=['Curso 1', 'Curso 2', 'Curso 3', 'Curso 4', 'Curso 5', 'Curso 6']), Estudiante(nombre=Ana, apellidos=Lopez, correo=d@d, contrasena=101, universidad=ULIMA, carrera=Ing. de Sistemas, ciclo=4, codigo=004, cursos=['Curso 1', 'Curso 2', 'Curso 3', 'Curso 4', 'Curso 5', 'Curso 6']), Estudiante(nombre=Luis, apellidos=Garcia, correo=e@e, contrasena=202, universidad=ULIMA, carrera=Ing. de Sistemas, ciclo=5, codigo=005, cursos=['Curso 1', 'Curso 2', 'Curso 3', 'Curso 4', 'Curso 5', 'Curso 6'])]\n",
      "[Estudiante(nombre=Juan, apellidos=Perez, correo=a@a, contrasena=123, universidad=ULIMA, carrera=Ing. de Sistemas, ciclo=1, codigo=001, cursos=['Curso 1', 'Curso 2', 'Curso 3', 'Curso 4', 'Curso 5', 'Curso 6']), Estudiante(nombre=Maria, apellidos=Gomez, correo=c@c, contrasena=789, universidad=ULIMA, carrera=Ing. de Sistemas, ciclo=2, codigo=002, cursos=['Curso 1', 'Curso 2', 'Curso 3', 'Curso 4', 'Curso 5', 'Curso 6']), Estudiante(nombre=Pedro, apellidos=Torres, correo=b@b, contrasena=456, universidad=ULIMA, carrera=Ing. de Sistemas, ciclo=3, codigo=003, cursos=['Curso 1', 'Curso 2', 'Curso 3', 'Curso 4', 'Curso 5', 'Curso 6']), Estudiante(nombre=Ana, apellidos=Lopez, correo=d@d, contrasena=101, universidad=ULIMA, carrera=Ing. de Sistemas, ciclo=4, codigo=004, cursos=['Curso 1', 'Curso 2', 'Curso 3', 'Curso 4', 'Curso 5', 'Curso 6']), Estudiante(nombre=Luis, apellidos=Garcia, correo=e@e, contrasena=202, universidad=ULIMA, carrera=Ing. de Sistemas, ciclo=5, codigo=005, cursos=['Curso 1', 'Curso 2', 'Curso 3', 'Curso 4', 'Curso 5', 'Curso 6'])]\n",
      "[Estudiante(nombre=Juan, apellidos=Perez, correo=a@a, contrasena=123, universidad=ULIMA, carrera=Ing. de Sistemas, ciclo=1, codigo=001, cursos=['Curso 1', 'Curso 2', 'Curso 3', 'Curso 4', 'Curso 5', 'Curso 6']), Estudiante(nombre=Maria, apellidos=Gomez, correo=c@c, contrasena=789, universidad=ULIMA, carrera=Ing. de Sistemas, ciclo=2, codigo=002, cursos=['Curso 1', 'Curso 2', 'Curso 3', 'Curso 4', 'Curso 5', 'Curso 6']), Estudiante(nombre=Pedro, apellidos=Torres, correo=b@b, contrasena=456, universidad=ULIMA, carrera=Ing. de Sistemas, ciclo=3, codigo=003, cursos=['Curso 1', 'Curso 2', 'Curso 3', 'Curso 4', 'Curso 5', 'Curso 6']), Estudiante(nombre=Ana, apellidos=Lopez, correo=d@d, contrasena=101, universidad=ULIMA, carrera=Ing. de Sistemas, ciclo=4, codigo=004, cursos=['Curso 1', 'Curso 2', 'Curso 3', 'Curso 4', 'Curso 5', 'Curso 6']), Estudiante(nombre=Luis, apellidos=Garcia, correo=e@e, contrasena=202, universidad=ULIMA, carrera=Ing. de Sistemas, ciclo=5, codigo=005, cursos=['Curso 1', 'Curso 2', 'Curso 3', 'Curso 4', 'Curso 5', 'Curso 6'])]\n",
      "[Estudiante(nombre=Juan, apellidos=Perez, correo=a@a, contrasena=123, universidad=ULIMA, carrera=Ing. de Sistemas, ciclo=1, codigo=001, cursos=['Curso 1', 'Curso 2', 'Curso 3', 'Curso 4', 'Curso 5', 'Curso 6']), Estudiante(nombre=Maria, apellidos=Gomez, correo=c@c, contrasena=789, universidad=ULIMA, carrera=Ing. de Sistemas, ciclo=2, codigo=002, cursos=['Curso 1', 'Curso 2', 'Curso 3', 'Curso 4', 'Curso 5', 'Curso 6']), Estudiante(nombre=Pedro, apellidos=Torres, correo=b@b, contrasena=456, universidad=ULIMA, carrera=Ing. de Sistemas, ciclo=3, codigo=003, cursos=['Curso 1', 'Curso 2', 'Curso 3', 'Curso 4', 'Curso 5', 'Curso 6']), Estudiante(nombre=Ana, apellidos=Lopez, correo=d@d, contrasena=101, universidad=ULIMA, carrera=Ing. de Sistemas, ciclo=4, codigo=004, cursos=['Curso 1', 'Curso 2', 'Curso 3', 'Curso 4', 'Curso 5', 'Curso 6']), Estudiante(nombre=Luis, apellidos=Garcia, correo=e@e, contrasena=202, universidad=ULIMA, carrera=Ing. de Sistemas, ciclo=5, codigo=005, cursos=['Curso 1', 'Curso 2', 'Curso 3', 'Curso 4', 'Curso 5', 'Curso 6'])]\n",
      "[Estudiante(nombre=Juan, apellidos=Perez, correo=a@a, contrasena=123, universidad=ULIMA, carrera=Ing. de Sistemas, ciclo=1, codigo=001, cursos=['Curso 1', 'Curso 2', 'Curso 3', 'Curso 4', 'Curso 5', 'Curso 6']), Estudiante(nombre=Maria, apellidos=Gomez, correo=c@c, contrasena=789, universidad=ULIMA, carrera=Ing. de Sistemas, ciclo=2, codigo=002, cursos=['Curso 1', 'Curso 2', 'Curso 3', 'Curso 4', 'Curso 5', 'Curso 6']), Estudiante(nombre=Pedro, apellidos=Torres, correo=b@b, contrasena=456, universidad=ULIMA, carrera=Ing. de Sistemas, ciclo=3, codigo=003, cursos=['Curso 1', 'Curso 2', 'Curso 3', 'Curso 4', 'Curso 5', 'Curso 6']), Estudiante(nombre=Ana, apellidos=Lopez, correo=d@d, contrasena=101, universidad=ULIMA, carrera=Ing. de Sistemas, ciclo=4, codigo=004, cursos=['Curso 1', 'Curso 2', 'Curso 3', 'Curso 4', 'Curso 5', 'Curso 6']), Estudiante(nombre=Luis, apellidos=Garcia, correo=e@e, contrasena=202, universidad=ULIMA, carrera=Ing. de Sistemas, ciclo=5, codigo=005, cursos=['Curso 1', 'Curso 2', 'Curso 3', 'Curso 4', 'Curso 5', 'Curso 6'])]\n",
      "---------------------------------\n",
      "Profesor(nombre=Carlos, apellidos=Gomez, correo=f@f, contrasena=123, profesion=Ing. de Sistemas, centro_laboral=ULIMA, cursos=['Curso 1', 'Curso 2'], puntuacion=0)\n",
      "Profesor(nombre=Carlos, apellidos=Gomez, correo=f@f, contrasena=123, profesion=Ing. de Sistemas, centro_laboral=ULIMA, cursos=['Curso 1', 'Curso 2'], puntuacion=0)\n",
      "Profesor(nombre=Luis, apellidos=Torres, correo=g@g, contrasena=456, profesion=Ing. de Sistemas, centro_laboral=ULIMA, cursos=['Curso 3', 'Curso 4'], puntuacion=0)\n",
      "Profesor(nombre=Luis, apellidos=Torres, correo=g@g, contrasena=456, profesion=Ing. de Sistemas, centro_laboral=ULIMA, cursos=['Curso 3', 'Curso 4'], puntuacion=0)\n",
      "Profesor(nombre=Ana, apellidos=Lopez, correo=h@h, contrasena=789, profesion=Ing. de Sistemas, centro_laboral=ULIMA, cursos=['Curso 5', 'Curso 6'], puntuacion=0)\n",
      "Profesor(nombre=Ana, apellidos=Lopez, correo=h@h, contrasena=789, profesion=Ing. de Sistemas, centro_laboral=ULIMA, cursos=['Curso 5', 'Curso 6'], puntuacion=0)\n"
     ]
    }
   ],
   "source": [
    "print(str(estudiante1)+'\\n'+str(estudiante2)+'\\n'+str(estudiante3)+'\\n'+str(estudiante4)+'\\n'+str(estudiante5))\n",
    "print('---------------------------------')\n",
    "print(str(estudiante1.get_datos())+'\\n'+str(estudiante2.get_datos())+'\\n'+str(estudiante3.get_datos())+'\\n'+str(estudiante4.get_datos())+'\\n'+str(estudiante5.get_datos()))\n",
    "print('---------------------------------')\n",
    "print(str(curso1)+'\\n'+str(curso2)+'\\n'+str(curso3)+'\\n'+str(curso4)+'\\n'+str(curso5)+'\\n'+str(curso6))\n",
    "print('---------------------------------')\n",
    "print(str(curso1.get_datos())+'\\n'+str(curso2.get_datos())+'\\n'+str(curso3.get_datos())+'\\n'+str(curso4.get_datos())+'\\n'+str(curso5.get_datos())+'\\n'+str(curso6.get_datos()))\n",
    "print('---------------------------------')\n",
    "print(str(curso1.get_estudiantes())+'\\n'+str(curso2.get_estudiantes())+'\\n'+str(curso3.get_estudiantes())+'\\n'+str(curso4.get_estudiantes())+'\\n'+str(curso5.get_estudiantes())+'\\n'+str(curso6.get_estudiantes()))\n",
    "print('---------------------------------')\n",
    "print(str(curso1.get_profesor())+'\\n'+str(curso2.get_profesor())+'\\n'+str(curso3.get_profesor())+'\\n'+str(curso4.get_profesor())+'\\n'+str(curso5.get_profesor())+'\\n'+str(curso6.get_profesor()))\n"
   ]
  },
  {
   "cell_type": "code",
   "execution_count": 7,
   "metadata": {},
   "outputs": [
    {
     "name": "stdout",
     "output_type": "stream",
     "text": [
      "[Curso(nombre=Curso 1, descripcion=Descripcion 1, Profesor=Carlos, estudiantes=['Juan', 'Maria', 'Pedro', 'Ana', 'Luis'], horarios=[]), Curso(nombre=Curso 2, descripcion=Descripcion 2, Profesor=Carlos, estudiantes=['Juan', 'Maria', 'Pedro', 'Ana', 'Luis'], horarios=[]), Curso(nombre=Curso 3, descripcion=Descripcion 3, Profesor=Luis, estudiantes=['Juan', 'Maria', 'Pedro', 'Ana', 'Luis'], horarios=[]), Curso(nombre=Curso 4, descripcion=Descripcion 4, Profesor=Luis, estudiantes=['Juan', 'Maria', 'Pedro', 'Ana', 'Luis'], horarios=[]), Curso(nombre=Curso 5, descripcion=Descripcion 5, Profesor=Ana, estudiantes=['Juan', 'Maria', 'Pedro', 'Ana', 'Luis'], horarios=[]), Curso(nombre=Curso 6, descripcion=Descripcion 6, Profesor=Ana, estudiantes=['Juan', 'Maria', 'Pedro', 'Ana', 'Luis'], horarios=[])]\n",
      "[Curso(nombre=Curso 1, descripcion=Descripcion 1, Profesor=Carlos, estudiantes=['Juan', 'Maria', 'Pedro', 'Ana', 'Luis'], horarios=[]), Curso(nombre=Curso 2, descripcion=Descripcion 2, Profesor=Carlos, estudiantes=['Juan', 'Maria', 'Pedro', 'Ana', 'Luis'], horarios=[]), Curso(nombre=Curso 3, descripcion=Descripcion 3, Profesor=Luis, estudiantes=['Juan', 'Maria', 'Pedro', 'Ana', 'Luis'], horarios=[]), Curso(nombre=Curso 4, descripcion=Descripcion 4, Profesor=Luis, estudiantes=['Juan', 'Maria', 'Pedro', 'Ana', 'Luis'], horarios=[]), Curso(nombre=Curso 5, descripcion=Descripcion 5, Profesor=Ana, estudiantes=['Juan', 'Maria', 'Pedro', 'Ana', 'Luis'], horarios=[]), Curso(nombre=Curso 6, descripcion=Descripcion 6, Profesor=Ana, estudiantes=['Juan', 'Maria', 'Pedro', 'Ana', 'Luis'], horarios=[])]\n",
      "[Curso(nombre=Curso 1, descripcion=Descripcion 1, Profesor=Carlos, estudiantes=['Juan', 'Maria', 'Pedro', 'Ana', 'Luis'], horarios=[]), Curso(nombre=Curso 2, descripcion=Descripcion 2, Profesor=Carlos, estudiantes=['Juan', 'Maria', 'Pedro', 'Ana', 'Luis'], horarios=[]), Curso(nombre=Curso 3, descripcion=Descripcion 3, Profesor=Luis, estudiantes=['Juan', 'Maria', 'Pedro', 'Ana', 'Luis'], horarios=[]), Curso(nombre=Curso 4, descripcion=Descripcion 4, Profesor=Luis, estudiantes=['Juan', 'Maria', 'Pedro', 'Ana', 'Luis'], horarios=[]), Curso(nombre=Curso 5, descripcion=Descripcion 5, Profesor=Ana, estudiantes=['Juan', 'Maria', 'Pedro', 'Ana', 'Luis'], horarios=[]), Curso(nombre=Curso 6, descripcion=Descripcion 6, Profesor=Ana, estudiantes=['Juan', 'Maria', 'Pedro', 'Ana', 'Luis'], horarios=[])]\n",
      "[Curso(nombre=Curso 1, descripcion=Descripcion 1, Profesor=Carlos, estudiantes=['Juan', 'Maria', 'Pedro', 'Ana', 'Luis'], horarios=[]), Curso(nombre=Curso 2, descripcion=Descripcion 2, Profesor=Carlos, estudiantes=['Juan', 'Maria', 'Pedro', 'Ana', 'Luis'], horarios=[]), Curso(nombre=Curso 3, descripcion=Descripcion 3, Profesor=Luis, estudiantes=['Juan', 'Maria', 'Pedro', 'Ana', 'Luis'], horarios=[]), Curso(nombre=Curso 4, descripcion=Descripcion 4, Profesor=Luis, estudiantes=['Juan', 'Maria', 'Pedro', 'Ana', 'Luis'], horarios=[]), Curso(nombre=Curso 5, descripcion=Descripcion 5, Profesor=Ana, estudiantes=['Juan', 'Maria', 'Pedro', 'Ana', 'Luis'], horarios=[]), Curso(nombre=Curso 6, descripcion=Descripcion 6, Profesor=Ana, estudiantes=['Juan', 'Maria', 'Pedro', 'Ana', 'Luis'], horarios=[])]\n",
      "[Curso(nombre=Curso 1, descripcion=Descripcion 1, Profesor=Carlos, estudiantes=['Juan', 'Maria', 'Pedro', 'Ana', 'Luis'], horarios=[]), Curso(nombre=Curso 2, descripcion=Descripcion 2, Profesor=Carlos, estudiantes=['Juan', 'Maria', 'Pedro', 'Ana', 'Luis'], horarios=[]), Curso(nombre=Curso 3, descripcion=Descripcion 3, Profesor=Luis, estudiantes=['Juan', 'Maria', 'Pedro', 'Ana', 'Luis'], horarios=[]), Curso(nombre=Curso 4, descripcion=Descripcion 4, Profesor=Luis, estudiantes=['Juan', 'Maria', 'Pedro', 'Ana', 'Luis'], horarios=[]), Curso(nombre=Curso 5, descripcion=Descripcion 5, Profesor=Ana, estudiantes=['Juan', 'Maria', 'Pedro', 'Ana', 'Luis'], horarios=[]), Curso(nombre=Curso 6, descripcion=Descripcion 6, Profesor=Ana, estudiantes=['Juan', 'Maria', 'Pedro', 'Ana', 'Luis'], horarios=[])]\n",
      "---------------------------------\n",
      "[Curso(nombre=Curso 1, descripcion=Descripcion 1, Profesor=Carlos, estudiantes=['Juan', 'Maria', 'Pedro', 'Ana', 'Luis'], horarios=[]), Curso(nombre=Curso 2, descripcion=Descripcion 2, Profesor=Carlos, estudiantes=['Juan', 'Maria', 'Pedro', 'Ana', 'Luis'], horarios=[])]\n",
      "[Curso(nombre=Curso 3, descripcion=Descripcion 3, Profesor=Luis, estudiantes=['Juan', 'Maria', 'Pedro', 'Ana', 'Luis'], horarios=[]), Curso(nombre=Curso 4, descripcion=Descripcion 4, Profesor=Luis, estudiantes=['Juan', 'Maria', 'Pedro', 'Ana', 'Luis'], horarios=[])]\n",
      "[Curso(nombre=Curso 5, descripcion=Descripcion 5, Profesor=Ana, estudiantes=['Juan', 'Maria', 'Pedro', 'Ana', 'Luis'], horarios=[]), Curso(nombre=Curso 6, descripcion=Descripcion 6, Profesor=Ana, estudiantes=['Juan', 'Maria', 'Pedro', 'Ana', 'Luis'], horarios=[])]\n"
     ]
    }
   ],
   "source": [
    "print(estudiante1.get_cursos())\n",
    "print(estudiante2.get_cursos()) \n",
    "print(estudiante3.get_cursos())\n",
    "print(estudiante4.get_cursos())\n",
    "print(estudiante5.get_cursos())\n",
    "print('---------------------------------')\n",
    "print(profesor1.get_cursos())\n",
    "print(profesor2.get_cursos())\n",
    "print(profesor3.get_cursos())\n"
   ]
  },
  {
   "cell_type": "code",
   "execution_count": 8,
   "metadata": {},
   "outputs": [
    {
     "name": "stdout",
     "output_type": "stream",
     "text": [
      "['Juan(Curso 1)', 'Maria(Curso 1)', 'Pedro(Curso 1)', 'Ana(Curso 1)', 'Luis(Curso 1)', 'Juan(Curso 2)', 'Maria(Curso 2)', 'Pedro(Curso 2)', 'Ana(Curso 2)', 'Luis(Curso 2)']\n",
      "['Juan(Curso 3)', 'Maria(Curso 3)', 'Pedro(Curso 3)', 'Ana(Curso 3)', 'Luis(Curso 3)', 'Juan(Curso 4)', 'Maria(Curso 4)', 'Pedro(Curso 4)', 'Ana(Curso 4)', 'Luis(Curso 4)']\n",
      "['Juan(Curso 5)', 'Maria(Curso 5)', 'Pedro(Curso 5)', 'Ana(Curso 5)', 'Luis(Curso 5)', 'Juan(Curso 6)', 'Maria(Curso 6)', 'Pedro(Curso 6)', 'Ana(Curso 6)', 'Luis(Curso 6)']\n"
     ]
    }
   ],
   "source": [
    "print(profesor1.ver_estudiantes())\n",
    "print(profesor2.ver_estudiantes())\n",
    "print(profesor3.ver_estudiantes())\n"
   ]
  },
  {
   "cell_type": "code",
   "execution_count": 9,
   "metadata": {},
   "outputs": [
    {
     "name": "stdout",
     "output_type": "stream",
     "text": [
      "Horario creado con exito.\n",
      "Horario creado con exito.\n",
      "Horario creado con exito.\n",
      "Horario creado con exito.\n",
      "Horario creado con exito.\n",
      "Horario creado con exito.\n",
      "Horario creado con exito.\n",
      "Horario creado con exito.\n",
      "Horario creado con exito.\n",
      "Horario creado con exito.\n",
      "Horario creado con exito.\n",
      "Horario creado con exito.\n",
      "Horario creado con exito.\n",
      "Horario creado con exito.\n",
      "Horario creado con exito.\n",
      "---------------------------------\n",
      "Horario(Curso=Curso 1, dia=Lunes, hora_inicio=8:00, hora_fin=10:00)\n",
      "Horario(Curso=Curso 1, dia=Martes, hora_inicio=8:00, hora_fin=10:00)\n",
      "Horario(Curso=Curso 1, dia=Miercoles, hora_inicio=8:00, hora_fin=10:00)\n",
      "Horario(Curso=Curso 2, dia=Jueves, hora_inicio=8:00, hora_fin=10:00)\n",
      "Horario(Curso=Curso 2, dia=Viernes, hora_inicio=8:00, hora_fin=10:00)\n",
      "Horario(Curso=Curso 3, dia=Lunes, hora_inicio=10:00, hora_fin=12:00)\n",
      "Horario(Curso=Curso 3, dia=Martes, hora_inicio=10:00, hora_fin=12:00)\n",
      "Horario(Curso=Curso 3, dia=Miercoles, hora_inicio=10:00, hora_fin=12:00)\n",
      "Horario(Curso=Curso 4, dia=Jueves, hora_inicio=10:00, hora_fin=12:00)\n",
      "Horario(Curso=Curso 4, dia=Viernes, hora_inicio=10:00, hora_fin=12:00)\n",
      "Horario(Curso=Curso 5, dia=Lunes, hora_inicio=14:00, hora_fin=16:00)\n",
      "Horario(Curso=Curso 5, dia=Martes, hora_inicio=14:00, hora_fin=16:00)\n",
      "Horario(Curso=Curso 5, dia=Miercoles, hora_inicio=14:00, hora_fin=16:00)\n",
      "Horario(Curso=Curso 6, dia=Jueves, hora_inicio=14:00, hora_fin=16:00)\n",
      "Horario(Curso=Curso 6, dia=Viernes, hora_inicio=14:00, hora_fin=16:00)\n"
     ]
    }
   ],
   "source": [
    "horario1 = profesor1.crear_horario(curso1, 'Lunes', '8:00', '10:00')\n",
    "horario2 = profesor1.crear_horario(curso1, 'Martes', '8:00', '10:00')\n",
    "horario3 = profesor1.crear_horario(curso1, 'Miercoles', '8:00', '10:00')\n",
    "horario4 = profesor1.crear_horario(curso2, 'Jueves', '8:00', '10:00')\n",
    "horario5 = profesor1.crear_horario(curso2, 'Viernes', '8:00', '10:00')\n",
    "horario6 = profesor2.crear_horario(curso3, 'Lunes', '10:00', '12:00')\n",
    "horario7 = profesor2.crear_horario(curso3, 'Martes', '10:00', '12:00')\n",
    "horario8 = profesor2.crear_horario(curso3, 'Miercoles', '10:00', '12:00')\n",
    "horario9 = profesor2.crear_horario(curso4, 'Jueves', '10:00', '12:00')\n",
    "horario10 = profesor2.crear_horario(curso4, 'Viernes', '10:00', '12:00')\n",
    "horario11 = profesor3.crear_horario(curso5, 'Lunes', '14:00', '16:00')\n",
    "horario12 = profesor3.crear_horario(curso5, 'Martes', '14:00', '16:00')\n",
    "horario13 = profesor3.crear_horario(curso5, 'Miercoles', '14:00', '16:00')\n",
    "horario14 = profesor3.crear_horario(curso6, 'Jueves', '14:00', '16:00')\n",
    "horario15 = profesor3.crear_horario(curso6, 'Viernes', '14:00', '16:00')\n",
    "print('---------------------------------')\n",
    "print(str(horario1)+'\\n'+str(horario2)+'\\n'+str(horario3)+'\\n'+str(horario4)+'\\n'+str(horario5)+'\\n'+str(horario6)+'\\n'+str(horario7)+'\\n'+str(horario8)+'\\n'+str(horario9)+'\\n'+str(horario10)+'\\n'+str(horario11)+'\\n'+str(horario12)+'\\n'+str(horario13)+'\\n'+str(horario14)+'\\n'+str(horario15))\n"
   ]
  },
  {
   "cell_type": "code",
   "execution_count": 10,
   "metadata": {},
   "outputs": [
    {
     "name": "stdout",
     "output_type": "stream",
     "text": [
      "[Horario(Curso=Curso 1, dia=Lunes, hora_inicio=8:00, hora_fin=10:00), Horario(Curso=Curso 1, dia=Martes, hora_inicio=8:00, hora_fin=10:00), Horario(Curso=Curso 1, dia=Miercoles, hora_inicio=8:00, hora_fin=10:00)]\n",
      "[Horario(Curso=Curso 2, dia=Jueves, hora_inicio=8:00, hora_fin=10:00), Horario(Curso=Curso 2, dia=Viernes, hora_inicio=8:00, hora_fin=10:00)]\n",
      "[Horario(Curso=Curso 3, dia=Lunes, hora_inicio=10:00, hora_fin=12:00), Horario(Curso=Curso 3, dia=Martes, hora_inicio=10:00, hora_fin=12:00), Horario(Curso=Curso 3, dia=Miercoles, hora_inicio=10:00, hora_fin=12:00)]\n",
      "[Horario(Curso=Curso 4, dia=Jueves, hora_inicio=10:00, hora_fin=12:00), Horario(Curso=Curso 4, dia=Viernes, hora_inicio=10:00, hora_fin=12:00)]\n",
      "[Horario(Curso=Curso 5, dia=Lunes, hora_inicio=14:00, hora_fin=16:00), Horario(Curso=Curso 5, dia=Martes, hora_inicio=14:00, hora_fin=16:00), Horario(Curso=Curso 5, dia=Miercoles, hora_inicio=14:00, hora_fin=16:00)]\n",
      "[Horario(Curso=Curso 6, dia=Jueves, hora_inicio=14:00, hora_fin=16:00), Horario(Curso=Curso 6, dia=Viernes, hora_inicio=14:00, hora_fin=16:00)]\n"
     ]
    }
   ],
   "source": [
    "print(curso1.get_horarios())\n",
    "print(curso2.get_horarios())\n",
    "print(curso3.get_horarios())\n",
    "print(curso4.get_horarios())\n",
    "print(curso5.get_horarios())\n",
    "print(curso6.get_horarios())\n"
   ]
  },
  {
   "cell_type": "code",
   "execution_count": 11,
   "metadata": {},
   "outputs": [
    {
     "name": "stdout",
     "output_type": "stream",
     "text": [
      "['Carlos', 'Luis', 'Ana']\n",
      "['Carlos', 'Luis', 'Ana']\n",
      "['Carlos', 'Luis', 'Ana']\n",
      "['Carlos', 'Luis', 'Ana']\n",
      "['Carlos', 'Luis', 'Ana']\n"
     ]
    }
   ],
   "source": [
    "print(estudiante1.ver_profesores())\n",
    "print(estudiante2.ver_profesores())\n",
    "print(estudiante3.ver_profesores())\n",
    "print(estudiante4.ver_profesores())\n",
    "print(estudiante5.ver_profesores())\n"
   ]
  },
  {
   "cell_type": "code",
   "execution_count": 12,
   "metadata": {},
   "outputs": [
    {
     "name": "stdout",
     "output_type": "stream",
     "text": [
      "Estudiante Juan retirado del curso \"Curso 1\".\n",
      "Estudiante Juan retirado del curso \"Curso 2\".\n",
      "No estás matriculado en ningún curso del profesor Carlos para calificarlo.\n"
     ]
    },
    {
     "data": {
      "text/plain": [
       "['Luis', 'Ana']"
      ]
     },
     "execution_count": 12,
     "metadata": {},
     "output_type": "execute_result"
    }
   ],
   "source": [
    "estudiante1.retirar_curso(curso1)\n",
    "estudiante1.retirar_curso(curso2)\n",
    "estudiante1.calificar_profesor(profesor1, 5)\n",
    "estudiante1.ver_profesores()\n"
   ]
  },
  {
   "cell_type": "code",
   "execution_count": 13,
   "metadata": {},
   "outputs": [
    {
     "name": "stdout",
     "output_type": "stream",
     "text": [
      "Profesor Ana calificado con éxito.\n",
      "Profesor Carlos calificado con éxito.\n",
      "Profesor Luis calificado con éxito.\n",
      "Profesor Ana calificado con éxito.\n",
      "Profesor Carlos calificado con éxito.\n",
      "Profesor Luis calificado con éxito.\n",
      "Profesor Ana calificado con éxito.\n",
      "Profesor Carlos calificado con éxito.\n",
      "Profesor Luis calificado con éxito.\n",
      "Profesor Ana calificado con éxito.\n",
      "Profesor Carlos calificado con éxito.\n",
      "Profesor Luis calificado con éxito.\n",
      "Profesor Ana calificado con éxito.\n"
     ]
    }
   ],
   "source": [
    "estudiante1.calificar_profesor(profesor3, 2)\n",
    "estudiante2.calificar_profesor(profesor1, 1)\n",
    "estudiante2.calificar_profesor(profesor2, 2)\n",
    "estudiante2.calificar_profesor(profesor3, 3)\n",
    "estudiante3.calificar_profesor(profesor1, 4)\n",
    "estudiante3.calificar_profesor(profesor2, 5)\n",
    "estudiante3.calificar_profesor(profesor3, 1)\n",
    "estudiante4.calificar_profesor(profesor1, 2)\n",
    "estudiante4.calificar_profesor(profesor2, 3)\n",
    "estudiante4.calificar_profesor(profesor3, 4)\n",
    "estudiante5.calificar_profesor(profesor1, 5)\n",
    "estudiante5.calificar_profesor(profesor2, 1)\n",
    "estudiante5.calificar_profesor(profesor3, 2)\n",
    "\n"
   ]
  },
  {
   "cell_type": "code",
   "execution_count": 14,
   "metadata": {},
   "outputs": [
    {
     "name": "stdout",
     "output_type": "stream",
     "text": [
      "['Luis', 'Ana']\n",
      "[Curso(nombre=Curso 3, descripcion=Descripcion 3, Profesor=Luis, estudiantes=['Juan', 'Maria', 'Pedro', 'Ana', 'Luis'], horarios=[{'curso': 'Curso 3', 'dia': 'Lunes', 'hora_inicio': '10:00', 'hora_fin': '12:00'}, {'curso': 'Curso 3', 'dia': 'Martes', 'hora_inicio': '10:00', 'hora_fin': '12:00'}, {'curso': 'Curso 3', 'dia': 'Miercoles', 'hora_inicio': '10:00', 'hora_fin': '12:00'}]), Curso(nombre=Curso 4, descripcion=Descripcion 4, Profesor=Luis, estudiantes=['Juan', 'Maria', 'Pedro', 'Ana', 'Luis'], horarios=[{'curso': 'Curso 4', 'dia': 'Jueves', 'hora_inicio': '10:00', 'hora_fin': '12:00'}, {'curso': 'Curso 4', 'dia': 'Viernes', 'hora_inicio': '10:00', 'hora_fin': '12:00'}]), Curso(nombre=Curso 5, descripcion=Descripcion 5, Profesor=Ana, estudiantes=['Juan', 'Maria', 'Pedro', 'Ana', 'Luis'], horarios=[{'curso': 'Curso 5', 'dia': 'Lunes', 'hora_inicio': '14:00', 'hora_fin': '16:00'}, {'curso': 'Curso 5', 'dia': 'Martes', 'hora_inicio': '14:00', 'hora_fin': '16:00'}, {'curso': 'Curso 5', 'dia': 'Miercoles', 'hora_inicio': '14:00', 'hora_fin': '16:00'}]), Curso(nombre=Curso 6, descripcion=Descripcion 6, Profesor=Ana, estudiantes=['Juan', 'Maria', 'Pedro', 'Ana', 'Luis'], horarios=[{'curso': 'Curso 6', 'dia': 'Jueves', 'hora_inicio': '14:00', 'hora_fin': '16:00'}, {'curso': 'Curso 6', 'dia': 'Viernes', 'hora_inicio': '14:00', 'hora_fin': '16:00'}])]\n"
     ]
    }
   ],
   "source": [
    "print(estudiante1.ver_profesores())\n",
    "print(estudiante1.get_cursos())"
   ]
  },
  {
   "cell_type": "code",
   "execution_count": 15,
   "metadata": {},
   "outputs": [
    {
     "name": "stdout",
     "output_type": "stream",
     "text": [
      "Estudiante Juan matriculado al curso \"Curso 1\" con exito.\n",
      "Estudiante Juan matriculado al curso \"Curso 2\" con exito.\n",
      "---------------------------------\n",
      "['Luis', 'Ana', 'Carlos']\n",
      "[Curso(nombre=Curso 3, descripcion=Descripcion 3, Profesor=Luis, estudiantes=['Juan', 'Maria', 'Pedro', 'Ana', 'Luis'], horarios=[{'curso': 'Curso 3', 'dia': 'Lunes', 'hora_inicio': '10:00', 'hora_fin': '12:00'}, {'curso': 'Curso 3', 'dia': 'Martes', 'hora_inicio': '10:00', 'hora_fin': '12:00'}, {'curso': 'Curso 3', 'dia': 'Miercoles', 'hora_inicio': '10:00', 'hora_fin': '12:00'}]), Curso(nombre=Curso 4, descripcion=Descripcion 4, Profesor=Luis, estudiantes=['Juan', 'Maria', 'Pedro', 'Ana', 'Luis'], horarios=[{'curso': 'Curso 4', 'dia': 'Jueves', 'hora_inicio': '10:00', 'hora_fin': '12:00'}, {'curso': 'Curso 4', 'dia': 'Viernes', 'hora_inicio': '10:00', 'hora_fin': '12:00'}]), Curso(nombre=Curso 5, descripcion=Descripcion 5, Profesor=Ana, estudiantes=['Juan', 'Maria', 'Pedro', 'Ana', 'Luis'], horarios=[{'curso': 'Curso 5', 'dia': 'Lunes', 'hora_inicio': '14:00', 'hora_fin': '16:00'}, {'curso': 'Curso 5', 'dia': 'Martes', 'hora_inicio': '14:00', 'hora_fin': '16:00'}, {'curso': 'Curso 5', 'dia': 'Miercoles', 'hora_inicio': '14:00', 'hora_fin': '16:00'}]), Curso(nombre=Curso 6, descripcion=Descripcion 6, Profesor=Ana, estudiantes=['Juan', 'Maria', 'Pedro', 'Ana', 'Luis'], horarios=[{'curso': 'Curso 6', 'dia': 'Jueves', 'hora_inicio': '14:00', 'hora_fin': '16:00'}, {'curso': 'Curso 6', 'dia': 'Viernes', 'hora_inicio': '14:00', 'hora_fin': '16:00'}]), Curso(nombre=Curso 1, descripcion=Descripcion 1, Profesor=Carlos, estudiantes=['Maria', 'Pedro', 'Ana', 'Luis', 'Juan'], horarios=[{'curso': 'Curso 1', 'dia': 'Lunes', 'hora_inicio': '8:00', 'hora_fin': '10:00'}, {'curso': 'Curso 1', 'dia': 'Martes', 'hora_inicio': '8:00', 'hora_fin': '10:00'}, {'curso': 'Curso 1', 'dia': 'Miercoles', 'hora_inicio': '8:00', 'hora_fin': '10:00'}]), Curso(nombre=Curso 2, descripcion=Descripcion 2, Profesor=Carlos, estudiantes=['Maria', 'Pedro', 'Ana', 'Luis', 'Juan'], horarios=[{'curso': 'Curso 2', 'dia': 'Jueves', 'hora_inicio': '8:00', 'hora_fin': '10:00'}, {'curso': 'Curso 2', 'dia': 'Viernes', 'hora_inicio': '8:00', 'hora_fin': '10:00'}])]\n"
     ]
    }
   ],
   "source": [
    "estudiante1.matricular_curso(curso1)\n",
    "estudiante1.matricular_curso(curso2)\n",
    "print('---------------------------------')\n",
    "print(estudiante1.ver_profesores())\n",
    "print(estudiante1.get_cursos())"
   ]
  },
  {
   "cell_type": "code",
   "execution_count": 16,
   "metadata": {},
   "outputs": [
    {
     "name": "stdout",
     "output_type": "stream",
     "text": [
      "Estudiante Maria retirado del curso \"Curso 1\".\n",
      "Estudiante Ana retirado del curso \"Curso 1\".\n",
      "Estudiante Juan retirado del curso \"Curso 1\".\n",
      "Curso \"Curso 1\" eliminado con éxito.\n",
      "Estudiante Maria retirado del curso \"Curso 2\".\n",
      "Estudiante Ana retirado del curso \"Curso 2\".\n",
      "Estudiante Juan retirado del curso \"Curso 2\".\n",
      "Curso \"Curso 2\" eliminado con éxito.\n",
      "---------------------------------\n",
      "['Luis', 'Ana']\n",
      "[Curso(nombre=Curso 3, descripcion=Descripcion 3, Profesor=Luis, estudiantes=['Juan', 'Maria', 'Pedro', 'Ana', 'Luis'], horarios=[{'curso': 'Curso 3', 'dia': 'Lunes', 'hora_inicio': '10:00', 'hora_fin': '12:00'}, {'curso': 'Curso 3', 'dia': 'Martes', 'hora_inicio': '10:00', 'hora_fin': '12:00'}, {'curso': 'Curso 3', 'dia': 'Miercoles', 'hora_inicio': '10:00', 'hora_fin': '12:00'}]), Curso(nombre=Curso 4, descripcion=Descripcion 4, Profesor=Luis, estudiantes=['Juan', 'Maria', 'Pedro', 'Ana', 'Luis'], horarios=[{'curso': 'Curso 4', 'dia': 'Jueves', 'hora_inicio': '10:00', 'hora_fin': '12:00'}, {'curso': 'Curso 4', 'dia': 'Viernes', 'hora_inicio': '10:00', 'hora_fin': '12:00'}]), Curso(nombre=Curso 5, descripcion=Descripcion 5, Profesor=Ana, estudiantes=['Juan', 'Maria', 'Pedro', 'Ana', 'Luis'], horarios=[{'curso': 'Curso 5', 'dia': 'Lunes', 'hora_inicio': '14:00', 'hora_fin': '16:00'}, {'curso': 'Curso 5', 'dia': 'Martes', 'hora_inicio': '14:00', 'hora_fin': '16:00'}, {'curso': 'Curso 5', 'dia': 'Miercoles', 'hora_inicio': '14:00', 'hora_fin': '16:00'}]), Curso(nombre=Curso 6, descripcion=Descripcion 6, Profesor=Ana, estudiantes=['Juan', 'Maria', 'Pedro', 'Ana', 'Luis'], horarios=[{'curso': 'Curso 6', 'dia': 'Jueves', 'hora_inicio': '14:00', 'hora_fin': '16:00'}, {'curso': 'Curso 6', 'dia': 'Viernes', 'hora_inicio': '14:00', 'hora_fin': '16:00'}])]\n"
     ]
    }
   ],
   "source": [
    "profesor1.eliminar_curso(curso1)\n",
    "profesor1.eliminar_curso(curso2)\n",
    "print('---------------------------------')\n",
    "print(estudiante1.ver_profesores())\n",
    "print(estudiante1.get_cursos())"
   ]
  },
  {
   "cell_type": "code",
   "execution_count": 17,
   "metadata": {},
   "outputs": [
    {
     "data": {
      "text/plain": [
       "[]"
      ]
     },
     "execution_count": 17,
     "metadata": {},
     "output_type": "execute_result"
    }
   ],
   "source": [
    "profesor1.get_cursos()"
   ]
  },
  {
   "cell_type": "code",
   "execution_count": 18,
   "metadata": {},
   "outputs": [
    {
     "name": "stdout",
     "output_type": "stream",
     "text": [
      "3.0\n",
      "2.8\n",
      "2.4\n"
     ]
    }
   ],
   "source": [
    "print(profesor1.get_puntuacion())\n",
    "print(profesor2.get_puntuacion())\n",
    "print(profesor3.get_puntuacion())"
   ]
  },
  {
   "cell_type": "code",
   "execution_count": 19,
   "metadata": {},
   "outputs": [
    {
     "data": {
      "text/plain": [
       "[Curso(nombre=Curso 3, descripcion=Descripcion 3, Profesor=Luis, estudiantes=['Juan', 'Maria', 'Pedro', 'Ana', 'Luis'], horarios=[{'curso': 'Curso 3', 'dia': 'Lunes', 'hora_inicio': '10:00', 'hora_fin': '12:00'}, {'curso': 'Curso 3', 'dia': 'Martes', 'hora_inicio': '10:00', 'hora_fin': '12:00'}, {'curso': 'Curso 3', 'dia': 'Miercoles', 'hora_inicio': '10:00', 'hora_fin': '12:00'}]),\n",
       " Curso(nombre=Curso 4, descripcion=Descripcion 4, Profesor=Luis, estudiantes=['Juan', 'Maria', 'Pedro', 'Ana', 'Luis'], horarios=[{'curso': 'Curso 4', 'dia': 'Jueves', 'hora_inicio': '10:00', 'hora_fin': '12:00'}, {'curso': 'Curso 4', 'dia': 'Viernes', 'hora_inicio': '10:00', 'hora_fin': '12:00'}]),\n",
       " Curso(nombre=Curso 5, descripcion=Descripcion 5, Profesor=Ana, estudiantes=['Juan', 'Maria', 'Pedro', 'Ana', 'Luis'], horarios=[{'curso': 'Curso 5', 'dia': 'Lunes', 'hora_inicio': '14:00', 'hora_fin': '16:00'}, {'curso': 'Curso 5', 'dia': 'Martes', 'hora_inicio': '14:00', 'hora_fin': '16:00'}, {'curso': 'Curso 5', 'dia': 'Miercoles', 'hora_inicio': '14:00', 'hora_fin': '16:00'}]),\n",
       " Curso(nombre=Curso 6, descripcion=Descripcion 6, Profesor=Ana, estudiantes=['Juan', 'Maria', 'Pedro', 'Ana', 'Luis'], horarios=[{'curso': 'Curso 6', 'dia': 'Jueves', 'hora_inicio': '14:00', 'hora_fin': '16:00'}, {'curso': 'Curso 6', 'dia': 'Viernes', 'hora_inicio': '14:00', 'hora_fin': '16:00'}])]"
      ]
     },
     "execution_count": 19,
     "metadata": {},
     "output_type": "execute_result"
    }
   ],
   "source": [
    "estudiante1.get_cursos()"
   ]
  },
  {
   "cell_type": "code",
   "execution_count": 20,
   "metadata": {},
   "outputs": [
    {
     "name": "stdout",
     "output_type": "stream",
     "text": [
      "Curso modificado con éxito.\n"
     ]
    }
   ],
   "source": [
    "profesor2.modificar_curso(curso3, 'Curso 3 Moficicado', 'Descripcion 3 Modificado')"
   ]
  },
  {
   "cell_type": "code",
   "execution_count": 21,
   "metadata": {},
   "outputs": [
    {
     "data": {
      "text/plain": [
       "[Curso(nombre=Curso 3 Moficicado, descripcion=Descripcion 3 Modificado, Profesor=Luis, estudiantes=['Juan', 'Maria', 'Pedro', 'Ana', 'Luis'], horarios=[{'curso': 'Curso 3 Moficicado', 'dia': 'Lunes', 'hora_inicio': '10:00', 'hora_fin': '12:00'}, {'curso': 'Curso 3 Moficicado', 'dia': 'Martes', 'hora_inicio': '10:00', 'hora_fin': '12:00'}, {'curso': 'Curso 3 Moficicado', 'dia': 'Miercoles', 'hora_inicio': '10:00', 'hora_fin': '12:00'}]),\n",
       " Curso(nombre=Curso 4, descripcion=Descripcion 4, Profesor=Luis, estudiantes=['Juan', 'Maria', 'Pedro', 'Ana', 'Luis'], horarios=[{'curso': 'Curso 4', 'dia': 'Jueves', 'hora_inicio': '10:00', 'hora_fin': '12:00'}, {'curso': 'Curso 4', 'dia': 'Viernes', 'hora_inicio': '10:00', 'hora_fin': '12:00'}]),\n",
       " Curso(nombre=Curso 5, descripcion=Descripcion 5, Profesor=Ana, estudiantes=['Juan', 'Maria', 'Pedro', 'Ana', 'Luis'], horarios=[{'curso': 'Curso 5', 'dia': 'Lunes', 'hora_inicio': '14:00', 'hora_fin': '16:00'}, {'curso': 'Curso 5', 'dia': 'Martes', 'hora_inicio': '14:00', 'hora_fin': '16:00'}, {'curso': 'Curso 5', 'dia': 'Miercoles', 'hora_inicio': '14:00', 'hora_fin': '16:00'}]),\n",
       " Curso(nombre=Curso 6, descripcion=Descripcion 6, Profesor=Ana, estudiantes=['Juan', 'Maria', 'Pedro', 'Ana', 'Luis'], horarios=[{'curso': 'Curso 6', 'dia': 'Jueves', 'hora_inicio': '14:00', 'hora_fin': '16:00'}, {'curso': 'Curso 6', 'dia': 'Viernes', 'hora_inicio': '14:00', 'hora_fin': '16:00'}])]"
      ]
     },
     "execution_count": 21,
     "metadata": {},
     "output_type": "execute_result"
    }
   ],
   "source": [
    "estudiante1.get_cursos()"
   ]
  },
  {
   "cell_type": "code",
   "execution_count": 22,
   "metadata": {},
   "outputs": [
    {
     "data": {
      "text/plain": [
       "[Horario(Curso=Curso 3 Moficicado, dia=Lunes, hora_inicio=10:00, hora_fin=12:00),\n",
       " Horario(Curso=Curso 3 Moficicado, dia=Martes, hora_inicio=10:00, hora_fin=12:00),\n",
       " Horario(Curso=Curso 3 Moficicado, dia=Miercoles, hora_inicio=10:00, hora_fin=12:00)]"
      ]
     },
     "execution_count": 22,
     "metadata": {},
     "output_type": "execute_result"
    }
   ],
   "source": [
    "curso3.get_horarios()"
   ]
  },
  {
   "cell_type": "code",
   "execution_count": 23,
   "metadata": {},
   "outputs": [
    {
     "name": "stdout",
     "output_type": "stream",
     "text": [
      "Horario modificado con exito.\n"
     ]
    }
   ],
   "source": [
    "profesor2.modificar_horario(curso3, horario6, 'Lunes', '8:00', '10:00')"
   ]
  },
  {
   "cell_type": "code",
   "execution_count": 24,
   "metadata": {},
   "outputs": [
    {
     "data": {
      "text/plain": [
       "[Horario(Curso=Curso 3 Moficicado, dia=Lunes, hora_inicio=8:00, hora_fin=10:00),\n",
       " Horario(Curso=Curso 3 Moficicado, dia=Martes, hora_inicio=10:00, hora_fin=12:00),\n",
       " Horario(Curso=Curso 3 Moficicado, dia=Miercoles, hora_inicio=10:00, hora_fin=12:00)]"
      ]
     },
     "execution_count": 24,
     "metadata": {},
     "output_type": "execute_result"
    }
   ],
   "source": [
    "curso3.get_horarios()"
   ]
  },
  {
   "cell_type": "code",
   "execution_count": 25,
   "metadata": {},
   "outputs": [
    {
     "name": "stdout",
     "output_type": "stream",
     "text": [
      "Horario eliminado con exito.\n"
     ]
    }
   ],
   "source": [
    "profesor2.eliminar_horario(curso3, horario6)"
   ]
  },
  {
   "cell_type": "code",
   "execution_count": 26,
   "metadata": {},
   "outputs": [
    {
     "data": {
      "text/plain": [
       "[Horario(Curso=Curso 3 Moficicado, dia=Martes, hora_inicio=10:00, hora_fin=12:00),\n",
       " Horario(Curso=Curso 3 Moficicado, dia=Miercoles, hora_inicio=10:00, hora_fin=12:00)]"
      ]
     },
     "execution_count": 26,
     "metadata": {},
     "output_type": "execute_result"
    }
   ],
   "source": [
    "curso3.get_horarios()"
   ]
  },
  {
   "cell_type": "code",
   "execution_count": 27,
   "metadata": {},
   "outputs": [
    {
     "data": {
      "text/plain": [
       "[Calificacion(Estudiante=Juan, Profesor=Ana, puntuacion=2)]"
      ]
     },
     "execution_count": 27,
     "metadata": {},
     "output_type": "execute_result"
    }
   ],
   "source": [
    "estudiante1.get_calificaciones()"
   ]
  },
  {
   "cell_type": "code",
   "execution_count": 28,
   "metadata": {},
   "outputs": [
    {
     "data": {
      "text/plain": [
       "[2, 5, 3, 1]"
      ]
     },
     "execution_count": 28,
     "metadata": {},
     "output_type": "execute_result"
    }
   ],
   "source": [
    "profesor2._puntuaciones"
   ]
  },
  {
   "cell_type": "code",
   "execution_count": 29,
   "metadata": {},
   "outputs": [
    {
     "name": "stdout",
     "output_type": "stream",
     "text": [
      "Profesor Luis calificado con éxito.\n"
     ]
    }
   ],
   "source": [
    "estudiante1.calificar_profesor(profesor2, 5)"
   ]
  },
  {
   "cell_type": "code",
   "execution_count": 30,
   "metadata": {},
   "outputs": [
    {
     "data": {
      "text/plain": [
       "[2, 5, 3, 1, 5]"
      ]
     },
     "execution_count": 30,
     "metadata": {},
     "output_type": "execute_result"
    }
   ],
   "source": [
    "profesor2._puntuaciones"
   ]
  },
  {
   "cell_type": "code",
   "execution_count": 31,
   "metadata": {},
   "outputs": [
    {
     "name": "stdout",
     "output_type": "stream",
     "text": [
      "Calificacion eliminada con éxito.\n"
     ]
    },
    {
     "data": {
      "text/plain": [
       "[Calificacion(Estudiante=Juan, Profesor=Ana, puntuacion=2)]"
      ]
     },
     "execution_count": 31,
     "metadata": {},
     "output_type": "execute_result"
    }
   ],
   "source": [
    "estudiante1.eliminar_calificacion(profesor2)\n",
    "estudiante1.get_calificaciones()"
   ]
  },
  {
   "cell_type": "code",
   "execution_count": 32,
   "metadata": {},
   "outputs": [
    {
     "data": {
      "text/plain": [
       "[2, 3, 1, 5]"
      ]
     },
     "execution_count": 32,
     "metadata": {},
     "output_type": "execute_result"
    }
   ],
   "source": [
    "profesor2._puntuaciones"
   ]
  },
  {
   "cell_type": "code",
   "execution_count": 33,
   "metadata": {},
   "outputs": [
    {
     "name": "stdout",
     "output_type": "stream",
     "text": [
      "Profesor Luis calificado con éxito.\n"
     ]
    },
    {
     "data": {
      "text/plain": [
       "[Calificacion(Estudiante=Juan, Profesor=Ana, puntuacion=2),\n",
       " Calificacion(Estudiante=Juan, Profesor=Luis, puntuacion=15)]"
      ]
     },
     "execution_count": 33,
     "metadata": {},
     "output_type": "execute_result"
    }
   ],
   "source": [
    "estudiante1.calificar_profesor(profesor2, 15)\n",
    "estudiante1.get_calificaciones()"
   ]
  },
  {
   "cell_type": "code",
   "execution_count": 34,
   "metadata": {},
   "outputs": [
    {
     "data": {
      "text/plain": [
       "[2, 3, 1, 5, 15]"
      ]
     },
     "execution_count": 34,
     "metadata": {},
     "output_type": "execute_result"
    }
   ],
   "source": [
    "profesor2._puntuaciones"
   ]
  },
  {
   "cell_type": "code",
   "execution_count": 35,
   "metadata": {},
   "outputs": [
    {
     "name": "stdout",
     "output_type": "stream",
     "text": [
      "Puntuacion modificada con éxito.\n",
      "Calificacion modificada con éxito.\n"
     ]
    },
    {
     "data": {
      "text/plain": [
       "[Calificacion(Estudiante=Juan, Profesor=Ana, puntuacion=2),\n",
       " Calificacion(Estudiante=Juan, Profesor=Luis, puntuacion=3)]"
      ]
     },
     "execution_count": 35,
     "metadata": {},
     "output_type": "execute_result"
    }
   ],
   "source": [
    "estudiante1.moficicar_calificacion(profesor2, 3)\n",
    "estudiante1.get_calificaciones()"
   ]
  },
  {
   "cell_type": "code",
   "execution_count": 36,
   "metadata": {},
   "outputs": [
    {
     "data": {
      "text/plain": [
       "[2, 3, 1, 5, 3]"
      ]
     },
     "execution_count": 36,
     "metadata": {},
     "output_type": "execute_result"
    }
   ],
   "source": [
    "profesor2._puntuaciones"
   ]
  },
  {
   "cell_type": "code",
   "execution_count": 37,
   "metadata": {},
   "outputs": [
    {
     "data": {
      "text/plain": [
       "[Calificacion(Estudiante=Luis, Profesor=Carlos, puntuacion=5),\n",
       " Calificacion(Estudiante=Luis, Profesor=Luis, puntuacion=1),\n",
       " Calificacion(Estudiante=Luis, Profesor=Ana, puntuacion=2)]"
      ]
     },
     "execution_count": 37,
     "metadata": {},
     "output_type": "execute_result"
    }
   ],
   "source": [
    "estudiante5.get_calificaciones()"
   ]
  },
  {
   "cell_type": "code",
   "execution_count": 38,
   "metadata": {},
   "outputs": [
    {
     "data": {
      "text/plain": [
       "[1, 4, 2, 5]"
      ]
     },
     "execution_count": 38,
     "metadata": {},
     "output_type": "execute_result"
    }
   ],
   "source": [
    "profesor1._puntuaciones"
   ]
  },
  {
   "cell_type": "code",
   "execution_count": 39,
   "metadata": {},
   "outputs": [
    {
     "name": "stdout",
     "output_type": "stream",
     "text": [
      "Calificacion eliminada con éxito.\n"
     ]
    }
   ],
   "source": [
    "estudiante5.eliminar_calificacion(profesor1)"
   ]
  },
  {
   "cell_type": "code",
   "execution_count": 40,
   "metadata": {},
   "outputs": [
    {
     "data": {
      "text/plain": [
       "[Calificacion(Estudiante=Luis, Profesor=Luis, puntuacion=1),\n",
       " Calificacion(Estudiante=Luis, Profesor=Ana, puntuacion=2)]"
      ]
     },
     "execution_count": 40,
     "metadata": {},
     "output_type": "execute_result"
    }
   ],
   "source": [
    "estudiante5.get_calificaciones()"
   ]
  },
  {
   "cell_type": "code",
   "execution_count": 41,
   "metadata": {},
   "outputs": [
    {
     "data": {
      "text/plain": [
       "[1, 4, 2]"
      ]
     },
     "execution_count": 41,
     "metadata": {},
     "output_type": "execute_result"
    }
   ],
   "source": [
    "profesor1._puntuaciones"
   ]
  },
  {
   "cell_type": "code",
   "execution_count": 42,
   "metadata": {},
   "outputs": [
    {
     "name": "stdout",
     "output_type": "stream",
     "text": [
      "Profesor Carlos calificado con éxito.\n"
     ]
    }
   ],
   "source": [
    "estudiante5.calificar_profesor(profesor1, 1)"
   ]
  },
  {
   "cell_type": "code",
   "execution_count": 43,
   "metadata": {},
   "outputs": [
    {
     "data": {
      "text/plain": [
       "[Calificacion(Estudiante=Luis, Profesor=Luis, puntuacion=1),\n",
       " Calificacion(Estudiante=Luis, Profesor=Ana, puntuacion=2),\n",
       " Calificacion(Estudiante=Luis, Profesor=Carlos, puntuacion=1)]"
      ]
     },
     "execution_count": 43,
     "metadata": {},
     "output_type": "execute_result"
    }
   ],
   "source": [
    "estudiante5.get_calificaciones()"
   ]
  },
  {
   "cell_type": "code",
   "execution_count": 44,
   "metadata": {},
   "outputs": [
    {
     "data": {
      "text/plain": [
       "[1, 4, 2, 1]"
      ]
     },
     "execution_count": 44,
     "metadata": {},
     "output_type": "execute_result"
    }
   ],
   "source": [
    "profesor1._puntuaciones"
   ]
  },
  {
   "cell_type": "code",
   "execution_count": 45,
   "metadata": {},
   "outputs": [
    {
     "name": "stdout",
     "output_type": "stream",
     "text": [
      "Puntuacion modificada con éxito.\n",
      "Calificacion modificada con éxito.\n"
     ]
    }
   ],
   "source": [
    "estudiante5.moficicar_calificacion(profesor1, 4)"
   ]
  },
  {
   "cell_type": "code",
   "execution_count": 46,
   "metadata": {},
   "outputs": [
    {
     "data": {
      "text/plain": [
       "[Calificacion(Estudiante=Luis, Profesor=Luis, puntuacion=1),\n",
       " Calificacion(Estudiante=Luis, Profesor=Ana, puntuacion=2),\n",
       " Calificacion(Estudiante=Luis, Profesor=Carlos, puntuacion=4)]"
      ]
     },
     "execution_count": 46,
     "metadata": {},
     "output_type": "execute_result"
    }
   ],
   "source": [
    "estudiante5.get_calificaciones()"
   ]
  },
  {
   "cell_type": "code",
   "execution_count": 47,
   "metadata": {},
   "outputs": [
    {
     "data": {
      "text/plain": [
       "[4, 2, 1, 4]"
      ]
     },
     "execution_count": 47,
     "metadata": {},
     "output_type": "execute_result"
    }
   ],
   "source": [
    "profesor1._puntuaciones"
   ]
  },
  {
   "cell_type": "code",
   "execution_count": 48,
   "metadata": {},
   "outputs": [
    {
     "data": {
      "text/plain": [
       "[Calificacion(Estudiante=Luis, Profesor=Luis, puntuacion=1),\n",
       " Calificacion(Estudiante=Luis, Profesor=Ana, puntuacion=2),\n",
       " Calificacion(Estudiante=Luis, Profesor=Carlos, puntuacion=4)]"
      ]
     },
     "execution_count": 48,
     "metadata": {},
     "output_type": "execute_result"
    }
   ],
   "source": [
    "estudiante5.get_calificaciones()"
   ]
  },
  {
   "cell_type": "code",
   "execution_count": 49,
   "metadata": {},
   "outputs": [
    {
     "name": "stdout",
     "output_type": "stream",
     "text": [
      "Calificacion eliminada con éxito.\n"
     ]
    }
   ],
   "source": [
    "estudiante5.eliminar_calificacion(profesor1)"
   ]
  },
  {
   "cell_type": "code",
   "execution_count": 50,
   "metadata": {},
   "outputs": [
    {
     "data": {
      "text/plain": [
       "[Calificacion(Estudiante=Luis, Profesor=Luis, puntuacion=1),\n",
       " Calificacion(Estudiante=Luis, Profesor=Ana, puntuacion=2)]"
      ]
     },
     "execution_count": 50,
     "metadata": {},
     "output_type": "execute_result"
    }
   ],
   "source": [
    "estudiante5.get_calificaciones()"
   ]
  },
  {
   "cell_type": "code",
   "execution_count": 51,
   "metadata": {},
   "outputs": [
    {
     "data": {
      "text/plain": [
       "[2, 1, 4]"
      ]
     },
     "execution_count": 51,
     "metadata": {},
     "output_type": "execute_result"
    }
   ],
   "source": [
    "profesor1._puntuaciones"
   ]
  },
  {
   "cell_type": "code",
   "execution_count": 52,
   "metadata": {},
   "outputs": [
    {
     "data": {
      "text/plain": [
       "2.3"
      ]
     },
     "execution_count": 52,
     "metadata": {},
     "output_type": "execute_result"
    }
   ],
   "source": [
    "profesor1.get_puntuacion()"
   ]
  }
 ],
 "metadata": {
  "kernelspec": {
   "display_name": "Python 3",
   "language": "python",
   "name": "python3"
  },
  "language_info": {
   "codemirror_mode": {
    "name": "ipython",
    "version": 3
   },
   "file_extension": ".py",
   "mimetype": "text/x-python",
   "name": "python",
   "nbconvert_exporter": "python",
   "pygments_lexer": "ipython3",
   "version": "3.11.5"
  }
 },
 "nbformat": 4,
 "nbformat_minor": 2
}
