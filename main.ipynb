{
 "cells": [
  {
   "cell_type": "code",
   "execution_count": 1,
   "metadata": {},
   "outputs": [
    {
     "ename": "SyntaxError",
     "evalue": "unterminated string literal (detected at line 11) (curso.py, line 11)",
     "output_type": "error",
     "traceback": [
      "Traceback \u001b[1;36m(most recent call last)\u001b[0m:\n",
      "\u001b[0m  File \u001b[0;32m~\\AppData\\Roaming\\Python\\Python311\\site-packages\\IPython\\core\\interactiveshell.py:3553\u001b[0m in \u001b[0;35mrun_code\u001b[0m\n    exec(code_obj, self.user_global_ns, self.user_ns)\u001b[0m\n",
      "\u001b[0m  Cell \u001b[0;32mIn[1], line 1\u001b[0m\n    from profesor import Profesor\u001b[0m\n",
      "\u001b[0m  File \u001b[0;32mc:\\Users\\miria\\Desktop\\poo-backend\\profesor.py:2\u001b[0m\n    from fabrica_curso import FabricaCurso\u001b[0m\n",
      "\u001b[1;36m  File \u001b[1;32mc:\\Users\\miria\\Desktop\\poo-backend\\fabrica_curso.py:2\u001b[1;36m\n\u001b[1;33m    from curso import Curso\u001b[1;36m\n",
      "\u001b[1;36m  File \u001b[1;32mc:\\Users\\miria\\Desktop\\poo-backend\\curso.py:11\u001b[1;36m\u001b[0m\n\u001b[1;33m    return (f'Curso({self.nombre}, {self.descripcion}, {self.profesor.nombre},\u001b[0m\n\u001b[1;37m            ^\u001b[0m\n\u001b[1;31mSyntaxError\u001b[0m\u001b[1;31m:\u001b[0m unterminated string literal (detected at line 11)\n"
     ]
    }
   ],
   "source": [
    "from profesor import Profesor\n",
    "from estudiante import Estudiante\n",
    "\n",
    "# Estudiante(nombre, apellido, correo, contraseña, ciclo, carrera, universidad, codigo)\n",
    "# Profesor(nombre, apellido, correo, contraseña, profesion, centro_laboral)\n",
    "# Curso(nombre, descripcion, Profesor)\n",
    "# Horario(Curso, dia, hora_inicio, hora_fin)\n",
    "# Calificacion(Estudiante, Profesor, puntuacion)"
   ]
  },
  {
   "cell_type": "code",
   "execution_count": null,
   "metadata": {},
   "outputs": [],
   "source": [
    "estudiante1 = Estudiante('Juan', 'Perez', 'a@a', '123', '1', 'Ing. de Sistemas', 'ULIMA', '001')\n",
    "estudiante2 = Estudiante('Maria', 'Gomez', 'c@c', '789', '2', 'Ing. de Sistemas', 'ULIMA', '002')\n",
    "estudiante3 = Estudiante('Pedro', 'Torres', 'b@b', '456', '3', 'Ing. de Sistemas', 'ULIMA', '003')\n",
    "estudiante4 = Estudiante('Ana', 'Lopez', 'd@d', '101', '4', 'Ing. de Sistemas', 'ULIMA', '004')\n",
    "estudiante5 = Estudiante('Luis', 'Garcia', 'e@e', '202', '5', 'Ing. de Sistemas', 'ULIMA', '005')\n",
    "\n",
    "print(str(estudiante1)+'\\n'+str(estudiante2)+'\\n'+str(estudiante3)+'\\n'+str(estudiante4)+'\\n'+str(estudiante5))\n",
    "print('---------------------------------')\n",
    "print(str(estudiante1.obtener_datos())+'\\n'+str(estudiante2.obtener_datos())+'\\n'+str(estudiante3.obtener_datos())+'\\n'+str(estudiante4.obtener_datos())+'\\n'+str(estudiante5.obtener_datos()))\n"
   ]
  },
  {
   "cell_type": "code",
   "execution_count": null,
   "metadata": {},
   "outputs": [],
   "source": [
    "estudiante1.nombre('Juanito')\n",
    "estudiante1"
   ]
  },
  {
   "cell_type": "code",
   "execution_count": null,
   "metadata": {},
   "outputs": [],
   "source": [
    "profesor1 = Profesor('Carlos', 'Gomez', 'f@f', '123', 'Ing. de Sistemas', 'ULIMA')\n",
    "profesor2 = Profesor('Luis', 'Torres', 'g@g', '456', 'Ing. de Sistemas', 'ULIMA')\n",
    "profesor3 = Profesor('Ana', 'Lopez', 'h@h', '789', 'Ing. de Sistemas', 'ULIMA')\n",
    "print(str(profesor1)+'\\n'+str(profesor2)+'\\n'+str(profesor3))\n",
    "print('---------------------------------')\n",
    "print(str(profesor1.obtener_datos())+'\\n'+str(profesor2.obtener_datos())+'\\n'+str(profesor3.obtener_datos()))\n"
   ]
  },
  {
   "cell_type": "code",
   "execution_count": null,
   "metadata": {},
   "outputs": [],
   "source": [
    "curso1 = profesor1.crear_curso('Curso 1', 'Descripcion 1')\n",
    "curso2 = profesor1.crear_curso('Curso 2', 'Descripcion 2')\n",
    "curso3 = profesor2.crear_curso('Curso 3', 'Descripcion 3')\n",
    "curso4 = profesor2.crear_curso('Curso 4', 'Descripcion 4')\n",
    "curso5 = profesor3.crear_curso('Curso 5', 'Descripcion 5')\n",
    "curso6 = profesor3.crear_curso('Curso 6', 'Descripcion 6')\n",
    "print('---------------------------------')\n",
    "print(str(curso1)+'\\n'+str(curso2)+'\\n'+str(curso3)+'\\n'+str(curso4)+'\\n'+str(curso5)+'\\n'+str(curso6))\n",
    "print('---------------------------------')\n",
    "print(str(curso1.obtener_datos())+'\\n'+str(curso2.obtener_datos())+'\\n'+str(curso3.obtener_datos())+'\\n'+str(curso4.obtener_datos())+'\\n'+str(curso5.obtener_datos())+'\\n'+str(curso6.obtener_datos()))\n"
   ]
  },
  {
   "cell_type": "code",
   "execution_count": null,
   "metadata": {},
   "outputs": [],
   "source": [
    "estudiante1.matricular_curso(curso1)\n",
    "estudiante1.matricular_curso(curso2)\n",
    "estudiante1.matricular_curso(curso3)\n",
    "estudiante1.matricular_curso(curso4)\n",
    "estudiante1.matricular_curso(curso5)\n",
    "estudiante1.matricular_curso(curso6)\n",
    "print('---------------------------------')\n",
    "estudiante2.matricular_curso(curso1)\n",
    "estudiante2.matricular_curso(curso2)\n",
    "estudiante2.matricular_curso(curso3)\n",
    "estudiante2.matricular_curso(curso4)\n",
    "estudiante2.matricular_curso(curso5)\n",
    "estudiante2.matricular_curso(curso6)\n",
    "print('---------------------------------')\n",
    "estudiante3.matricular_curso(curso1)\n",
    "estudiante3.matricular_curso(curso2)\n",
    "estudiante3.matricular_curso(curso3)\n",
    "estudiante3.matricular_curso(curso4)\n",
    "estudiante3.matricular_curso(curso5)\n",
    "estudiante3.matricular_curso(curso6)\n",
    "print('---------------------------------')\n",
    "estudiante4.matricular_curso(curso1)\n",
    "estudiante4.matricular_curso(curso2)\n",
    "estudiante4.matricular_curso(curso3)\n",
    "estudiante4.matricular_curso(curso4)\n",
    "estudiante4.matricular_curso(curso5)\n",
    "estudiante4.matricular_curso(curso6)\n",
    "print('---------------------------------')\n",
    "estudiante5.matricular_curso(curso1)\n",
    "estudiante5.matricular_curso(curso2)\n",
    "estudiante5.matricular_curso(curso3)\n",
    "estudiante5.matricular_curso(curso4)\n",
    "estudiante5.matricular_curso(curso5)\n",
    "estudiante5.matricular_curso(curso6)\n"
   ]
  },
  {
   "cell_type": "code",
   "execution_count": null,
   "metadata": {},
   "outputs": [],
   "source": [
    "print(str(estudiante1)+'\\n'+str(estudiante2)+'\\n'+str(estudiante3)+'\\n'+str(estudiante4)+'\\n'+str(estudiante5))\n",
    "print('---------------------------------')\n",
    "print(str(estudiante1.obtener_datos())+'\\n'+str(estudiante2.obtener_datos())+'\\n'+str(estudiante3.obtener_datos())+'\\n'+str(estudiante4.obtener_datos())+'\\n'+str(estudiante5.obtener_datos()))\n",
    "print('---------------------------------')\n",
    "print(str(curso1)+'\\n'+str(curso2)+'\\n'+str(curso3)+'\\n'+str(curso4)+'\\n'+str(curso5)+'\\n'+str(curso6))\n",
    "print('---------------------------------')\n",
    "print(str(curso1.obtener_datos())+'\\n'+str(curso2.obtener_datos())+'\\n'+str(curso3.obtener_datos())+'\\n'+str(curso4.obtener_datos())+'\\n'+str(curso5.obtener_datos())+'\\n'+str(curso6.obtener_datos()))\n",
    "print('---------------------------------')\n",
    "print(str(curso1.obtener_estudiantes())+'\\n'+str(curso2.obtener_estudiantes())+'\\n'+str(curso3.obtener_estudiantes())+'\\n'+str(curso4.obtener_estudiantes())+'\\n'+str(curso5.obtener_estudiantes())+'\\n'+str(curso6.obtener_estudiantes()))\n",
    "print('---------------------------------')\n",
    "print(str(curso1.obtener_profesor())+'\\n'+str(curso2.obtener_profesor())+'\\n'+str(curso3.obtener_profesor())+'\\n'+str(curso4.obtener_profesor())+'\\n'+str(curso5.obtener_profesor())+'\\n'+str(curso6.obtener_profesor()))\n"
   ]
  },
  {
   "cell_type": "code",
   "execution_count": null,
   "metadata": {},
   "outputs": [],
   "source": [
    "print(estudiante1.obtener_cursos())\n",
    "print(estudiante2.obtener_cursos()) \n",
    "print(estudiante3.obtener_cursos())\n",
    "print(estudiante4.obtener_cursos())\n",
    "print(estudiante5.obtener_cursos())\n",
    "print('---------------------------------')\n",
    "print(profesor1.obtener_cursos())\n",
    "print(profesor2.obtener_cursos())\n",
    "print(profesor3.obtener_cursos())\n"
   ]
  },
  {
   "cell_type": "code",
   "execution_count": null,
   "metadata": {},
   "outputs": [],
   "source": [
    "print(profesor1.ver_estudiantes())\n",
    "print(profesor2.ver_estudiantes())\n",
    "print(profesor3.ver_estudiantes())\n"
   ]
  },
  {
   "cell_type": "code",
   "execution_count": null,
   "metadata": {},
   "outputs": [],
   "source": [
    "horario1 = profesor1.crear_horario(curso1, 'Lunes', '8:00', '10:00')\n",
    "horario2 = profesor1.crear_horario(curso1, 'Martes', '8:00', '10:00')\n",
    "horario3 = profesor1.crear_horario(curso1, 'Miercoles', '8:00', '10:00')\n",
    "horario4 = profesor1.crear_horario(curso2, 'Jueves', '8:00', '10:00')\n",
    "horario5 = profesor1.crear_horario(curso2, 'Viernes', '8:00', '10:00')\n",
    "horario6 = profesor2.crear_horario(curso3, 'Lunes', '10:00', '12:00')\n",
    "horario7 = profesor2.crear_horario(curso3, 'Martes', '10:00', '12:00')\n",
    "horario8 = profesor2.crear_horario(curso3, 'Miercoles', '10:00', '12:00')\n",
    "horario9 = profesor2.crear_horario(curso4, 'Jueves', '10:00', '12:00')\n",
    "horario10 = profesor2.crear_horario(curso4, 'Viernes', '10:00', '12:00')\n",
    "horario11 = profesor3.crear_horario(curso5, 'Lunes', '14:00', '16:00')\n",
    "horario12 = profesor3.crear_horario(curso5, 'Martes', '14:00', '16:00')\n",
    "horario13 = profesor3.crear_horario(curso5, 'Miercoles', '14:00', '16:00')\n",
    "horario14 = profesor3.crear_horario(curso6, 'Jueves', '14:00', '16:00')\n",
    "horario15 = profesor3.crear_horario(curso6, 'Viernes', '14:00', '16:00')\n",
    "print('---------------------------------')\n",
    "print(str(horario1)+'\\n'+str(horario2)+'\\n'+str(horario3)+'\\n'+str(horario4)+'\\n'+str(horario5)+'\\n'+str(horario6)+'\\n'+str(horario7)+'\\n'+str(horario8)+'\\n'+str(horario9)+'\\n'+str(horario10)+'\\n'+str(horario11)+'\\n'+str(horario12)+'\\n'+str(horario13)+'\\n'+str(horario14)+'\\n'+str(horario15))\n"
   ]
  },
  {
   "cell_type": "code",
   "execution_count": null,
   "metadata": {},
   "outputs": [],
   "source": [
    "print(curso1.obtener_horarios())\n",
    "print(curso2.obtener_horarios())\n",
    "print(curso3.obtener_horarios())\n",
    "print(curso4.obtener_horarios())\n",
    "print(curso5.obtener_horarios())\n",
    "print(curso6.obtener_horarios())\n"
   ]
  },
  {
   "cell_type": "code",
   "execution_count": null,
   "metadata": {},
   "outputs": [],
   "source": [
    "print(estudiante1.ver_profesores())\n",
    "print(estudiante2.ver_profesores())\n",
    "print(estudiante3.ver_profesores())\n",
    "print(estudiante4.ver_profesores())\n",
    "print(estudiante5.ver_profesores())\n"
   ]
  },
  {
   "cell_type": "code",
   "execution_count": null,
   "metadata": {},
   "outputs": [],
   "source": [
    "estudiante1.retirar_curso(curso1)\n",
    "estudiante1.retirar_curso(curso2)\n",
    "estudiante1.calificar_profesor(profesor1, 5)\n",
    "estudiante1.ver_profesores()\n"
   ]
  },
  {
   "cell_type": "code",
   "execution_count": null,
   "metadata": {},
   "outputs": [],
   "source": [
    "estudiante1.calificar_profesor(profesor2, 4)\n",
    "estudiante1.calificar_profesor(profesor2, 3)"
   ]
  },
  {
   "cell_type": "code",
   "execution_count": null,
   "metadata": {},
   "outputs": [],
   "source": [
    "estudiante1.calificar_profesor(profesor3, 2)\n",
    "estudiante2.calificar_profesor(profesor1, 1)\n",
    "estudiante2.calificar_profesor(profesor2, 2)\n",
    "estudiante2.calificar_profesor(profesor3, 3)\n",
    "estudiante3.calificar_profesor(profesor1, 4)\n",
    "estudiante3.calificar_profesor(profesor2, 5)\n",
    "estudiante3.calificar_profesor(profesor3, 1)\n",
    "estudiante4.calificar_profesor(profesor1, 2)\n",
    "estudiante4.calificar_profesor(profesor2, 3)\n",
    "estudiante4.calificar_profesor(profesor3, 4)\n",
    "estudiante5.calificar_profesor(profesor1, 5)\n",
    "estudiante5.calificar_profesor(profesor2, 1)\n",
    "estudiante5.calificar_profesor(profesor3, 2)\n"
   ]
  },
  {
   "cell_type": "code",
   "execution_count": null,
   "metadata": {},
   "outputs": [],
   "source": [
    "print(estudiante1.ver_profesores())\n",
    "print(estudiante1.obtener_cursos())"
   ]
  },
  {
   "cell_type": "code",
   "execution_count": null,
   "metadata": {},
   "outputs": [],
   "source": [
    "estudiante1.matricular_curso(curso1)\n",
    "estudiante1.matricular_curso(curso2)\n",
    "print('---------------------------------')\n",
    "print(estudiante1.ver_profesores())\n",
    "print(estudiante1.obtener_cursos())"
   ]
  },
  {
   "cell_type": "code",
   "execution_count": null,
   "metadata": {},
   "outputs": [],
   "source": [
    "profesor1.eliminar_curso(curso1)\n",
    "profesor1.eliminar_curso(curso2)\n",
    "print('---------------------------------')\n",
    "print(estudiante1.ver_profesores())\n",
    "print(estudiante1.obtener_cursos())"
   ]
  },
  {
   "cell_type": "code",
   "execution_count": null,
   "metadata": {},
   "outputs": [],
   "source": [
    "profesor1.obtener_cursos()"
   ]
  },
  {
   "cell_type": "code",
   "execution_count": null,
   "metadata": {},
   "outputs": [],
   "source": [
    "print(profesor1.obtener_puntuacion())\n",
    "print(profesor2.obtener_puntuacion())\n",
    "print(profesor3.obtener_puntuacion())"
   ]
  },
  {
   "cell_type": "code",
   "execution_count": null,
   "metadata": {},
   "outputs": [],
   "source": [
    "estudiante1.obtener_cursos()"
   ]
  },
  {
   "cell_type": "code",
   "execution_count": null,
   "metadata": {},
   "outputs": [],
   "source": [
    "profesor2.modificar_curso(curso3, 'Curso 3 Moficicado', 'Descripcion 3 Modificado')"
   ]
  },
  {
   "cell_type": "code",
   "execution_count": null,
   "metadata": {},
   "outputs": [],
   "source": [
    "estudiante1.obtener_cursos()"
   ]
  },
  {
   "cell_type": "code",
   "execution_count": null,
   "metadata": {},
   "outputs": [],
   "source": [
    "curso3.obtener_horarios()"
   ]
  },
  {
   "cell_type": "code",
   "execution_count": null,
   "metadata": {},
   "outputs": [],
   "source": [
    "profesor2.modificar_horario(curso3, horario6, 'Lunes', '8:00', '10:00')"
   ]
  },
  {
   "cell_type": "code",
   "execution_count": null,
   "metadata": {},
   "outputs": [],
   "source": [
    "curso3.obtener_horarios()"
   ]
  },
  {
   "cell_type": "code",
   "execution_count": null,
   "metadata": {},
   "outputs": [],
   "source": [
    "profesor2.eliminar_horario(curso3, horario6)"
   ]
  },
  {
   "cell_type": "code",
   "execution_count": null,
   "metadata": {},
   "outputs": [],
   "source": [
    "curso3.obtener_horarios()"
   ]
  }
 ],
 "metadata": {
  "kernelspec": {
   "display_name": "Python 3",
   "language": "python",
   "name": "python3"
  },
  "language_info": {
   "codemirror_mode": {
    "name": "ipython",
    "version": 3
   },
   "file_extension": ".py",
   "mimetype": "text/x-python",
   "name": "python",
   "nbconvert_exporter": "python",
   "pygments_lexer": "ipython3",
   "version": "3.11.5"
  }
 },
 "nbformat": 4,
 "nbformat_minor": 2
}
