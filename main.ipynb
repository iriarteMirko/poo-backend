{
 "cells": [
  {
   "cell_type": "code",
   "execution_count": 1,
   "metadata": {},
   "outputs": [],
   "source": [
    "from profesor import Profesor\n",
    "from estudiante import Estudiante"
   ]
  },
  {
   "cell_type": "code",
   "execution_count": 2,
   "metadata": {},
   "outputs": [
    {
     "name": "stdout",
     "output_type": "stream",
     "text": [
      "{'nombre': 'Juan', 'apellidos': 'Perez', 'correo': 'a@a', 'ciclo': '1', 'carrera': 'Ing. de Sistemas', 'universidad': 'UNI', 'codigo': '001', 'cursos': []}\n",
      "{'nombre': 'Maria', 'apellidos': 'Gomez', 'correo': 'c@c', 'ciclo': '2', 'carrera': 'Ing. de Sistemas', 'universidad': 'UNI', 'codigo': '002', 'cursos': []}\n"
     ]
    }
   ],
   "source": [
    "estudiante1 = Estudiante('Juan', 'Perez', 'a@a', '123', '1', 'Ing. de Sistemas', 'UNI', '001')\n",
    "estudiante2 = Estudiante('Maria', 'Gomez', 'c@c', '789', '2', 'Ing. de Sistemas', 'UNI', '002')\n",
    "print(estudiante1.get_datos())\n",
    "print(estudiante2.get_datos())"
   ]
  },
  {
   "cell_type": "code",
   "execution_count": 3,
   "metadata": {},
   "outputs": [
    {
     "name": "stdout",
     "output_type": "stream",
     "text": [
      "Sesion iniciada con exito.\n"
     ]
    }
   ],
   "source": [
    "estudiante1.iniciar_sesion('a@a', '123')"
   ]
  },
  {
   "cell_type": "code",
   "execution_count": 4,
   "metadata": {},
   "outputs": [
    {
     "name": "stdout",
     "output_type": "stream",
     "text": [
      "La contrasena es: 123\n"
     ]
    }
   ],
   "source": [
    "estudiante1.recuperar_contrasena('a@a')"
   ]
  },
  {
   "cell_type": "code",
   "execution_count": 5,
   "metadata": {},
   "outputs": [
    {
     "name": "stdout",
     "output_type": "stream",
     "text": [
      "{'nombre': 'Pedro', 'apellidos': 'Garcia', 'correo': 'b@b', 'profesion': 'Ing. de Sistemas', 'centro_laboral': 'UNI', 'cursos': [], 'puntuacion': 0}\n",
      "{'nombre': 'Ana', 'apellidos': 'Lopez', 'correo': 'd@d', 'profesion': 'Ing. de Sistemas', 'centro_laboral': 'UNI', 'cursos': [], 'puntuacion': 0}\n"
     ]
    }
   ],
   "source": [
    "profesor1 = Profesor('Pedro', 'Garcia', 'b@b', '456', 'Ing. de Sistemas', 'UNI')\n",
    "profesor2 = Profesor('Ana', 'Lopez', 'd@d', '101', 'Ing. de Sistemas', 'UNI')\n",
    "print(profesor1.get_datos())\n",
    "print(profesor2.get_datos())"
   ]
  },
  {
   "cell_type": "code",
   "execution_count": 6,
   "metadata": {},
   "outputs": [
    {
     "name": "stdout",
     "output_type": "stream",
     "text": [
      "Curso Curso 1 creado con exito.\n",
      "Curso Curso 2 creado con exito.\n",
      "Curso Curso 3 creado con exito.\n"
     ]
    }
   ],
   "source": [
    "curso1 = profesor1.crear_curso('Curso 1', 'Descripcion 1')\n",
    "curso2 = profesor1.crear_curso('Curso 2', 'Descripcion 2')\n",
    "curso3 = profesor2.crear_curso('Curso 3', 'Descripcion 3')"
   ]
  },
  {
   "cell_type": "code",
   "execution_count": 7,
   "metadata": {},
   "outputs": [
    {
     "name": "stdout",
     "output_type": "stream",
     "text": [
      "{'nombre': 'Curso 1', 'descripcion': 'Descripcion 1', 'profesor': 'Pedro Garcia', 'estudiantes': [], 'horarios': []}\n",
      "{'nombre': 'Curso 2', 'descripcion': 'Descripcion 2', 'profesor': 'Pedro Garcia', 'estudiantes': [], 'horarios': []}\n",
      "{'nombre': 'Curso 3', 'descripcion': 'Descripcion 3', 'profesor': 'Ana Lopez', 'estudiantes': [], 'horarios': []}\n"
     ]
    }
   ],
   "source": [
    "print(curso1.get_datos())\n",
    "print(curso2.get_datos())\n",
    "print(curso3.get_datos())"
   ]
  },
  {
   "cell_type": "code",
   "execution_count": 8,
   "metadata": {},
   "outputs": [
    {
     "name": "stdout",
     "output_type": "stream",
     "text": [
      "Estudiante Juan no esta matriculado en el curso \"Curso 1\".\n",
      "Estudiante Juan matriculado al curso \"Curso 1\" con exito.\n",
      "Estudiante Juan ya esta matriculado en el curso \"Curso 1\".\n",
      "Estudiante Juan retirado del curso \"Curso 1\".\n",
      "Estudiante Juan matriculado al curso \"Curso 1\" con exito.\n",
      "Estudiante Maria matriculado al curso \"Curso 1\" con exito.\n",
      "Estudiante Juan matriculado al curso \"Curso 2\" con exito.\n",
      "Estudiante Juan matriculado al curso \"Curso 3\" con exito.\n"
     ]
    }
   ],
   "source": [
    "estudiante1.retirar_curso(curso1)\n",
    "estudiante1.matricular_curso(curso1)\n",
    "estudiante1.matricular_curso(curso1)\n",
    "estudiante1.retirar_curso(curso1)\n",
    "estudiante1.matricular_curso(curso1)\n",
    "estudiante2.matricular_curso(curso1)\n",
    "estudiante1.matricular_curso(curso2)\n",
    "estudiante1.matricular_curso(curso3)"
   ]
  },
  {
   "cell_type": "code",
   "execution_count": 9,
   "metadata": {},
   "outputs": [
    {
     "name": "stdout",
     "output_type": "stream",
     "text": [
      "{'nombre': 'Curso 1', 'descripcion': 'Descripcion 1', 'profesor': 'Pedro Garcia', 'estudiantes': ['Juan', 'Maria'], 'horarios': []}\n",
      "{'nombre': 'Curso 2', 'descripcion': 'Descripcion 2', 'profesor': 'Pedro Garcia', 'estudiantes': ['Juan'], 'horarios': []}\n",
      "{'nombre': 'Curso 3', 'descripcion': 'Descripcion 3', 'profesor': 'Ana Lopez', 'estudiantes': ['Juan'], 'horarios': []}\n"
     ]
    }
   ],
   "source": [
    "print(curso1.get_datos())\n",
    "print(curso2.get_datos())\n",
    "print(curso3.get_datos())"
   ]
  },
  {
   "cell_type": "code",
   "execution_count": 10,
   "metadata": {},
   "outputs": [
    {
     "name": "stdout",
     "output_type": "stream",
     "text": [
      "['Juan', 'Maria']\n",
      "['Juan']\n",
      "['Juan']\n"
     ]
    }
   ],
   "source": [
    "print(curso1.get_estudiantes())\n",
    "print(curso2.get_estudiantes())\n",
    "print(curso3.get_estudiantes())"
   ]
  },
  {
   "cell_type": "code",
   "execution_count": 11,
   "metadata": {},
   "outputs": [
    {
     "name": "stdout",
     "output_type": "stream",
     "text": [
      "Pedro Garcia\n",
      "Pedro Garcia\n",
      "Ana Lopez\n"
     ]
    }
   ],
   "source": [
    "print(curso1.get_profesor())\n",
    "print(curso2.get_profesor())\n",
    "print(curso3.get_profesor())"
   ]
  },
  {
   "cell_type": "code",
   "execution_count": 12,
   "metadata": {},
   "outputs": [
    {
     "name": "stdout",
     "output_type": "stream",
     "text": [
      "['Curso 1', 'Curso 2', 'Curso 3']\n",
      "['Curso 1']\n"
     ]
    }
   ],
   "source": [
    "print(estudiante1.get_cursos())\n",
    "print(estudiante2.get_cursos())"
   ]
  },
  {
   "cell_type": "code",
   "execution_count": 13,
   "metadata": {},
   "outputs": [
    {
     "name": "stdout",
     "output_type": "stream",
     "text": [
      "['Pedro', 'Ana']\n",
      "['Pedro']\n"
     ]
    }
   ],
   "source": [
    "print(estudiante1.ver_profesores())\n",
    "print(estudiante2.ver_profesores())"
   ]
  },
  {
   "cell_type": "code",
   "execution_count": 14,
   "metadata": {},
   "outputs": [
    {
     "name": "stdout",
     "output_type": "stream",
     "text": [
      "['Curso 1', 'Curso 2']\n",
      "['Curso 3']\n"
     ]
    }
   ],
   "source": [
    "print(profesor1.get_cursos())\n",
    "print(profesor2.get_cursos())"
   ]
  },
  {
   "cell_type": "code",
   "execution_count": 15,
   "metadata": {},
   "outputs": [
    {
     "name": "stdout",
     "output_type": "stream",
     "text": [
      "['Juan del curso: Curso 1', 'Maria del curso: Curso 1', 'Juan del curso: Curso 2']\n",
      "['Juan del curso: Curso 3']\n"
     ]
    }
   ],
   "source": [
    "print(profesor1.ver_estudiantes())\n",
    "print(profesor2.ver_estudiantes())"
   ]
  },
  {
   "cell_type": "code",
   "execution_count": 16,
   "metadata": {},
   "outputs": [
    {
     "name": "stdout",
     "output_type": "stream",
     "text": [
      "Horario creado con exito.\n",
      "Horario creado con exito.\n",
      "Horario creado con exito.\n"
     ]
    }
   ],
   "source": [
    "profesor1.crear_horario(curso1, 'Lunes', '8:00', '10:00')\n",
    "profesor1.crear_horario(curso1, 'Martes', '8:00', '10:00')\n",
    "profesor1.crear_horario(curso1, 'Miercoles', '8:00', '10:00')"
   ]
  },
  {
   "cell_type": "code",
   "execution_count": 17,
   "metadata": {},
   "outputs": [
    {
     "data": {
      "text/plain": [
       "[{'curso': 'Curso 1',\n",
       "  'dia': 'Lunes',\n",
       "  'hora_inicio': '8:00',\n",
       "  'hora_fin': '10:00'},\n",
       " {'curso': 'Curso 1',\n",
       "  'dia': 'Martes',\n",
       "  'hora_inicio': '8:00',\n",
       "  'hora_fin': '10:00'},\n",
       " {'curso': 'Curso 1',\n",
       "  'dia': 'Miercoles',\n",
       "  'hora_inicio': '8:00',\n",
       "  'hora_fin': '10:00'}]"
      ]
     },
     "execution_count": 17,
     "metadata": {},
     "output_type": "execute_result"
    }
   ],
   "source": [
    "profesor1._cursos[0].get_horarios()"
   ]
  },
  {
   "cell_type": "code",
   "execution_count": 18,
   "metadata": {},
   "outputs": [
    {
     "data": {
      "text/plain": [
       "[{'curso': 'Curso 1',\n",
       "  'dia': 'Lunes',\n",
       "  'hora_inicio': '8:00',\n",
       "  'hora_fin': '10:00'},\n",
       " {'curso': 'Curso 1',\n",
       "  'dia': 'Martes',\n",
       "  'hora_inicio': '8:00',\n",
       "  'hora_fin': '10:00'},\n",
       " {'curso': 'Curso 1',\n",
       "  'dia': 'Miercoles',\n",
       "  'hora_inicio': '8:00',\n",
       "  'hora_fin': '10:00'}]"
      ]
     },
     "execution_count": 18,
     "metadata": {},
     "output_type": "execute_result"
    }
   ],
   "source": [
    "curso1.get_horarios()"
   ]
  },
  {
   "cell_type": "code",
   "execution_count": 19,
   "metadata": {},
   "outputs": [
    {
     "name": "stdout",
     "output_type": "stream",
     "text": [
      "['Pedro', 'Ana']\n"
     ]
    }
   ],
   "source": [
    "print(estudiante1.ver_profesores())"
   ]
  },
  {
   "cell_type": "code",
   "execution_count": 20,
   "metadata": {},
   "outputs": [
    {
     "name": "stdout",
     "output_type": "stream",
     "text": [
      "Profesor Pedro calificado con éxito.\n",
      "['Pedro', 'Ana']\n",
      "5.0\n",
      "0\n"
     ]
    }
   ],
   "source": [
    "print(estudiante1.calificar_profesor(profesor1, 5))\n",
    "print(estudiante1.ver_profesores())\n",
    "print(profesor1.get_puntuacion())\n",
    "print(profesor2.get_puntuacion())"
   ]
  },
  {
   "cell_type": "code",
   "execution_count": 21,
   "metadata": {},
   "outputs": [
    {
     "name": "stdout",
     "output_type": "stream",
     "text": [
      "Estudiante Juan ya ha calificado al profesor Pedro.\n"
     ]
    }
   ],
   "source": [
    "print(estudiante1.calificar_profesor(profesor1, 10))"
   ]
  },
  {
   "cell_type": "code",
   "execution_count": 22,
   "metadata": {},
   "outputs": [
    {
     "name": "stdout",
     "output_type": "stream",
     "text": [
      "5.0\n"
     ]
    }
   ],
   "source": [
    "print(profesor1.get_puntuacion())"
   ]
  },
  {
   "cell_type": "code",
   "execution_count": 24,
   "metadata": {},
   "outputs": [
    {
     "data": {
      "text/plain": [
       "'Estudiante Juan ya ha calificado al profesor Pedro.'"
      ]
     },
     "execution_count": 24,
     "metadata": {},
     "output_type": "execute_result"
    }
   ],
   "source": [
    "estudiante1.calificar_profesor(profesor1, 5)"
   ]
  }
 ],
 "metadata": {
  "kernelspec": {
   "display_name": "Python 3",
   "language": "python",
   "name": "python3"
  },
  "language_info": {
   "codemirror_mode": {
    "name": "ipython",
    "version": 3
   },
   "file_extension": ".py",
   "mimetype": "text/x-python",
   "name": "python",
   "nbconvert_exporter": "python",
   "pygments_lexer": "ipython3",
   "version": "3.10.9"
  }
 },
 "nbformat": 4,
 "nbformat_minor": 2
}
