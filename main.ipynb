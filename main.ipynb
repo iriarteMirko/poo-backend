{
 "cells": [
  {
   "cell_type": "code",
   "execution_count": null,
   "metadata": {},
   "outputs": [],
   "source": [
    "from profesor import Profesor\n",
    "from estudiante import Estudiante"
   ]
  },
  {
   "cell_type": "code",
   "execution_count": null,
   "metadata": {},
   "outputs": [],
   "source": [
    "estudiante1 = Estudiante('Juan', 'Perez', 'a@a', '123', '1', 'Ing. de Sistemas', 'UNI', '001')\n",
    "estudiante2 = Estudiante('Maria', 'Gomez', 'c@c', '789', '2', 'Ing. de Sistemas', 'UNI', '002')\n",
    "print(estudiante1.get_datos())\n",
    "print(estudiante2.get_datos())"
   ]
  },
  {
   "cell_type": "code",
   "execution_count": null,
   "metadata": {},
   "outputs": [],
   "source": [
    "estudiante1.iniciar_sesion('a@a', '123')"
   ]
  },
  {
   "cell_type": "code",
   "execution_count": null,
   "metadata": {},
   "outputs": [],
   "source": [
    "estudiante1.recuperar_contrasena('a@a')"
   ]
  },
  {
   "cell_type": "code",
   "execution_count": null,
   "metadata": {},
   "outputs": [],
   "source": [
    "profesor1 = Profesor('Pedro', 'Garcia', 'b@b', '456', 'Ing. de Sistemas', 'UNI')\n",
    "profesor2 = Profesor('Ana', 'Lopez', 'd@d', '101', 'Ing. de Sistemas', 'UNI')\n",
    "print(profesor1.get_datos())\n",
    "print(profesor2.get_datos())"
   ]
  },
  {
   "cell_type": "code",
   "execution_count": null,
   "metadata": {},
   "outputs": [],
   "source": [
    "curso1 = profesor1.crear_curso('Curso 1', 'Descripcion 1')\n",
    "curso2 = profesor1.crear_curso('Curso 2', 'Descripcion 2')\n",
    "curso3 = profesor2.crear_curso('Curso 3', 'Descripcion 3')"
   ]
  },
  {
   "cell_type": "code",
   "execution_count": null,
   "metadata": {},
   "outputs": [],
   "source": [
    "print(curso1.get_datos())\n",
    "print(curso2.get_datos())\n",
    "print(curso3.get_datos())"
   ]
  },
  {
   "cell_type": "code",
   "execution_count": null,
   "metadata": {},
   "outputs": [],
   "source": [
    "estudiante1.retirar_curso(curso1)\n",
    "estudiante1.matricular_curso(curso1)\n",
    "estudiante1.matricular_curso(curso1)\n",
    "estudiante1.retirar_curso(curso1)\n",
    "estudiante1.matricular_curso(curso1)\n",
    "estudiante2.matricular_curso(curso1)\n",
    "estudiante1.matricular_curso(curso2)\n",
    "estudiante1.matricular_curso(curso3)"
   ]
  },
  {
   "cell_type": "code",
   "execution_count": null,
   "metadata": {},
   "outputs": [],
   "source": [
    "print(curso1.get_datos())\n",
    "print(curso2.get_datos())\n",
    "print(curso3.get_datos())"
   ]
  },
  {
   "cell_type": "code",
   "execution_count": null,
   "metadata": {},
   "outputs": [],
   "source": [
    "print(curso1.get_estudiantes())\n",
    "print(curso2.get_estudiantes())\n",
    "print(curso3.get_estudiantes())"
   ]
  },
  {
   "cell_type": "code",
   "execution_count": null,
   "metadata": {},
   "outputs": [],
   "source": [
    "print(curso1.get_profesor())\n",
    "print(curso2.get_profesor())\n",
    "print(curso3.get_profesor())"
   ]
  },
  {
   "cell_type": "code",
   "execution_count": null,
   "metadata": {},
   "outputs": [],
   "source": [
    "print(estudiante1.get_cursos())\n",
    "print(estudiante2.get_cursos())"
   ]
  },
  {
   "cell_type": "code",
   "execution_count": null,
   "metadata": {},
   "outputs": [],
   "source": [
    "print(estudiante1.ver_profesores())\n",
    "print(estudiante2.ver_profesores())"
   ]
  },
  {
   "cell_type": "code",
   "execution_count": null,
   "metadata": {},
   "outputs": [],
   "source": [
    "print(profesor1.get_cursos())\n",
    "print(profesor2.get_cursos())"
   ]
  },
  {
   "cell_type": "code",
   "execution_count": null,
   "metadata": {},
   "outputs": [],
   "source": [
    "print(profesor1.ver_estudiantes())\n",
    "print(profesor2.ver_estudiantes())"
   ]
  },
  {
   "cell_type": "code",
   "execution_count": null,
   "metadata": {},
   "outputs": [],
   "source": []
  }
 ],
 "metadata": {
  "kernelspec": {
   "display_name": "Python 3",
   "language": "python",
   "name": "python3"
  },
  "language_info": {
   "codemirror_mode": {
    "name": "ipython",
    "version": 3
   },
   "file_extension": ".py",
   "mimetype": "text/x-python",
   "name": "python",
   "nbconvert_exporter": "python",
   "pygments_lexer": "ipython3",
   "version": "3.10.9"
  }
 },
 "nbformat": 4,
 "nbformat_minor": 2
}
