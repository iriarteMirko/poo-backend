{
 "cells": [
  {
   "cell_type": "code",
   "execution_count": 1,
   "metadata": {},
   "outputs": [],
   "source": [
    "from profesor import Profesor\n",
    "from estudiante import Estudiante\n",
    "\n",
    "# Estudiante(nombre, apellido, correo, contraseña, ciclo, carrera, universidad, codigo)\n",
    "# Profesor(nombre, apellido, correo, contraseña, profesion, centro_laboral)\n",
    "# Curso(nombre, descripcion, Profesor)\n",
    "# Horario(Curso, dia, hora_inicio, hora_fin)\n",
    "# Calificacion(Estudiante, Profesor, puntuacion)"
   ]
  },
  {
   "cell_type": "code",
   "execution_count": 2,
   "metadata": {},
   "outputs": [
    {
     "name": "stdout",
     "output_type": "stream",
     "text": [
      "Estudiante(Juan, Perez, a@a, 123, 1, Ing. de Sistemas, ULIMA, 001, [])\n",
      "Estudiante(Maria, Gomez, c@c, 789, 2, Ing. de Sistemas, ULIMA, 002, [])\n",
      "Estudiante(Pedro, Torres, b@b, 456, 3, Ing. de Sistemas, ULIMA, 003, [])\n",
      "Estudiante(Ana, Lopez, d@d, 101, 4, Ing. de Sistemas, ULIMA, 004, [])\n",
      "Estudiante(Luis, Garcia, e@e, 202, 5, Ing. de Sistemas, ULIMA, 005, [])\n",
      "---------------------------------\n",
      "{'nombre': 'Juan', 'apellidos': 'Perez', 'correo': 'a@a', 'ciclo': '1', 'carrera': 'Ing. de Sistemas', 'universidad': 'ULIMA', 'codigo': '001', 'cursos': []}\n",
      "{'nombre': 'Maria', 'apellidos': 'Gomez', 'correo': 'c@c', 'ciclo': '2', 'carrera': 'Ing. de Sistemas', 'universidad': 'ULIMA', 'codigo': '002', 'cursos': []}\n",
      "{'nombre': 'Pedro', 'apellidos': 'Torres', 'correo': 'b@b', 'ciclo': '3', 'carrera': 'Ing. de Sistemas', 'universidad': 'ULIMA', 'codigo': '003', 'cursos': []}\n",
      "{'nombre': 'Ana', 'apellidos': 'Lopez', 'correo': 'd@d', 'ciclo': '4', 'carrera': 'Ing. de Sistemas', 'universidad': 'ULIMA', 'codigo': '004', 'cursos': []}\n",
      "{'nombre': 'Luis', 'apellidos': 'Garcia', 'correo': 'e@e', 'ciclo': '5', 'carrera': 'Ing. de Sistemas', 'universidad': 'ULIMA', 'codigo': '005', 'cursos': []}\n"
     ]
    }
   ],
   "source": [
    "estudiante1 = Estudiante('Juan', 'Perez', 'a@a', '123', '1', 'Ing. de Sistemas', 'ULIMA', '001')\n",
    "estudiante2 = Estudiante('Maria', 'Gomez', 'c@c', '789', '2', 'Ing. de Sistemas', 'ULIMA', '002')\n",
    "estudiante3 = Estudiante('Pedro', 'Torres', 'b@b', '456', '3', 'Ing. de Sistemas', 'ULIMA', '003')\n",
    "estudiante4 = Estudiante('Ana', 'Lopez', 'd@d', '101', '4', 'Ing. de Sistemas', 'ULIMA', '004')\n",
    "estudiante5 = Estudiante('Luis', 'Garcia', 'e@e', '202', '5', 'Ing. de Sistemas', 'ULIMA', '005')\n",
    "\n",
    "print(str(estudiante1)+'\\n'+str(estudiante2)+'\\n'+str(estudiante3)+'\\n'+str(estudiante4)+'\\n'+str(estudiante5))\n",
    "print('---------------------------------')\n",
    "print(str(estudiante1.obtener_datos())+'\\n'+str(estudiante2.obtener_datos())+'\\n'+str(estudiante3.obtener_datos())+'\\n'+str(estudiante4.obtener_datos())+'\\n'+str(estudiante5.obtener_datos()))\n"
   ]
  },
  {
   "cell_type": "code",
   "execution_count": 3,
   "metadata": {},
   "outputs": [
    {
     "name": "stdout",
     "output_type": "stream",
     "text": [
      "Profesor(Carlos, Gomez, f@f, 123, Ing. de Sistemas, ULIMA), [], 0\n",
      "Profesor(Luis, Torres, g@g, 456, Ing. de Sistemas, ULIMA), [], 0\n",
      "Profesor(Ana, Lopez, h@h, 789, Ing. de Sistemas, ULIMA), [], 0\n",
      "---------------------------------\n",
      "{'nombre': 'Carlos', 'apellidos': 'Gomez', 'correo': 'f@f', 'profesion': 'Ing. de Sistemas', 'centro_laboral': 'ULIMA', 'cursos': [], 'puntuacion': 0}\n",
      "{'nombre': 'Luis', 'apellidos': 'Torres', 'correo': 'g@g', 'profesion': 'Ing. de Sistemas', 'centro_laboral': 'ULIMA', 'cursos': [], 'puntuacion': 0}\n",
      "{'nombre': 'Ana', 'apellidos': 'Lopez', 'correo': 'h@h', 'profesion': 'Ing. de Sistemas', 'centro_laboral': 'ULIMA', 'cursos': [], 'puntuacion': 0}\n"
     ]
    }
   ],
   "source": [
    "profesor1 = Profesor('Carlos', 'Gomez', 'f@f', '123', 'Ing. de Sistemas', 'ULIMA')\n",
    "profesor2 = Profesor('Luis', 'Torres', 'g@g', '456', 'Ing. de Sistemas', 'ULIMA')\n",
    "profesor3 = Profesor('Ana', 'Lopez', 'h@h', '789', 'Ing. de Sistemas', 'ULIMA')\n",
    "print(str(profesor1)+'\\n'+str(profesor2)+'\\n'+str(profesor3))\n",
    "print('---------------------------------')\n",
    "print(str(profesor1.obtener_datos())+'\\n'+str(profesor2.obtener_datos())+'\\n'+str(profesor3.obtener_datos()))\n"
   ]
  },
  {
   "cell_type": "code",
   "execution_count": 4,
   "metadata": {},
   "outputs": [
    {
     "name": "stdout",
     "output_type": "stream",
     "text": [
      "Curso Curso 1 creado con exito.\n",
      "Curso Curso 2 creado con exito.\n",
      "Curso Curso 3 creado con exito.\n",
      "Curso Curso 4 creado con exito.\n",
      "Curso Curso 5 creado con exito.\n",
      "Curso Curso 6 creado con exito.\n",
      "---------------------------------\n",
      "Curso(Curso 1, Descripcion 1, Carlos Gomez, [], [])\n",
      "Curso(Curso 2, Descripcion 2, Carlos Gomez, [], [])\n",
      "Curso(Curso 3, Descripcion 3, Luis Torres, [], [])\n",
      "Curso(Curso 4, Descripcion 4, Luis Torres, [], [])\n",
      "Curso(Curso 5, Descripcion 5, Ana Lopez, [], [])\n",
      "Curso(Curso 6, Descripcion 6, Ana Lopez, [], [])\n",
      "---------------------------------\n",
      "{'nombre': 'Curso 1', 'descripcion': 'Descripcion 1', 'profesor': 'Carlos Gomez', 'estudiantes': [], 'horarios': []}\n",
      "{'nombre': 'Curso 2', 'descripcion': 'Descripcion 2', 'profesor': 'Carlos Gomez', 'estudiantes': [], 'horarios': []}\n",
      "{'nombre': 'Curso 3', 'descripcion': 'Descripcion 3', 'profesor': 'Luis Torres', 'estudiantes': [], 'horarios': []}\n",
      "{'nombre': 'Curso 4', 'descripcion': 'Descripcion 4', 'profesor': 'Luis Torres', 'estudiantes': [], 'horarios': []}\n",
      "{'nombre': 'Curso 5', 'descripcion': 'Descripcion 5', 'profesor': 'Ana Lopez', 'estudiantes': [], 'horarios': []}\n",
      "{'nombre': 'Curso 6', 'descripcion': 'Descripcion 6', 'profesor': 'Ana Lopez', 'estudiantes': [], 'horarios': []}\n"
     ]
    }
   ],
   "source": [
    "curso1 = profesor1.crear_curso('Curso 1', 'Descripcion 1')\n",
    "curso2 = profesor1.crear_curso('Curso 2', 'Descripcion 2')\n",
    "curso3 = profesor2.crear_curso('Curso 3', 'Descripcion 3')\n",
    "curso4 = profesor2.crear_curso('Curso 4', 'Descripcion 4')\n",
    "curso5 = profesor3.crear_curso('Curso 5', 'Descripcion 5')\n",
    "curso6 = profesor3.crear_curso('Curso 6', 'Descripcion 6')\n",
    "print('---------------------------------')\n",
    "print(str(curso1)+'\\n'+str(curso2)+'\\n'+str(curso3)+'\\n'+str(curso4)+'\\n'+str(curso5)+'\\n'+str(curso6))\n",
    "print('---------------------------------')\n",
    "print(str(curso1.obtener_datos())+'\\n'+str(curso2.obtener_datos())+'\\n'+str(curso3.obtener_datos())+'\\n'+str(curso4.obtener_datos())+'\\n'+str(curso5.obtener_datos())+'\\n'+str(curso6.obtener_datos()))\n"
   ]
  },
  {
   "cell_type": "code",
   "execution_count": 5,
   "metadata": {},
   "outputs": [
    {
     "name": "stdout",
     "output_type": "stream",
     "text": [
      "Estudiante Juan matriculado al curso \"Curso 1\" con exito.\n",
      "Estudiante Juan matriculado al curso \"Curso 2\" con exito.\n",
      "Estudiante Juan matriculado al curso \"Curso 3\" con exito.\n",
      "Estudiante Juan matriculado al curso \"Curso 4\" con exito.\n",
      "Estudiante Juan matriculado al curso \"Curso 5\" con exito.\n",
      "Estudiante Juan matriculado al curso \"Curso 6\" con exito.\n",
      "---------------------------------\n",
      "Estudiante Maria matriculado al curso \"Curso 1\" con exito.\n",
      "Estudiante Maria matriculado al curso \"Curso 2\" con exito.\n",
      "Estudiante Maria matriculado al curso \"Curso 3\" con exito.\n",
      "Estudiante Maria matriculado al curso \"Curso 4\" con exito.\n",
      "Estudiante Maria matriculado al curso \"Curso 5\" con exito.\n",
      "Estudiante Maria matriculado al curso \"Curso 6\" con exito.\n",
      "---------------------------------\n",
      "Estudiante Pedro matriculado al curso \"Curso 1\" con exito.\n",
      "Estudiante Pedro matriculado al curso \"Curso 2\" con exito.\n",
      "Estudiante Pedro matriculado al curso \"Curso 3\" con exito.\n",
      "Estudiante Pedro matriculado al curso \"Curso 4\" con exito.\n",
      "Estudiante Pedro matriculado al curso \"Curso 5\" con exito.\n",
      "Estudiante Pedro matriculado al curso \"Curso 6\" con exito.\n",
      "---------------------------------\n",
      "Estudiante Ana matriculado al curso \"Curso 1\" con exito.\n",
      "Estudiante Ana matriculado al curso \"Curso 2\" con exito.\n",
      "Estudiante Ana matriculado al curso \"Curso 3\" con exito.\n",
      "Estudiante Ana matriculado al curso \"Curso 4\" con exito.\n",
      "Estudiante Ana matriculado al curso \"Curso 5\" con exito.\n",
      "Estudiante Ana matriculado al curso \"Curso 6\" con exito.\n",
      "---------------------------------\n",
      "Estudiante Luis matriculado al curso \"Curso 1\" con exito.\n",
      "Estudiante Luis matriculado al curso \"Curso 2\" con exito.\n",
      "Estudiante Luis matriculado al curso \"Curso 3\" con exito.\n",
      "Estudiante Luis matriculado al curso \"Curso 4\" con exito.\n",
      "Estudiante Luis matriculado al curso \"Curso 5\" con exito.\n",
      "Estudiante Luis matriculado al curso \"Curso 6\" con exito.\n"
     ]
    }
   ],
   "source": [
    "estudiante1.matricular_curso(curso1)\n",
    "estudiante1.matricular_curso(curso2)\n",
    "estudiante1.matricular_curso(curso3)\n",
    "estudiante1.matricular_curso(curso4)\n",
    "estudiante1.matricular_curso(curso5)\n",
    "estudiante1.matricular_curso(curso6)\n",
    "print('---------------------------------')\n",
    "estudiante2.matricular_curso(curso1)\n",
    "estudiante2.matricular_curso(curso2)\n",
    "estudiante2.matricular_curso(curso3)\n",
    "estudiante2.matricular_curso(curso4)\n",
    "estudiante2.matricular_curso(curso5)\n",
    "estudiante2.matricular_curso(curso6)\n",
    "print('---------------------------------')\n",
    "estudiante3.matricular_curso(curso1)\n",
    "estudiante3.matricular_curso(curso2)\n",
    "estudiante3.matricular_curso(curso3)\n",
    "estudiante3.matricular_curso(curso4)\n",
    "estudiante3.matricular_curso(curso5)\n",
    "estudiante3.matricular_curso(curso6)\n",
    "print('---------------------------------')\n",
    "estudiante4.matricular_curso(curso1)\n",
    "estudiante4.matricular_curso(curso2)\n",
    "estudiante4.matricular_curso(curso3)\n",
    "estudiante4.matricular_curso(curso4)\n",
    "estudiante4.matricular_curso(curso5)\n",
    "estudiante4.matricular_curso(curso6)\n",
    "print('---------------------------------')\n",
    "estudiante5.matricular_curso(curso1)\n",
    "estudiante5.matricular_curso(curso2)\n",
    "estudiante5.matricular_curso(curso3)\n",
    "estudiante5.matricular_curso(curso4)\n",
    "estudiante5.matricular_curso(curso5)\n",
    "estudiante5.matricular_curso(curso6)\n"
   ]
  },
  {
   "cell_type": "code",
   "execution_count": 6,
   "metadata": {},
   "outputs": [
    {
     "name": "stdout",
     "output_type": "stream",
     "text": [
      "Estudiante(Juan, Perez, a@a, 123, 1, Ing. de Sistemas, ULIMA, 001, ['Curso 1', 'Curso 2', 'Curso 3', 'Curso 4', 'Curso 5', 'Curso 6'])\n",
      "Estudiante(Maria, Gomez, c@c, 789, 2, Ing. de Sistemas, ULIMA, 002, ['Curso 1', 'Curso 2', 'Curso 3', 'Curso 4', 'Curso 5', 'Curso 6'])\n",
      "Estudiante(Pedro, Torres, b@b, 456, 3, Ing. de Sistemas, ULIMA, 003, ['Curso 1', 'Curso 2', 'Curso 3', 'Curso 4', 'Curso 5', 'Curso 6'])\n",
      "Estudiante(Ana, Lopez, d@d, 101, 4, Ing. de Sistemas, ULIMA, 004, ['Curso 1', 'Curso 2', 'Curso 3', 'Curso 4', 'Curso 5', 'Curso 6'])\n",
      "Estudiante(Luis, Garcia, e@e, 202, 5, Ing. de Sistemas, ULIMA, 005, ['Curso 1', 'Curso 2', 'Curso 3', 'Curso 4', 'Curso 5', 'Curso 6'])\n",
      "---------------------------------\n",
      "{'nombre': 'Juan', 'apellidos': 'Perez', 'correo': 'a@a', 'ciclo': '1', 'carrera': 'Ing. de Sistemas', 'universidad': 'ULIMA', 'codigo': '001', 'cursos': ['Curso 1', 'Curso 2', 'Curso 3', 'Curso 4', 'Curso 5', 'Curso 6']}\n",
      "{'nombre': 'Maria', 'apellidos': 'Gomez', 'correo': 'c@c', 'ciclo': '2', 'carrera': 'Ing. de Sistemas', 'universidad': 'ULIMA', 'codigo': '002', 'cursos': ['Curso 1', 'Curso 2', 'Curso 3', 'Curso 4', 'Curso 5', 'Curso 6']}\n",
      "{'nombre': 'Pedro', 'apellidos': 'Torres', 'correo': 'b@b', 'ciclo': '3', 'carrera': 'Ing. de Sistemas', 'universidad': 'ULIMA', 'codigo': '003', 'cursos': ['Curso 1', 'Curso 2', 'Curso 3', 'Curso 4', 'Curso 5', 'Curso 6']}\n",
      "{'nombre': 'Ana', 'apellidos': 'Lopez', 'correo': 'd@d', 'ciclo': '4', 'carrera': 'Ing. de Sistemas', 'universidad': 'ULIMA', 'codigo': '004', 'cursos': ['Curso 1', 'Curso 2', 'Curso 3', 'Curso 4', 'Curso 5', 'Curso 6']}\n",
      "{'nombre': 'Luis', 'apellidos': 'Garcia', 'correo': 'e@e', 'ciclo': '5', 'carrera': 'Ing. de Sistemas', 'universidad': 'ULIMA', 'codigo': '005', 'cursos': ['Curso 1', 'Curso 2', 'Curso 3', 'Curso 4', 'Curso 5', 'Curso 6']}\n",
      "---------------------------------\n",
      "Curso(Curso 1, Descripcion 1, Carlos Gomez, ['Juan', 'Maria', 'Pedro', 'Ana', 'Luis'], [])\n",
      "Curso(Curso 2, Descripcion 2, Carlos Gomez, ['Juan', 'Maria', 'Pedro', 'Ana', 'Luis'], [])\n",
      "Curso(Curso 3, Descripcion 3, Luis Torres, ['Juan', 'Maria', 'Pedro', 'Ana', 'Luis'], [])\n",
      "Curso(Curso 4, Descripcion 4, Luis Torres, ['Juan', 'Maria', 'Pedro', 'Ana', 'Luis'], [])\n",
      "Curso(Curso 5, Descripcion 5, Ana Lopez, ['Juan', 'Maria', 'Pedro', 'Ana', 'Luis'], [])\n",
      "Curso(Curso 6, Descripcion 6, Ana Lopez, ['Juan', 'Maria', 'Pedro', 'Ana', 'Luis'], [])\n",
      "---------------------------------\n",
      "{'nombre': 'Curso 1', 'descripcion': 'Descripcion 1', 'profesor': 'Carlos Gomez', 'estudiantes': ['Juan', 'Maria', 'Pedro', 'Ana', 'Luis'], 'horarios': []}\n",
      "{'nombre': 'Curso 2', 'descripcion': 'Descripcion 2', 'profesor': 'Carlos Gomez', 'estudiantes': ['Juan', 'Maria', 'Pedro', 'Ana', 'Luis'], 'horarios': []}\n",
      "{'nombre': 'Curso 3', 'descripcion': 'Descripcion 3', 'profesor': 'Luis Torres', 'estudiantes': ['Juan', 'Maria', 'Pedro', 'Ana', 'Luis'], 'horarios': []}\n",
      "{'nombre': 'Curso 4', 'descripcion': 'Descripcion 4', 'profesor': 'Luis Torres', 'estudiantes': ['Juan', 'Maria', 'Pedro', 'Ana', 'Luis'], 'horarios': []}\n",
      "{'nombre': 'Curso 5', 'descripcion': 'Descripcion 5', 'profesor': 'Ana Lopez', 'estudiantes': ['Juan', 'Maria', 'Pedro', 'Ana', 'Luis'], 'horarios': []}\n",
      "{'nombre': 'Curso 6', 'descripcion': 'Descripcion 6', 'profesor': 'Ana Lopez', 'estudiantes': ['Juan', 'Maria', 'Pedro', 'Ana', 'Luis'], 'horarios': []}\n",
      "---------------------------------\n",
      "['Juan', 'Maria', 'Pedro', 'Ana', 'Luis']\n",
      "['Juan', 'Maria', 'Pedro', 'Ana', 'Luis']\n",
      "['Juan', 'Maria', 'Pedro', 'Ana', 'Luis']\n",
      "['Juan', 'Maria', 'Pedro', 'Ana', 'Luis']\n",
      "['Juan', 'Maria', 'Pedro', 'Ana', 'Luis']\n",
      "['Juan', 'Maria', 'Pedro', 'Ana', 'Luis']\n",
      "---------------------------------\n",
      "Carlos Gomez\n",
      "Carlos Gomez\n",
      "Luis Torres\n",
      "Luis Torres\n",
      "Ana Lopez\n",
      "Ana Lopez\n"
     ]
    }
   ],
   "source": [
    "print(str(estudiante1)+'\\n'+str(estudiante2)+'\\n'+str(estudiante3)+'\\n'+str(estudiante4)+'\\n'+str(estudiante5))\n",
    "print('---------------------------------')\n",
    "print(str(estudiante1.obtener_datos())+'\\n'+str(estudiante2.obtener_datos())+'\\n'+str(estudiante3.obtener_datos())+'\\n'+str(estudiante4.obtener_datos())+'\\n'+str(estudiante5.obtener_datos()))\n",
    "print('---------------------------------')\n",
    "print(str(curso1)+'\\n'+str(curso2)+'\\n'+str(curso3)+'\\n'+str(curso4)+'\\n'+str(curso5)+'\\n'+str(curso6))\n",
    "print('---------------------------------')\n",
    "print(str(curso1.obtener_datos())+'\\n'+str(curso2.obtener_datos())+'\\n'+str(curso3.obtener_datos())+'\\n'+str(curso4.obtener_datos())+'\\n'+str(curso5.obtener_datos())+'\\n'+str(curso6.obtener_datos()))\n",
    "print('---------------------------------')\n",
    "print(str(curso1.obtener_estudiantes())+'\\n'+str(curso2.obtener_estudiantes())+'\\n'+str(curso3.obtener_estudiantes())+'\\n'+str(curso4.obtener_estudiantes())+'\\n'+str(curso5.obtener_estudiantes())+'\\n'+str(curso6.obtener_estudiantes()))\n",
    "print('---------------------------------')\n",
    "print(str(curso1.obtener_profesor())+'\\n'+str(curso2.obtener_profesor())+'\\n'+str(curso3.obtener_profesor())+'\\n'+str(curso4.obtener_profesor())+'\\n'+str(curso5.obtener_profesor())+'\\n'+str(curso6.obtener_profesor()))\n"
   ]
  },
  {
   "cell_type": "code",
   "execution_count": 7,
   "metadata": {},
   "outputs": [
    {
     "name": "stdout",
     "output_type": "stream",
     "text": [
      "['Curso 1', 'Curso 2', 'Curso 3', 'Curso 4', 'Curso 5', 'Curso 6']\n",
      "['Curso 1', 'Curso 2', 'Curso 3', 'Curso 4', 'Curso 5', 'Curso 6']\n",
      "['Curso 1', 'Curso 2', 'Curso 3', 'Curso 4', 'Curso 5', 'Curso 6']\n",
      "['Curso 1', 'Curso 2', 'Curso 3', 'Curso 4', 'Curso 5', 'Curso 6']\n",
      "['Curso 1', 'Curso 2', 'Curso 3', 'Curso 4', 'Curso 5', 'Curso 6']\n",
      "---------------------------------\n",
      "['Curso 1', 'Curso 2']\n",
      "['Curso 3', 'Curso 4']\n",
      "['Curso 5', 'Curso 6']\n"
     ]
    }
   ],
   "source": [
    "print(estudiante1.obtener_cursos())\n",
    "print(estudiante2.obtener_cursos()) \n",
    "print(estudiante3.obtener_cursos())\n",
    "print(estudiante4.obtener_cursos())\n",
    "print(estudiante5.obtener_cursos())\n",
    "print('---------------------------------')\n",
    "print(profesor1.obtener_cursos())\n",
    "print(profesor2.obtener_cursos())\n",
    "print(profesor3.obtener_cursos())\n"
   ]
  },
  {
   "cell_type": "code",
   "execution_count": 8,
   "metadata": {},
   "outputs": [
    {
     "name": "stdout",
     "output_type": "stream",
     "text": [
      "['Juan(Curso 1)', 'Maria(Curso 1)', 'Pedro(Curso 1)', 'Ana(Curso 1)', 'Luis(Curso 1)', 'Juan(Curso 2)', 'Maria(Curso 2)', 'Pedro(Curso 2)', 'Ana(Curso 2)', 'Luis(Curso 2)']\n",
      "['Juan(Curso 3)', 'Maria(Curso 3)', 'Pedro(Curso 3)', 'Ana(Curso 3)', 'Luis(Curso 3)', 'Juan(Curso 4)', 'Maria(Curso 4)', 'Pedro(Curso 4)', 'Ana(Curso 4)', 'Luis(Curso 4)']\n",
      "['Juan(Curso 5)', 'Maria(Curso 5)', 'Pedro(Curso 5)', 'Ana(Curso 5)', 'Luis(Curso 5)', 'Juan(Curso 6)', 'Maria(Curso 6)', 'Pedro(Curso 6)', 'Ana(Curso 6)', 'Luis(Curso 6)']\n"
     ]
    }
   ],
   "source": [
    "print(profesor1.ver_estudiantes())\n",
    "print(profesor2.ver_estudiantes())\n",
    "print(profesor3.ver_estudiantes())\n"
   ]
  },
  {
   "cell_type": "code",
   "execution_count": 9,
   "metadata": {},
   "outputs": [
    {
     "name": "stdout",
     "output_type": "stream",
     "text": [
      "Horario creado con exito.\n",
      "Horario creado con exito.\n",
      "Horario creado con exito.\n",
      "Horario creado con exito.\n",
      "Horario creado con exito.\n",
      "Horario creado con exito.\n",
      "Horario creado con exito.\n",
      "Horario creado con exito.\n",
      "Horario creado con exito.\n",
      "Horario creado con exito.\n",
      "Horario creado con exito.\n",
      "Horario creado con exito.\n",
      "Horario creado con exito.\n",
      "Horario creado con exito.\n",
      "Horario creado con exito.\n",
      "---------------------------------\n",
      "Horario(Curso 1, Lunes de 8:00 a 10:00)\n",
      "Horario(Curso 1, Martes de 8:00 a 10:00)\n",
      "Horario(Curso 1, Miercoles de 8:00 a 10:00)\n",
      "Horario(Curso 2, Jueves de 8:00 a 10:00)\n",
      "Horario(Curso 2, Viernes de 8:00 a 10:00)\n",
      "Horario(Curso 3, Lunes de 10:00 a 12:00)\n",
      "Horario(Curso 3, Martes de 10:00 a 12:00)\n",
      "Horario(Curso 3, Miercoles de 10:00 a 12:00)\n",
      "Horario(Curso 4, Jueves de 10:00 a 12:00)\n",
      "Horario(Curso 4, Viernes de 10:00 a 12:00)\n",
      "Horario(Curso 5, Lunes de 14:00 a 16:00)\n",
      "Horario(Curso 5, Martes de 14:00 a 16:00)\n",
      "Horario(Curso 5, Miercoles de 14:00 a 16:00)\n",
      "Horario(Curso 6, Jueves de 14:00 a 16:00)\n",
      "Horario(Curso 6, Viernes de 14:00 a 16:00)\n"
     ]
    }
   ],
   "source": [
    "horario1 = profesor1.crear_horario(curso1, 'Lunes', '8:00', '10:00')\n",
    "horario2 = profesor1.crear_horario(curso1, 'Martes', '8:00', '10:00')\n",
    "horario3 = profesor1.crear_horario(curso1, 'Miercoles', '8:00', '10:00')\n",
    "horario4 = profesor1.crear_horario(curso2, 'Jueves', '8:00', '10:00')\n",
    "horario5 = profesor1.crear_horario(curso2, 'Viernes', '8:00', '10:00')\n",
    "horario6 = profesor2.crear_horario(curso3, 'Lunes', '10:00', '12:00')\n",
    "horario7 = profesor2.crear_horario(curso3, 'Martes', '10:00', '12:00')\n",
    "horario8 = profesor2.crear_horario(curso3, 'Miercoles', '10:00', '12:00')\n",
    "horario9 = profesor2.crear_horario(curso4, 'Jueves', '10:00', '12:00')\n",
    "horario10 = profesor2.crear_horario(curso4, 'Viernes', '10:00', '12:00')\n",
    "horario11 = profesor3.crear_horario(curso5, 'Lunes', '14:00', '16:00')\n",
    "horario12 = profesor3.crear_horario(curso5, 'Martes', '14:00', '16:00')\n",
    "horario13 = profesor3.crear_horario(curso5, 'Miercoles', '14:00', '16:00')\n",
    "horario14 = profesor3.crear_horario(curso6, 'Jueves', '14:00', '16:00')\n",
    "horario15 = profesor3.crear_horario(curso6, 'Viernes', '14:00', '16:00')\n",
    "print('---------------------------------')\n",
    "print(str(horario1)+'\\n'+str(horario2)+'\\n'+str(horario3)+'\\n'+str(horario4)+'\\n'+str(horario5)+'\\n'+str(horario6)+'\\n'+str(horario7)+'\\n'+str(horario8)+'\\n'+str(horario9)+'\\n'+str(horario10)+'\\n'+str(horario11)+'\\n'+str(horario12)+'\\n'+str(horario13)+'\\n'+str(horario14)+'\\n'+str(horario15))\n"
   ]
  },
  {
   "cell_type": "code",
   "execution_count": 10,
   "metadata": {},
   "outputs": [
    {
     "name": "stdout",
     "output_type": "stream",
     "text": [
      "[{'curso': 'Curso 1', 'dia': 'Lunes', 'hora_inicio': '8:00', 'hora_fin': '10:00'}, {'curso': 'Curso 1', 'dia': 'Martes', 'hora_inicio': '8:00', 'hora_fin': '10:00'}, {'curso': 'Curso 1', 'dia': 'Miercoles', 'hora_inicio': '8:00', 'hora_fin': '10:00'}]\n",
      "[{'curso': 'Curso 2', 'dia': 'Jueves', 'hora_inicio': '8:00', 'hora_fin': '10:00'}, {'curso': 'Curso 2', 'dia': 'Viernes', 'hora_inicio': '8:00', 'hora_fin': '10:00'}]\n",
      "[{'curso': 'Curso 3', 'dia': 'Lunes', 'hora_inicio': '10:00', 'hora_fin': '12:00'}, {'curso': 'Curso 3', 'dia': 'Martes', 'hora_inicio': '10:00', 'hora_fin': '12:00'}, {'curso': 'Curso 3', 'dia': 'Miercoles', 'hora_inicio': '10:00', 'hora_fin': '12:00'}]\n",
      "[{'curso': 'Curso 4', 'dia': 'Jueves', 'hora_inicio': '10:00', 'hora_fin': '12:00'}, {'curso': 'Curso 4', 'dia': 'Viernes', 'hora_inicio': '10:00', 'hora_fin': '12:00'}]\n",
      "[{'curso': 'Curso 5', 'dia': 'Lunes', 'hora_inicio': '14:00', 'hora_fin': '16:00'}, {'curso': 'Curso 5', 'dia': 'Martes', 'hora_inicio': '14:00', 'hora_fin': '16:00'}, {'curso': 'Curso 5', 'dia': 'Miercoles', 'hora_inicio': '14:00', 'hora_fin': '16:00'}]\n",
      "[{'curso': 'Curso 6', 'dia': 'Jueves', 'hora_inicio': '14:00', 'hora_fin': '16:00'}, {'curso': 'Curso 6', 'dia': 'Viernes', 'hora_inicio': '14:00', 'hora_fin': '16:00'}]\n"
     ]
    }
   ],
   "source": [
    "print(curso1.obtener_horarios())\n",
    "print(curso2.obtener_horarios())\n",
    "print(curso3.obtener_horarios())\n",
    "print(curso4.obtener_horarios())\n",
    "print(curso5.obtener_horarios())\n",
    "print(curso6.obtener_horarios())\n"
   ]
  },
  {
   "cell_type": "code",
   "execution_count": 11,
   "metadata": {},
   "outputs": [
    {
     "name": "stdout",
     "output_type": "stream",
     "text": [
      "['Carlos', 'Luis', 'Ana']\n",
      "['Carlos', 'Luis', 'Ana']\n",
      "['Carlos', 'Luis', 'Ana']\n",
      "['Carlos', 'Luis', 'Ana']\n",
      "['Carlos', 'Luis', 'Ana']\n"
     ]
    }
   ],
   "source": [
    "print(estudiante1.ver_profesores())\n",
    "print(estudiante2.ver_profesores())\n",
    "print(estudiante3.ver_profesores())\n",
    "print(estudiante4.ver_profesores())\n",
    "print(estudiante5.ver_profesores())\n"
   ]
  },
  {
   "cell_type": "code",
   "execution_count": 12,
   "metadata": {},
   "outputs": [
    {
     "name": "stdout",
     "output_type": "stream",
     "text": [
      "Estudiante Juan retirado del curso \"Curso 1\".\n",
      "Estudiante Juan retirado del curso \"Curso 2\".\n",
      "No estás matriculado en ningún curso del profesor Carlos para calificarlo.\n"
     ]
    },
    {
     "data": {
      "text/plain": [
       "['Luis', 'Ana']"
      ]
     },
     "execution_count": 12,
     "metadata": {},
     "output_type": "execute_result"
    }
   ],
   "source": [
    "estudiante1.retirar_curso(curso1)\n",
    "estudiante1.retirar_curso(curso2)\n",
    "estudiante1.calificar_profesor(profesor1, 5)\n",
    "estudiante1.ver_profesores()\n"
   ]
  },
  {
   "cell_type": "code",
   "execution_count": 13,
   "metadata": {},
   "outputs": [
    {
     "name": "stdout",
     "output_type": "stream",
     "text": [
      "Profesor Luis calificado con éxito.\n",
      "Estudiante ya ha calificado al profesor Luis.\n"
     ]
    }
   ],
   "source": [
    "estudiante1.calificar_profesor(profesor2, 4)\n",
    "estudiante1.calificar_profesor(profesor2, 3)"
   ]
  },
  {
   "cell_type": "code",
   "execution_count": 14,
   "metadata": {},
   "outputs": [
    {
     "name": "stdout",
     "output_type": "stream",
     "text": [
      "Profesor Ana calificado con éxito.\n",
      "Profesor Carlos calificado con éxito.\n",
      "Profesor Luis calificado con éxito.\n",
      "Profesor Ana calificado con éxito.\n",
      "Profesor Carlos calificado con éxito.\n",
      "Profesor Luis calificado con éxito.\n",
      "Profesor Ana calificado con éxito.\n",
      "Profesor Carlos calificado con éxito.\n",
      "Profesor Luis calificado con éxito.\n",
      "Profesor Ana calificado con éxito.\n",
      "Profesor Carlos calificado con éxito.\n",
      "Profesor Luis calificado con éxito.\n",
      "Profesor Ana calificado con éxito.\n"
     ]
    }
   ],
   "source": [
    "estudiante1.calificar_profesor(profesor3, 2)\n",
    "estudiante2.calificar_profesor(profesor1, 1)\n",
    "estudiante2.calificar_profesor(profesor2, 2)\n",
    "estudiante2.calificar_profesor(profesor3, 3)\n",
    "estudiante3.calificar_profesor(profesor1, 4)\n",
    "estudiante3.calificar_profesor(profesor2, 5)\n",
    "estudiante3.calificar_profesor(profesor3, 1)\n",
    "estudiante4.calificar_profesor(profesor1, 2)\n",
    "estudiante4.calificar_profesor(profesor2, 3)\n",
    "estudiante4.calificar_profesor(profesor3, 4)\n",
    "estudiante5.calificar_profesor(profesor1, 5)\n",
    "estudiante5.calificar_profesor(profesor2, 1)\n",
    "estudiante5.calificar_profesor(profesor3, 2)\n"
   ]
  },
  {
   "cell_type": "code",
   "execution_count": 15,
   "metadata": {},
   "outputs": [
    {
     "name": "stdout",
     "output_type": "stream",
     "text": [
      "['Luis', 'Ana']\n",
      "['Curso 3', 'Curso 4', 'Curso 5', 'Curso 6']\n"
     ]
    }
   ],
   "source": [
    "print(estudiante1.ver_profesores())\n",
    "print(estudiante1.obtener_cursos())"
   ]
  },
  {
   "cell_type": "code",
   "execution_count": 16,
   "metadata": {},
   "outputs": [
    {
     "name": "stdout",
     "output_type": "stream",
     "text": [
      "Estudiante Juan matriculado al curso \"Curso 1\" con exito.\n",
      "Estudiante Juan matriculado al curso \"Curso 2\" con exito.\n",
      "---------------------------------\n",
      "['Luis', 'Ana', 'Carlos']\n",
      "['Curso 3', 'Curso 4', 'Curso 5', 'Curso 6', 'Curso 1', 'Curso 2']\n"
     ]
    }
   ],
   "source": [
    "estudiante1.matricular_curso(curso1)\n",
    "estudiante1.matricular_curso(curso2)\n",
    "print('---------------------------------')\n",
    "print(estudiante1.ver_profesores())\n",
    "print(estudiante1.obtener_cursos())"
   ]
  },
  {
   "cell_type": "code",
   "execution_count": 17,
   "metadata": {},
   "outputs": [
    {
     "name": "stdout",
     "output_type": "stream",
     "text": [
      "Estudiante Maria retirado del curso \"Curso 1\".\n",
      "Estudiante Ana retirado del curso \"Curso 1\".\n",
      "Estudiante Juan retirado del curso \"Curso 1\".\n",
      "Curso \"Curso 1\" eliminado con éxito.\n",
      "Estudiante Maria retirado del curso \"Curso 2\".\n",
      "Estudiante Ana retirado del curso \"Curso 2\".\n",
      "Estudiante Juan retirado del curso \"Curso 2\".\n",
      "Curso \"Curso 2\" eliminado con éxito.\n",
      "---------------------------------\n",
      "['Luis', 'Ana']\n",
      "['Curso 3', 'Curso 4', 'Curso 5', 'Curso 6']\n"
     ]
    }
   ],
   "source": [
    "profesor1.eliminar_curso(curso1)\n",
    "profesor1.eliminar_curso(curso2)\n",
    "print('---------------------------------')\n",
    "print(estudiante1.ver_profesores())\n",
    "print(estudiante1.obtener_cursos())"
   ]
  },
  {
   "cell_type": "code",
   "execution_count": 18,
   "metadata": {},
   "outputs": [
    {
     "data": {
      "text/plain": [
       "[]"
      ]
     },
     "execution_count": 18,
     "metadata": {},
     "output_type": "execute_result"
    }
   ],
   "source": [
    "profesor1.obtener_cursos()"
   ]
  },
  {
   "cell_type": "code",
   "execution_count": 19,
   "metadata": {},
   "outputs": [
    {
     "name": "stdout",
     "output_type": "stream",
     "text": [
      "3.0\n",
      "3.0\n",
      "2.4\n"
     ]
    }
   ],
   "source": [
    "print(profesor1.obtener_puntuacion())\n",
    "print(profesor2.obtener_puntuacion())\n",
    "print(profesor3.obtener_puntuacion())"
   ]
  },
  {
   "cell_type": "code",
   "execution_count": 20,
   "metadata": {},
   "outputs": [
    {
     "data": {
      "text/plain": [
       "['Curso 3', 'Curso 4', 'Curso 5', 'Curso 6']"
      ]
     },
     "execution_count": 20,
     "metadata": {},
     "output_type": "execute_result"
    }
   ],
   "source": [
    "estudiante1.obtener_cursos()"
   ]
  },
  {
   "cell_type": "code",
   "execution_count": 21,
   "metadata": {},
   "outputs": [
    {
     "name": "stdout",
     "output_type": "stream",
     "text": [
      "Curso modificado con éxito.\n"
     ]
    }
   ],
   "source": [
    "profesor2.modificar_curso(curso3, 'Curso 3 Moficicado', 'Descripcion 3 Modificado')"
   ]
  },
  {
   "cell_type": "code",
   "execution_count": 22,
   "metadata": {},
   "outputs": [
    {
     "data": {
      "text/plain": [
       "['Curso 3 Moficicado', 'Curso 4', 'Curso 5', 'Curso 6']"
      ]
     },
     "execution_count": 22,
     "metadata": {},
     "output_type": "execute_result"
    }
   ],
   "source": [
    "estudiante1.obtener_cursos()"
   ]
  },
  {
   "cell_type": "code",
   "execution_count": 23,
   "metadata": {},
   "outputs": [
    {
     "data": {
      "text/plain": [
       "[{'curso': 'Curso 3 Moficicado',\n",
       "  'dia': 'Lunes',\n",
       "  'hora_inicio': '10:00',\n",
       "  'hora_fin': '12:00'},\n",
       " {'curso': 'Curso 3 Moficicado',\n",
       "  'dia': 'Martes',\n",
       "  'hora_inicio': '10:00',\n",
       "  'hora_fin': '12:00'},\n",
       " {'curso': 'Curso 3 Moficicado',\n",
       "  'dia': 'Miercoles',\n",
       "  'hora_inicio': '10:00',\n",
       "  'hora_fin': '12:00'}]"
      ]
     },
     "execution_count": 23,
     "metadata": {},
     "output_type": "execute_result"
    }
   ],
   "source": [
    "curso3.obtener_horarios()"
   ]
  },
  {
   "cell_type": "code",
   "execution_count": 24,
   "metadata": {},
   "outputs": [
    {
     "name": "stdout",
     "output_type": "stream",
     "text": [
      "Horario modificado con exito.\n"
     ]
    }
   ],
   "source": [
    "profesor2.modificar_horario(curso3, horario6, 'Lunes', '8:00', '10:00')"
   ]
  },
  {
   "cell_type": "code",
   "execution_count": 25,
   "metadata": {},
   "outputs": [
    {
     "data": {
      "text/plain": [
       "[{'curso': 'Curso 3 Moficicado',\n",
       "  'dia': 'Lunes',\n",
       "  'hora_inicio': '8:00',\n",
       "  'hora_fin': '10:00'},\n",
       " {'curso': 'Curso 3 Moficicado',\n",
       "  'dia': 'Martes',\n",
       "  'hora_inicio': '10:00',\n",
       "  'hora_fin': '12:00'},\n",
       " {'curso': 'Curso 3 Moficicado',\n",
       "  'dia': 'Miercoles',\n",
       "  'hora_inicio': '10:00',\n",
       "  'hora_fin': '12:00'}]"
      ]
     },
     "execution_count": 25,
     "metadata": {},
     "output_type": "execute_result"
    }
   ],
   "source": [
    "curso3.obtener_horarios()"
   ]
  },
  {
   "cell_type": "code",
   "execution_count": 26,
   "metadata": {},
   "outputs": [
    {
     "name": "stdout",
     "output_type": "stream",
     "text": [
      "Horario eliminado con exito.\n"
     ]
    }
   ],
   "source": [
    "profesor2.eliminar_horario(curso3, horario6)"
   ]
  },
  {
   "cell_type": "code",
   "execution_count": 27,
   "metadata": {},
   "outputs": [
    {
     "data": {
      "text/plain": [
       "[{'curso': 'Curso 3 Moficicado',\n",
       "  'dia': 'Martes',\n",
       "  'hora_inicio': '10:00',\n",
       "  'hora_fin': '12:00'},\n",
       " {'curso': 'Curso 3 Moficicado',\n",
       "  'dia': 'Miercoles',\n",
       "  'hora_inicio': '10:00',\n",
       "  'hora_fin': '12:00'}]"
      ]
     },
     "execution_count": 27,
     "metadata": {},
     "output_type": "execute_result"
    }
   ],
   "source": [
    "curso3.obtener_horarios()"
   ]
  }
 ],
 "metadata": {
  "kernelspec": {
   "display_name": "Python 3",
   "language": "python",
   "name": "python3"
  },
  "language_info": {
   "codemirror_mode": {
    "name": "ipython",
    "version": 3
   },
   "file_extension": ".py",
   "mimetype": "text/x-python",
   "name": "python",
   "nbconvert_exporter": "python",
   "pygments_lexer": "ipython3",
   "version": "3.10.9"
  }
 },
 "nbformat": 4,
 "nbformat_minor": 2
}
