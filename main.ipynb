{
 "cells": [
  {
   "cell_type": "code",
   "execution_count": 1,
   "metadata": {},
   "outputs": [],
   "source": [
    "from profesor import Profesor\n",
    "from estudiante import Estudiante"
   ]
  },
  {
   "cell_type": "code",
   "execution_count": 2,
   "metadata": {},
   "outputs": [
    {
     "name": "stdout",
     "output_type": "stream",
     "text": [
      "ESTUDIANTE: Juan Perez\n",
      " - Correo: a@a\n",
      " - Contrasena: 123\n",
      " - Ciclo: 1\n",
      " - Carrera: Ing. de Sistemas\n",
      " - Universidad: UNI\n",
      " - Codigo: 001\n",
      " - Cursos: []\n",
      "ESTUDIANTE: Maria Gomez\n",
      " - Correo: c@c\n",
      " - Contrasena: 789\n",
      " - Ciclo: 2\n",
      " - Carrera: Ing. de Sistemas\n",
      " - Universidad: UNI\n",
      " - Codigo: 002\n",
      " - Cursos: []\n"
     ]
    }
   ],
   "source": [
    "estudiante1 = Estudiante('Juan', 'Perez', 'a@a', '123', '1', 'Ing. de Sistemas', 'UNI', '001')\n",
    "estudiante2 = Estudiante('Maria', 'Gomez', 'c@c', '789', '2', 'Ing. de Sistemas', 'UNI', '002')\n",
    "estudiante1.get_datos()\n",
    "estudiante2.get_datos()"
   ]
  },
  {
   "cell_type": "code",
   "execution_count": 3,
   "metadata": {},
   "outputs": [
    {
     "name": "stdout",
     "output_type": "stream",
     "text": [
      "PROFESOR: Pedro Garcia\n",
      " - Correo: b@b\n",
      " - Contrasena: 456\n",
      " - Profesion: Ing. de Sistemas\n",
      " - Centro laboral: UNI\n",
      " - Cursos: []\n",
      "PROFESOR: Ana Lopez\n",
      " - Correo: d@d\n",
      " - Contrasena: 101\n",
      " - Profesion: Ing. de Sistemas\n",
      " - Centro laboral: UNI\n",
      " - Cursos: []\n"
     ]
    }
   ],
   "source": [
    "profesor1 = Profesor('Pedro', 'Garcia', 'b@b', '456', 'Ing. de Sistemas', 'UNI')\n",
    "profesor2 = Profesor('Ana', 'Lopez', 'd@d', '101', 'Ing. de Sistemas', 'UNI')\n",
    "profesor1.get_datos()\n",
    "profesor2.get_datos()"
   ]
  },
  {
   "cell_type": "code",
   "execution_count": 4,
   "metadata": {},
   "outputs": [
    {
     "name": "stdout",
     "output_type": "stream",
     "text": [
      "Curso Curso 1 creado con exito.\n",
      "Curso Curso 2 creado con exito.\n",
      "Curso Curso 3 creado con exito.\n"
     ]
    }
   ],
   "source": [
    "curso1 = profesor1.crear_curso('Curso 1', 'Descripcion 1')\n",
    "curso2 = profesor1.crear_curso('Curso 2', 'Descripcion 2')\n",
    "curso3 = profesor2.crear_curso('Curso 3', 'Descripcion 3')"
   ]
  },
  {
   "cell_type": "code",
   "execution_count": 5,
   "metadata": {},
   "outputs": [
    {
     "name": "stdout",
     "output_type": "stream",
     "text": [
      "CURSO: Curso 1\n",
      " - Descripcion: Descripcion 1\n",
      "Pedro Garcia\n",
      " - Profesor: None\n",
      " - Estudiantes: []\n",
      "CURSO: Curso 2\n",
      " - Descripcion: Descripcion 2\n",
      "Pedro Garcia\n",
      " - Profesor: None\n",
      " - Estudiantes: []\n",
      "CURSO: Curso 3\n",
      " - Descripcion: Descripcion 3\n",
      "Ana Lopez\n",
      " - Profesor: None\n",
      " - Estudiantes: []\n"
     ]
    }
   ],
   "source": [
    "curso1.get_datos()\n",
    "curso2.get_datos()\n",
    "curso3.get_datos()"
   ]
  },
  {
   "cell_type": "code",
   "execution_count": 6,
   "metadata": {},
   "outputs": [
    {
     "name": "stdout",
     "output_type": "stream",
     "text": [
      "Estudiante Juan matriculado al curso \"Curso 1\" con exito.\n",
      "Estudiante Maria matriculado al curso \"Curso 1\" con exito.\n",
      "Estudiante Juan matriculado al curso \"Curso 2\" con exito.\n",
      "Estudiante Juan matriculado al curso \"Curso 3\" con exito.\n"
     ]
    }
   ],
   "source": [
    "estudiante1.matricular_curso(curso1)\n",
    "estudiante2.matricular_curso(curso1)\n",
    "estudiante1.matricular_curso(curso2)\n",
    "estudiante1.matricular_curso(curso3)"
   ]
  },
  {
   "cell_type": "code",
   "execution_count": 7,
   "metadata": {},
   "outputs": [
    {
     "name": "stdout",
     "output_type": "stream",
     "text": [
      "CURSO: Curso 1\n",
      " - Descripcion: Descripcion 1\n",
      "Pedro Garcia\n",
      " - Profesor: None\n",
      "['Juan', 'Maria']\n",
      " - Estudiantes: None\n",
      "CURSO: Curso 2\n",
      " - Descripcion: Descripcion 2\n",
      "Pedro Garcia\n",
      " - Profesor: None\n",
      "['Juan']\n",
      " - Estudiantes: None\n",
      "CURSO: Curso 3\n",
      " - Descripcion: Descripcion 3\n",
      "Ana Lopez\n",
      " - Profesor: None\n",
      "['Juan']\n",
      " - Estudiantes: None\n"
     ]
    }
   ],
   "source": [
    "curso1.get_datos()\n",
    "curso2.get_datos()\n",
    "curso3.get_datos()"
   ]
  },
  {
   "cell_type": "code",
   "execution_count": 8,
   "metadata": {},
   "outputs": [
    {
     "name": "stdout",
     "output_type": "stream",
     "text": [
      "['Juan', 'Maria']\n",
      "['Juan']\n",
      "['Juan']\n"
     ]
    }
   ],
   "source": [
    "curso1.get_estudiantes()\n",
    "curso2.get_estudiantes()\n",
    "curso3.get_estudiantes()"
   ]
  },
  {
   "cell_type": "code",
   "execution_count": 9,
   "metadata": {},
   "outputs": [
    {
     "name": "stdout",
     "output_type": "stream",
     "text": [
      "Pedro Garcia\n",
      "Pedro Garcia\n",
      "Ana Lopez\n"
     ]
    }
   ],
   "source": [
    "curso1.get_profesor()\n",
    "curso2.get_profesor()\n",
    "curso3.get_profesor()"
   ]
  },
  {
   "cell_type": "code",
   "execution_count": 10,
   "metadata": {},
   "outputs": [
    {
     "name": "stdout",
     "output_type": "stream",
     "text": [
      "['Curso 1', 'Curso 2', 'Curso 3']\n",
      "['Curso 1']\n"
     ]
    }
   ],
   "source": [
    "estudiante1.get_cursos()\n",
    "estudiante2.get_cursos()"
   ]
  },
  {
   "cell_type": "code",
   "execution_count": 11,
   "metadata": {},
   "outputs": [
    {
     "name": "stdout",
     "output_type": "stream",
     "text": [
      "['Pedro', 'Ana']\n",
      "['Pedro']\n"
     ]
    }
   ],
   "source": [
    "estudiante1.ver_profesores()\n",
    "estudiante2.ver_profesores()"
   ]
  },
  {
   "cell_type": "code",
   "execution_count": 12,
   "metadata": {},
   "outputs": [
    {
     "name": "stdout",
     "output_type": "stream",
     "text": [
      "['Curso 1', 'Curso 2']\n",
      "['Curso 3']\n"
     ]
    }
   ],
   "source": [
    "profesor1.get_cursos()\n",
    "profesor2.get_cursos()"
   ]
  },
  {
   "cell_type": "code",
   "execution_count": null,
   "metadata": {},
   "outputs": [],
   "source": []
  }
 ],
 "metadata": {
  "kernelspec": {
   "display_name": "Python 3",
   "language": "python",
   "name": "python3"
  },
  "language_info": {
   "codemirror_mode": {
    "name": "ipython",
    "version": 3
   },
   "file_extension": ".py",
   "mimetype": "text/x-python",
   "name": "python",
   "nbconvert_exporter": "python",
   "pygments_lexer": "ipython3",
   "version": "3.11.5"
  }
 },
 "nbformat": 4,
 "nbformat_minor": 2
}
